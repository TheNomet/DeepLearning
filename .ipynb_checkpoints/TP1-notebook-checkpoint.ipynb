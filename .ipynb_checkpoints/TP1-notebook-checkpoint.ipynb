{
 "cells": [
  {
   "cell_type": "markdown",
   "metadata": {
    "collapsed": true,
    "deletable": true,
    "editable": true
   },
   "source": [
    "<h1 style=\"text-align:center\">Deep Learning  Lab Session </h1>\n",
    "<h1 style=\"text-align:center\">First Lab Session - 3 Hours </h1>\n",
    "<h1 style=\"text-align:center\">Artificial Neural Networks for Handwritten Digits Recognition</h1>"
   ]
  },
  {
   "cell_type": "markdown",
   "metadata": {
    "deletable": true,
    "editable": true
   },
   "source": [
    "<b> Student 1:</b> Matteo Fiore \n",
    "<b> Student 2:</b> Hanna Johansson\n",
    " \n",
    " \n",
    "The aim of this session is to practice with Artificial Neural Networks. Answers and experiments should be made by groups of one or two students. Each group should fill and run appropriate notebook cells. \n",
    "\n",
    "To generate your final report, use print as PDF (Ctrl+P). Do not forget to run all your cells before generating your final report and do not forget to include the names of all participants in the group. The lab session should be completed by April 7th 2017. "
   ]
  },
  {
   "cell_type": "markdown",
   "metadata": {
    "deletable": true,
    "editable": true
   },
   "source": [
    "# Introduction"
   ]
  },
  {
   "cell_type": "markdown",
   "metadata": {
    "deletable": true,
    "editable": true
   },
   "source": [
    "\n",
    "In this session, your will implement, train and test a Neural Network\n",
    "for the Handwritten Digits Recognition problem <a href=\"http://yann.lecun.com/exdb/mnist/\"> [1] </a> with  different settings of hyper parameters. You will use the MNIST dataset which was constructed from a number of scanned document dataset available from the National Institute of Standards and Technology (NIST). Images of digits were taken from a variety of scanned documents, normalized in size and centered. \n",
    "\n",
    "\n",
    "<img src=\"Nimages/mnist.png\",width=\"350\" height=\"500\" align=\"center\">\n",
    "<center><span>Figure 1: MNIST digits examples</span></center>\n",
    "\n",
    "\n",
    "This assignment includes a written part of programms to help you understand how to build and train\n",
    "your neural net and then to test your code and get restults. \n",
    "\n",
    "1. <a href=\"NeuralNetwork.py\"> NeuralNetwork.py </a> \n",
    "2. <a href=\"transfer_functions.py\"> transfer_functions.py </a> \n",
    "3.  <a href=\"utils.py \"> utils.py </a> \n",
    "\n",
    "\n",
    "Functions defined inside the python files mentionned above can be imported  using the python command : \n",
    "from filename import *\n",
    "\n",
    "You will use the following libraries:\n",
    "\n",
    "1. <a href=\"http://cs231n.github.io/python-numpy-tutorial/\"> numpy </a>: for creating arrays and using methods to manipulate arrays.\n",
    "\n",
    "2. <a href=\"http://matplotlib.org/\"> matplotlib  </a>: for making plots\n",
    " \n",
    "\n",
    "\n",
    "\n",
    "\n",
    "\n",
    "\n"
   ]
  },
  {
   "cell_type": "markdown",
   "metadata": {
    "deletable": true,
    "editable": true
   },
   "source": [
    "# Section 1 :  My First Neural Network\n",
    "\n",
    "<b>Part 1</b>: Before designing and writing your code, you will first work on a neural network by hand. \n",
    "Consider the above Neural network with two inputs $X=(x1,x2)$, one hidden layers and a single output unit $(y)$.\n",
    "The initial weights are set to random values. Neurons 6 and 7 represent the bias. Bias values are equal to 1.  \n",
    "Training sample, X = (0.8, 0.2), whose class label is Y=0.4.\n",
    "\n",
    "Assume that the neurons have a Sigmoid activation function  $f(x)=\\frac{1}{(1+e^{-x})}$ and the learning rate $\\mu$=1\n",
    "\n",
    "\n",
    "<img src=\"Nimages/NN.png\", width=\"700\" height=\"900\"> \n",
    "<center><span>Figure 2: Neural network </span></center>\n",
    "\n",
    "\n",
    "<b>Question 1.1.1</b>: Compute the new values of weights $w_{i,j}$ after a forward pass and a backward pass.\n",
    "$w_{i,j}$ is the weight of the connexion between neuron $i$ and neuron $j$."
   ]
  },
  {
   "cell_type": "markdown",
   "metadata": {
    "collapsed": true,
    "deletable": true,
    "editable": true
   },
   "source": [
    "#Your answer goes here :\n",
    "\n",
    "$w_{1,3}= 0.2959  $ \n",
    "\n",
    "$w_{1,4}= -0.4972$\n",
    "\n",
    "$w_{2,3}= 0.7990 $\n",
    "\n",
    "$w_{2,4}= 0.2007 $\n",
    "\n",
    "$w_{6,3}= 0.1948 $\n",
    "\n",
    "$w_{6,4}= -0.3965 $\n",
    "\n",
    "$w_{3,5}= -0.5746 $\n",
    "\n",
    "$w_{4,5}= 0.4126 $\n",
    "\n",
    "$w_{7,5}= 0.5394 $\n",
    "\n",
    "\n"
   ]
  },
  {
   "cell_type": "markdown",
   "metadata": {
    "deletable": true,
    "editable": true
   },
   "source": [
    "<b>Part 2</b>: Neural Network Implementation\n",
    "\n",
    "Please read all source files carefully and understand the data structures and all functions.\n",
    "You are to complete the missing code. \n",
    "First you should define the neural network (using the NeuralNetwork class, see in the <a href=\"NeuralNetwork.py\"> NeuralNetwork.py </a> file) and reinitialise weights. \n",
    "Then you will to complete the Feed Forward and the Back-propagation functions. \n",
    "\n",
    "<b>Question 1.2.1</b>: Define the neural network corresponding to the one in part 1"
   ]
  },
  {
   "cell_type": "code",
   "execution_count": 1,
   "metadata": {
    "collapsed": false,
    "deletable": true,
    "editable": true
   },
   "outputs": [],
   "source": [
    "from NeuralNetwork import *\n",
    "#create the network\n",
    "my_first_net = NeuralNetwork(2,2,1)"
   ]
  },
  {
   "cell_type": "code",
   "execution_count": 2,
   "metadata": {
    "collapsed": false,
    "deletable": true,
    "editable": true
   },
   "outputs": [
    {
     "name": "stdout",
     "output_type": "stream",
     "text": [
      "[[ 0.3 -0.5]\n",
      " [ 0.8  0.2]\n",
      " [ 0.2 -0.4]]\n",
      "[[-0.6]\n",
      " [ 0.4]\n",
      " [ 0.5]]\n"
     ]
    }
   ],
   "source": [
    "#Data preparation \n",
    "X=[0.8,0.2] #inputs\n",
    "Y=[0.4]\n",
    "data=[]\n",
    "data.append(X)\n",
    "data.append(Y)\n",
    "\n",
    "#initialize weights\n",
    "wi=np.array([[0.3,-0.5],[0.8,0.2],[0.2,-0.4]])\n",
    "wo=np.array([[-0.6],[0.4],[0.5]])\n",
    "my_first_net.weights_initialisation(wi,wo)\n",
    "print(my_first_net.W_input_to_hidden)\n",
    "print(my_first_net.W_hidden_to_output)\n"
   ]
  },
  {
   "cell_type": "markdown",
   "metadata": {
    "deletable": true,
    "editable": true
   },
   "source": [
    "<b>Question 1.2.2</b>: Implement the Feed Forward function (feedForward(X) in the NeuralNetwork.py file)\n",
    "\n"
   ]
  },
  {
   "cell_type": "markdown",
   "metadata": {},
   "source": [
    "##### Comment\n",
    "We added <i>t_func</i> so later on we will be able to arbitrary change the transfer function"
   ]
  },
  {
   "cell_type": "code",
   "execution_count": 3,
   "metadata": {
    "collapsed": false,
    "deletable": true,
    "editable": true
   },
   "outputs": [],
   "source": [
    "def feedForward(self, inputs, t_func=sigmoid):\n",
    "    # Compute input activations\n",
    "    self.a_input = np.array(np.append(inputs,[1]))\n",
    "\n",
    "    #Compute  hidden activations\n",
    "    self.a_hidden = np.append(self.a_input.dot(self.W_input_to_hidden),[1])\n",
    "\n",
    "    # Compute output activations\n",
    "    self.a_out = t_func(self.a_hidden).dot(self.W_hidden_to_output)\n",
    "    return t_func(self.a_out)\n"
   ]
  },
  {
   "cell_type": "markdown",
   "metadata": {
    "deletable": true,
    "editable": true
   },
   "source": [
    "Check your network outputs the expected value (the one you computed in question 1.1)"
   ]
  },
  {
   "cell_type": "code",
   "execution_count": 4,
   "metadata": {
    "collapsed": false,
    "deletable": true,
    "editable": true
   },
   "outputs": [
    {
     "name": "stdout",
     "output_type": "stream",
     "text": [
      "[ 0.526374]\n"
     ]
    }
   ],
   "source": [
    "#test my  Feed Forward function \n",
    "Output_activation=my_first_net.feedForward(X)\n",
    "# print(\"output activation =%.3f\" %(Output_activation))\n",
    "print(Output_activation)\n"
   ]
  },
  {
   "cell_type": "markdown",
   "metadata": {
    "deletable": true,
    "editable": true
   },
   "source": [
    "<b>Question 1.2.3</b>: Implement the Back-propagation Algorithm (backPropagate(Y) in the NeuralNetwork.py file)  \n"
   ]
  },
  {
   "cell_type": "markdown",
   "metadata": {
    "deletable": true,
    "editable": true
   },
   "source": [
    "Check the gradient values and weight updates are correct (similar to the ones you computed in question 1.1)"
   ]
  },
  {
   "cell_type": "markdown",
   "metadata": {},
   "source": [
    "##### Comment\n",
    "<i>**u_E_out**</i>  is a vector of size equal to the number of neurons in the output layer<br>\n",
    "<i>**w_E_out**</i>  is a matrix: each row correspond to a neuron in the hidden layer and the columns correspond to the neurons of the output layer\n",
    "<br> &emsp; Dimensions: (size_hidden,1)\\*(1,size_out) --> (size_hidden,size_out) <br>\n",
    "<i>**u_E_hidden**</i> is a vector of size equal to the number of neurons in the hidden layer without considering the hidden layer <br>\n",
    "<i>**w_E_hidden**</i> is a matrix: each row correspond to an input and the columns correspond to the neurons in the hidden layer\n",
    "<br> &emsp; Dimensions: (size_input,1)\\*(1,size_hidden)\\*constant --> (size_input,size_hidden) <br>\n"
   ]
  },
  {
   "cell_type": "code",
   "execution_count": 5,
   "metadata": {
    "collapsed": false,
    "deletable": true,
    "editable": true
   },
   "outputs": [],
   "source": [
    "def backPropagate(self, targets, t_func=sigmoid, d_func=dsigmoid):\n",
    "    \n",
    "    # output gradients\n",
    "    u_E_out = (t_func(self.a_out)-targets)*(d_func(self.a_out))\n",
    "    w_E_out = t_func(self.a_hidden).reshape(len(t_func(self.a_hidden)),1).dot(u_E_out.reshape(1,len(u_E_out)))\n",
    "\n",
    "    # hidden gradients\n",
    "    u_E_hidden = self.W_hidden_to_output[:-1,:].dot(u_E_out)*(d_func(self.a_hidden[:-1]))\n",
    "    u_E_hidden = u_E_hidden.reshape(1,len(u_E_hidden))\n",
    "    w_E_hidden = self.a_input.reshape(len(self.a_input),1).dot(u_E_hidden)\n",
    "\n",
    "    # update hidden to output weights\n",
    "    self.W_hidden_to_output = self.W_hidden_to_output - self.learning_rate*w_E_out\n",
    "    \n",
    "    # update input to hidden weights\n",
    "    self.W_input_to_hidden = self.W_input_to_hidden - self.learning_rate*w_E_hidden\n",
    "\n",
    "    # calculate error\n",
    "    return np.square(t_func(self.a_out)-targets).sum()"
   ]
  },
  {
   "cell_type": "code",
   "execution_count": 6,
   "metadata": {
    "collapsed": false,
    "deletable": true,
    "editable": true
   },
   "outputs": [
    {
     "name": "stdout",
     "output_type": "stream",
     "text": [
      "wi_new= [[ 0.30034598 -0.50021889]\n",
      " [ 0.8000865   0.19994528]\n",
      " [ 0.20043248 -0.40027361]]\n",
      "wo_new= [[-0.60203418]\n",
      " [ 0.39899609]\n",
      " [ 0.49769676]]\n"
     ]
    }
   ],
   "source": [
    "#test my  Back-propagation function\n",
    "my_first_net.backPropagate(Y)\n",
    "#Print weights after backpropagation\n",
    "print 'wi_new=', my_first_net.W_input_to_hidden\n",
    "print 'wo_new=', my_first_net.W_hidden_to_output\n"
   ]
  },
  {
   "cell_type": "markdown",
   "metadata": {
    "deletable": true,
    "editable": true
   },
   "source": [
    "Your Feed Forward and Back-Propagation implementations are working, Great!! Let's tackle a real world problem."
   ]
  },
  {
   "cell_type": "markdown",
   "metadata": {},
   "source": [
    "##### Comment\n",
    "We can see how feedforward and backpropagation allow us to reach the expected value of 0.4"
   ]
  },
  {
   "cell_type": "code",
   "execution_count": 7,
   "metadata": {
    "collapsed": false,
    "deletable": true,
    "editable": true
   },
   "outputs": [
    {
     "name": "stdout",
     "output_type": "stream",
     "text": [
      "[ 0.4]\n"
     ]
    }
   ],
   "source": [
    "for i in range(20000):\n",
    "    my_first_net.feedForward(X)\n",
    "    my_first_net.backPropagate(Y)\n",
    "print(my_first_net.feedForward(X))"
   ]
  },
  {
   "cell_type": "markdown",
   "metadata": {
    "collapsed": true,
    "deletable": true,
    "editable": true
   },
   "source": [
    "# Section 2 : The MNIST Challenge! "
   ]
  },
  {
   "cell_type": "markdown",
   "metadata": {
    "deletable": true,
    "editable": true
   },
   "source": [
    "<b>Data Preparation</b>\n",
    "\n",
    "The MNIST dataset consists of handwritten digit images it contains 60,000 examples for the training set and 10,000 examples for testing. In this Lab Session, the official training set of 60,000 is divided into an actual training set of 50,000 examples, 10,000 validation examples and 10,000 examples for test. All digit images have been size-normalized and centered in a fixed size image of 28 x 28 pixels. The images are stored in byte form you will use the NumPy python library to read the data files into NumPy arrays that we will use to train the ANN.\n",
    "\n",
    "The MNIST dataset is available in the Data folder.\n",
    "To get the training, testing and validation data, run the the load_data() function.\n"
   ]
  },
  {
   "cell_type": "code",
   "execution_count": 8,
   "metadata": {
    "collapsed": false,
    "deletable": true,
    "editable": true
   },
   "outputs": [
    {
     "name": "stdout",
     "output_type": "stream",
     "text": [
      "Loading MNIST data .....\n",
      "Done.\n"
     ]
    }
   ],
   "source": [
    "from utils import *\n",
    "training_data, validation_data, test_data=load_data()"
   ]
  },
  {
   "cell_type": "markdown",
   "metadata": {
    "deletable": true,
    "editable": true
   },
   "source": [
    "<b>MNIST Dataset Digits Visualisation</b>"
   ]
  },
  {
   "cell_type": "code",
   "execution_count": 9,
   "metadata": {
    "collapsed": false,
    "deletable": true,
    "editable": true
   },
   "outputs": [
    {
     "data": {
      "image/png": "[encoded data removed]",
      "text/plain": [
       "<matplotlib.figure.Figure at 0x7f7c2dd81cd0>"
      ]
     },
     "metadata": {},
     "output_type": "display_data"
    }
   ],
   "source": [
    "ROW = 2\n",
    "COLUMN = 4\n",
    "for i in range(ROW * COLUMN):\n",
    "    # train[i][0] is i-th image data with size 28x28\n",
    "    image = training_data[i][0].reshape(28, 28)   \n",
    "    plt.subplot(ROW, COLUMN, i+1)          \n",
    "    plt.imshow(image, cmap='gray')  # cmap='gray' is for black and white picture.\n",
    "plt.axis('off')  # do not show axis value\n",
    "plt.tight_layout()   # automatic padding between subplots\n",
    "plt.show()\n",
    "\n"
   ]
  },
  {
   "cell_type": "markdown",
   "metadata": {
    "deletable": true,
    "editable": true
   },
   "source": [
    "<b>Part 1</b>: Creating the Neural Networks\n",
    "\n",
    "The input layer of the neural network contains neurons encoding the values of the input pixels. The training data for the network will consist of many 28 by 28 pixel images of scanned handwritten digits, and so the input layer contains 784=28×28 neurons. The second layer of the network is a hidden layer, we set the neuron number in the hidden layer to 30. The output layer contains 10 neurons. \n",
    "\n",
    "<b>Question 2.1.1</b>: Create the network described above using the NeuralNetwork class"
   ]
  },
  {
   "cell_type": "code",
   "execution_count": 10,
   "metadata": {
    "collapsed": false,
    "deletable": true,
    "editable": true
   },
   "outputs": [],
   "source": [
    "#create the network\n",
    "from NeuralNetwork import * \n",
    "my_mnist_net = NeuralNetwork(784,30,10)"
   ]
  },
  {
   "cell_type": "markdown",
   "metadata": {
    "deletable": true,
    "editable": true
   },
   "source": [
    "<b>Question 2.1.2</b>: Add the information about the performance of the neural network on the test set at each epoch"
   ]
  },
  {
   "cell_type": "code",
   "execution_count": 11,
   "metadata": {
    "collapsed": false,
    "deletable": true,
    "editable": true
   },
   "outputs": [
    {
     "name": "stdout",
     "output_type": "stream",
     "text": [
      "Test_Accuracy  8.47\n"
     ]
    }
   ],
   "source": [
    "test_accuracy=my_mnist_net.predict(test_data)/100\n",
    "print('Test_Accuracy  %-2.2f' % test_accuracy)"
   ]
  },
  {
   "cell_type": "markdown",
   "metadata": {
    "deletable": true,
    "editable": true
   },
   "source": [
    "<b>Question 2.1.3</b>: Train the Neural Network and comment your findings"
   ]
  },
  {
   "cell_type": "code",
   "execution_count": 12,
   "metadata": {
    "collapsed": false,
    "deletable": true,
    "editable": true,
    "scrolled": true
   },
   "outputs": [
    {
     "name": "stdout",
     "output_type": "stream",
     "text": [
      "Iteration:  1/50[==============] -Error: 0.3331826711  -Training_Accuracy:  87.97  -time: 49.84 \n",
      "Iteration:  2/50[==============] -Error: 0.1810773941  -Training_Accuracy:  90.42  -time: 102.30 \n",
      "Iteration:  3/50[==============] -Error: 0.1502820708  -Training_Accuracy:  91.77  -time: 152.40 \n",
      "Iteration:  4/50[==============] -Error: 0.1337730771  -Training_Accuracy:  92.57  -time: 208.61 \n",
      "Iteration:  5/50[==============] -Error: 0.1229617805  -Training_Accuracy:  93.22  -time: 263.88 \n",
      "Iteration:  6/50[==============] -Error: 0.1142891850  -Training_Accuracy:  93.55  -time: 333.21 \n",
      "Iteration:  7/50[==============] -Error: 0.1080214496  -Training_Accuracy:  94.02  -time: 385.60 \n",
      "Iteration:  8/50[==============] -Error: 0.1027998137  -Training_Accuracy:  94.16  -time: 439.38 \n",
      "Iteration:  9/50[==============] -Error: 0.0978471624  -Training_Accuracy:  94.53  -time: 496.99 \n",
      "Iteration: 10/50[==============] -Error: 0.0938685651  -Training_Accuracy:  94.80  -time: 554.85 \n",
      "Iteration: 11/50[==============] -Error: 0.0904523157  -Training_Accuracy:  95.01  -time: 609.64 \n",
      "Iteration: 12/50[==============] -Error: 0.0870866165  -Training_Accuracy:  95.14  -time: 660.39 \n",
      "Iteration: 13/50[==============] -Error: 0.0847942326  -Training_Accuracy:  95.38  -time: 710.58 \n",
      "Iteration: 14/50[==============] -Error: 0.0818837309  -Training_Accuracy:  95.50  -time: 761.07 \n",
      "Iteration: 15/50[==============] -Error: 0.0799985367  -Training_Accuracy:  95.42  -time: 812.60 \n",
      "Iteration: 16/50[==============] -Error: 0.0782824575  -Training_Accuracy:  95.74  -time: 861.62 \n",
      "Iteration: 17/50[==============] -Error: 0.0761773203  -Training_Accuracy:  95.73  -time: 913.49 \n",
      "Iteration: 18/50[==============] -Error: 0.0746656667  -Training_Accuracy:  95.98  -time: 971.28 \n",
      "Iteration: 19/50[==============] -Error: 0.0728636816  -Training_Accuracy:  96.06  -time: 1026.28 \n",
      "Iteration: 20/50[==============] -Error: 0.0713761008  -Training_Accuracy:  96.14  -time: 1086.03 \n",
      "Iteration: 21/50[==============] -Error: 0.0702061636  -Training_Accuracy:  96.10  -time: 1142.72 \n",
      "Iteration: 22/50[==============] -Error: 0.0688249688  -Training_Accuracy:  96.25  -time: 1198.89 \n",
      "Iteration: 23/50[==============] -Error: 0.0676087845  -Training_Accuracy:  96.29  -time: 1266.43 \n",
      "Iteration: 24/50[==============] -Error: 0.0664931546  -Training_Accuracy:  96.40  -time: 1330.80 \n",
      "Iteration: 25/50[==============] -Error: 0.0651349870  -Training_Accuracy:  96.45  -time: 1390.40 \n",
      "Iteration: 26/50[==============] -Error: 0.0642895418  -Training_Accuracy:  96.52  -time: 1446.42 \n",
      "Iteration: 27/50[==============] -Error: 0.0631881660  -Training_Accuracy:  96.55  -time: 1507.76 \n",
      "Iteration: 28/50[==============] -Error: 0.0621334596  -Training_Accuracy:  96.57  -time: 1561.70 \n",
      "Iteration: 29/50[==============] -Error: 0.0613813361  -Training_Accuracy:  96.63  -time: 1618.01 \n",
      "Iteration: 30/50[==============] -Error: 0.0603541961  -Training_Accuracy:  96.65  -time: 1675.15 \n",
      "Iteration: 31/50[==============] -Error: 0.0594716121  -Training_Accuracy:  96.72  -time: 1731.19 \n",
      "Iteration: 32/50[==============] -Error: 0.0591507559  -Training_Accuracy:  96.77  -time: 1786.71 \n",
      "Iteration: 33/50[==============] -Error: 0.0580272830  -Training_Accuracy:  96.78  -time: 1837.39 \n",
      "Iteration: 34/50[==============] -Error: 0.0572622704  -Training_Accuracy:  96.74  -time: 1888.35 \n",
      "Iteration: 35/50[==============] -Error: 0.0568030167  -Training_Accuracy:  96.83  -time: 1945.18 \n",
      "Iteration: 36/50[==============] -Error: 0.0557905468  -Training_Accuracy:  96.93  -time: 2002.86 \n",
      "Iteration: 37/50[==============] -Error: 0.0550615654  -Training_Accuracy:  96.85  -time: 2059.21 \n",
      "Iteration: 38/50[==============] -Error: 0.0544743123  -Training_Accuracy:  96.91  -time: 2132.54 \n",
      "Iteration: 39/50[==============] -Error: 0.0540869432  -Training_Accuracy:  96.94  -time: 2189.65 \n",
      "Iteration: 40/50[==============] -Error: 0.0533361064  -Training_Accuracy:  96.99  -time: 2244.54 \n",
      "Iteration: 41/50[==============] -Error: 0.0528446677  -Training_Accuracy:  97.04  -time: 2301.94 \n",
      "Iteration: 42/50[==============] -Error: 0.0521430384  -Training_Accuracy:  97.00  -time: 2357.24 \n",
      "Iteration: 43/50[==============] -Error: 0.0516297067  -Training_Accuracy:  97.04  -time: 2414.54 \n",
      "Iteration: 44/50[==============] -Error: 0.0508492033  -Training_Accuracy:  97.10  -time: 2468.96 \n",
      "Iteration: 45/50[==============] -Error: 0.0504885510  -Training_Accuracy:  97.13  -time: 2523.40 \n",
      "Iteration: 46/50[==============] -Error: 0.0498797283  -Training_Accuracy:  97.13  -time: 2577.00 \n",
      "Iteration: 47/50[==============] -Error: 0.0493310320  -Training_Accuracy:  97.17  -time: 2627.65 \n",
      "Iteration: 48/50[==============] -Error: 0.0491449634  -Training_Accuracy:  97.24  -time: 2677.92 \n",
      "Iteration: 49/50[==============] -Error: 0.0486352631  -Training_Accuracy:  97.18  -time: 2730.70 \n",
      "Iteration: 50/50[==============] -Error: 0.0482209355  -Training_Accuracy:  97.22  -time: 2787.66 \n"
     ]
    },
    {
     "data": {
      "image/png": "[encoded data removed]",
      "text/plain": [
       "<matplotlib.figure.Figure at 0x7f7c1d94b0d0>"
      ]
     },
     "metadata": {},
     "output_type": "display_data"
    },
    {
     "data": {
      "image/png": "[encoded data removed]",
      "text/plain": [
       "<matplotlib.figure.Figure at 0x7f7c1d729cd0>"
      ]
     },
     "metadata": {},
     "output_type": "display_data"
    }
   ],
   "source": [
    "#train your network \n",
    "my_mnist_net.train(training_data,validation_data)\n"
   ]
  },
  {
   "cell_type": "code",
   "execution_count": 22,
   "metadata": {
    "collapsed": true
   },
   "outputs": [],
   "source": [
    "# saving our model \n",
    "my_mnist_net.save('Models/mod_H30_O10_It50_LR01_FuncSigm.model')"
   ]
  },
  {
   "cell_type": "markdown",
   "metadata": {
    "collapsed": true,
    "deletable": true,
    "editable": true
   },
   "source": [
    "##### Comment\n",
    "We can divide the error curve in two parts:\n",
    "<ul>\n",
    "<li> the first part consists of the first 8 iterations, where the error decreases a lot\n",
    "<li> the second part consists of the remaining iterations \n",
    "</ul>\n",
    "<br>\n",
    "In the first part the error decreases significantly, from 0.33 to 0.10 (reduction of 0.23).\n",
    "<br>\n",
    "In the second part (following 42 iteration) the network reduces the error by 0.05 only. This means that every 8 iterations the error changes by 0,0095. \n",
    "<br><br>\n",
    "Comparing the two parts we can conclude that, given that there is a drop in the decrease of the error by 96%, we think that after a while it becomes impractical to continue to train the network, expecially if time costraints are present.\n",
    "<br><br>\n",
    "Focusing on the accuracy, we can notice a similar trend. There is a steep improvement in accuracy over the first 8 iterations \n"
   ]
  },
  {
   "cell_type": "markdown",
   "metadata": {
    "deletable": true,
    "editable": true
   },
   "source": [
    "<b>Question 2.1.4</b>: Guess digit, Implement and test a python function that predict the class of a digit (the folder images_test contains some examples of images of digits)\n"
   ]
  },
  {
   "cell_type": "code",
   "execution_count": 20,
   "metadata": {
    "collapsed": false,
    "deletable": true,
    "editable": true
   },
   "outputs": [
    {
     "name": "stdout",
     "output_type": "stream",
     "text": [
      "Output trained network: 3\n",
      "Output not trained network: 6\n"
     ]
    },
    {
     "data": {
      "image/png": "[encoded data removed]",
      "text/plain": [
       "<matplotlib.figure.Figure at 0x7f7c1d3a5c50>"
      ]
     },
     "metadata": {},
     "output_type": "display_data"
    }
   ],
   "source": [
    "#Your implementation goes here\n",
    "def predict_digit(d_net,img):\n",
    "    return np.argmax(d_net.feedForward(img))\n",
    "\n",
    "not_trained_mnist_net = NeuralNetwork(784,30,10)\n",
    "\n",
    "data = test_data[0][0]\n",
    "print 'Output trained network:',predict_digit(my_mnist_net,data)\n",
    "print 'Output not trained network:',predict_digit(not_trained_mnist_net,data)\n",
    "img = data.reshape(28,28)\n",
    "plt.imshow(img, cmap='gray')\n",
    "plt.title('Input image')\n",
    "plt.show()"
   ]
  },
  {
   "cell_type": "code",
   "execution_count": 10,
   "metadata": {
    "collapsed": false,
    "deletable": true,
    "editable": true
   },
   "outputs": [
    {
     "name": "stdout",
     "output_type": "stream",
     "text": [
      "(10375.871706504429, 'error', 0)\n"
     ]
    },
    {
     "ename": "NameError",
     "evalue": "name 'data' is not defined",
     "output_type": "error",
     "traceback": [
      "\u001b[0;31m---------------------------------------------------------------------------\u001b[0m",
      "\u001b[0;31mNameError\u001b[0m                                 Traceback (most recent call last)",
      "\u001b[0;32m<ipython-input-10-617f971637ce>\u001b[0m in \u001b[0;36m<module>\u001b[0;34m()\u001b[0m\n\u001b[1;32m     16\u001b[0m         \u001b[0merror\u001b[0m\u001b[0;34m+=\u001b[0m\u001b[0mmy_mnist_net\u001b[0m\u001b[0;34m.\u001b[0m\u001b[0mbackPropagate\u001b[0m\u001b[0;34m(\u001b[0m\u001b[0mTarget\u001b[0m\u001b[0;34m)\u001b[0m\u001b[0;34m\u001b[0m\u001b[0m\n\u001b[1;32m     17\u001b[0m     \u001b[0;32mprint\u001b[0m\u001b[0;34m(\u001b[0m\u001b[0merror\u001b[0m\u001b[0;34m,\u001b[0m\u001b[0;34m'error'\u001b[0m\u001b[0;34m,\u001b[0m\u001b[0mit\u001b[0m\u001b[0;34m)\u001b[0m\u001b[0;34m\u001b[0m\u001b[0m\n\u001b[0;32m---> 18\u001b[0;31m     \u001b[0mTraining_accuracies\u001b[0m\u001b[0;34m.\u001b[0m\u001b[0mappend\u001b[0m\u001b[0;34m(\u001b[0m\u001b[0mmy_mnist_net\u001b[0m\u001b[0;34m.\u001b[0m\u001b[0mpredict\u001b[0m\u001b[0;34m(\u001b[0m\u001b[0mdata\u001b[0m\u001b[0;34m)\u001b[0m\u001b[0;34m)\u001b[0m\u001b[0;34m\u001b[0m\u001b[0m\n\u001b[0m\u001b[1;32m     19\u001b[0m     \u001b[0;32mprint\u001b[0m \u001b[0merror\u001b[0m\u001b[0;34m\u001b[0m\u001b[0m\n\u001b[1;32m     20\u001b[0m     \u001b[0merror\u001b[0m\u001b[0;34m=\u001b[0m\u001b[0merror\u001b[0m\u001b[0;34m/\u001b[0m\u001b[0mlen\u001b[0m\u001b[0;34m(\u001b[0m\u001b[0mdata\u001b[0m\u001b[0;34m)\u001b[0m\u001b[0;34m\u001b[0m\u001b[0m\n",
      "\u001b[0;31mNameError\u001b[0m: name 'data' is not defined"
     ]
    }
   ],
   "source": [
    "\n",
    "start_time = time.time()\n",
    "my_mnist_net.errors=[]\n",
    "Training_accuracies=[]\n",
    "\n",
    "for it in range(my_mnist_net.iterations):\n",
    "    np.random.shuffle(training_data)\n",
    "    inputs  = [entry[0] for entry in training_data ]\n",
    "    targets = [ entry[1] for entry in training_data ]\n",
    "\n",
    "    error=0.0 \n",
    "    for i in range(len(inputs)):\n",
    "        Input = inputs[i]\n",
    "        Target = targets[i]\n",
    "        print('starting feed forward')\n",
    "        my_mnist_net.feedForward(Input)\n",
    "        error+=my_mnist_net.backPropagate(Target)\n",
    "    print(error,'error',it)\n",
    "    Training_accuracies.append(my_mnist_net.predict(training_data))\n",
    "    print error\n",
    "    error=error/len(data)\n",
    "    my_mnist_net.errors.append(error)\n",
    "\n",
    "\n",
    "    print(\"Iteration: %2d/%2d[==============] -Error: %5.10f  -Training_Accuracy:  %2.2f  -time: %2.2f \"\n",
    "          %(it+1,my_mnist_net.iterations, error, (my_mnist_net.predict(data)/len(data))*100, time.time() - start_time))\n",
    "    # you can add test_accuracy and validation accuracy for visualisation \n",
    "\n",
    "plot_curve(range(1,self.iterations+1),my_mnist_net.errors, \"Error\")\n",
    "plot_curve(range(1,self.iterations+1), Training_accuracies, \"Training_Accuracy\")\n"
   ]
  },
  {
   "cell_type": "markdown",
   "metadata": {
    "deletable": true,
    "editable": true
   },
   "source": [
    "<b>Part 2</b>: Change the neural network structure and parameters to optimize performance"
   ]
  },
  {
   "cell_type": "markdown",
   "metadata": {
    "collapsed": true,
    "deletable": true,
    "editable": true
   },
   "source": [
    "<b> Question 2.2.1</b>: Change the learning rate (0.001, 0.1, 1.0 , 10). Train the new neural nets with the original specifications (Part 2.1), for 50 iterations. \n",
    "Plot test accuracy vs iteration for each learning rate on the same graph. Report the maximum\n",
    "test accuracy achieved for each learning rate. Which one achieves the maximum test accuracy?"
   ]
  },
  {
   "cell_type": "code",
   "execution_count": null,
   "metadata": {
    "collapsed": false,
    "deletable": true,
    "editable": true
   },
   "outputs": [],
   "source": [
    "#Your implementation with a learning rate of 0.001 goes here\n",
    "\n",
    "\n",
    "\n",
    "\n",
    "\n",
    "\n",
    "\n",
    "\n",
    "\n",
    "\n",
    "\n",
    "\n",
    "\n"
   ]
  },
  {
   "cell_type": "code",
   "execution_count": null,
   "metadata": {
    "collapsed": true,
    "deletable": true,
    "editable": true
   },
   "outputs": [],
   "source": [
    "#Your implementation with a learning rate of 1.0 goes here \n",
    "\n",
    "\n",
    "\n",
    "\n",
    "\n",
    "\n",
    "\n",
    "\n",
    "\n",
    "\n",
    "\n",
    "\n",
    "\n",
    "\n",
    "\n",
    "\n",
    "\n"
   ]
  },
  {
   "cell_type": "code",
   "execution_count": null,
   "metadata": {
    "collapsed": true,
    "deletable": true,
    "editable": true
   },
   "outputs": [],
   "source": [
    "#Your implementation with a learning rate of 10 goes here \n",
    "\n",
    "\n",
    "\n",
    "\n",
    "\n",
    "\n",
    "\n",
    "\n",
    "\n",
    "\n",
    "\n",
    "\n",
    "\n",
    "\n",
    "\n",
    "\n",
    "\n",
    "\n",
    "\n"
   ]
  },
  {
   "cell_type": "markdown",
   "metadata": {
    "deletable": true,
    "editable": true
   },
   "source": [
    "#Your answer for Question 2.2.1 goes here"
   ]
  },
  {
   "cell_type": "markdown",
   "metadata": {
    "deletable": true,
    "editable": true
   },
   "source": [
    " <b> Question 2.2.2 : </b> initialize all weights to 0.  Plot the training accuracy curve.\n",
    "Comment your results\n",
    "    \n",
    "        "
   ]
  },
  {
   "cell_type": "code",
   "execution_count": null,
   "metadata": {
    "collapsed": true,
    "deletable": true,
    "editable": true
   },
   "outputs": [],
   "source": [
    "#Your implementation goes here\n",
    "\n",
    "\n",
    "\n",
    "\n",
    "\n",
    "\n",
    "\n",
    "\n",
    "\n",
    "\n",
    "\n",
    "\n",
    "\n",
    "\n",
    "\n"
   ]
  },
  {
   "cell_type": "markdown",
   "metadata": {
    "deletable": true,
    "editable": true
   },
   "source": [
    "#Your answer goes here"
   ]
  },
  {
   "cell_type": "markdown",
   "metadata": {
    "deletable": true,
    "editable": true
   },
   "source": [
    "<b> Question 2.2.3 : </b> Try with a different transfer function (such as tanh).\n",
    " File transfer_functions.py provides you the python implementation of the tanh function and its derivative"
   ]
  },
  {
   "cell_type": "code",
   "execution_count": null,
   "metadata": {
    "collapsed": true,
    "deletable": true,
    "editable": true
   },
   "outputs": [],
   "source": [
    "#Your implementation goes here\n",
    "\n",
    "\n"
   ]
  },
  {
   "cell_type": "markdown",
   "metadata": {
    "deletable": true,
    "editable": true
   },
   "source": [
    "#Your answer goes here"
   ]
  },
  {
   "cell_type": "markdown",
   "metadata": {
    "deletable": true,
    "editable": true
   },
   "source": [
    "\n",
    "<b> Question 2.2.4 : </b>  Add more neurons in the hidden layer (try with 100, 200, 300). Plot the curve representing the validation accuracy versus the number of neurons in the hidden layer.  (Choose and justify other hyper-parameters)"
   ]
  },
  {
   "cell_type": "code",
   "execution_count": null,
   "metadata": {
    "collapsed": true,
    "deletable": true,
    "editable": true
   },
   "outputs": [],
   "source": [
    "#Your implementation goes here\n",
    "\n",
    "\n",
    "\n",
    "\n",
    "\n",
    "\n",
    "\n",
    "\n",
    "\n",
    "\n",
    "\n",
    "\n",
    "\n",
    "\n",
    "\n",
    "\n",
    "\n",
    "\n",
    "\n",
    "\n",
    "\n",
    "\n"
   ]
  },
  {
   "cell_type": "markdown",
   "metadata": {
    "deletable": true,
    "editable": true
   },
   "source": [
    "#Your answer goes here"
   ]
  },
  {
   "cell_type": "markdown",
   "metadata": {
    "deletable": true,
    "editable": true
   },
   "source": [
    "<b> Question 2.2.5 : </b> Add one additionnal hidden layers and train your network, discuss your results with different setting. \n",
    "\n"
   ]
  },
  {
   "cell_type": "code",
   "execution_count": null,
   "metadata": {
    "collapsed": true,
    "deletable": true,
    "editable": true
   },
   "outputs": [],
   "source": [
    "#Your implementation goes here\n",
    "\n",
    "\n",
    "\n",
    "\n",
    "\n",
    "\n",
    "\n",
    "\n",
    "\n",
    "\n",
    "\n",
    "\n",
    "\n",
    "\n",
    "\n"
   ]
  },
  {
   "cell_type": "markdown",
   "metadata": {
    "deletable": true,
    "editable": true
   },
   "source": [
    "#Your answer goes here"
   ]
  },
  {
   "cell_type": "code",
   "execution_count": 14,
   "metadata": {
    "collapsed": false,
    "deletable": true,
    "editable": true,
    "scrolled": true
   },
   "outputs": [
    {
     "name": "stdout",
     "output_type": "stream",
     "text": [
      "(10,)\n",
      "target 10\n",
      "der (10,)\n",
      "u_E_out.shape float64\n",
      "w_E_out.shape (31, 10)\n",
      "u_E_hidden.shape (1, 30)\n",
      "w_E_hidden (785, 30)\n",
      "my_mnist_net.W_hidden_to_output.shape (31, 10)\n",
      "my_mnist_net.W_input_to_hidden.shape (785, 30)\n",
      "83350.2388001\n"
     ]
    }
   ],
   "source": [
    "\n",
    "inputs  = [entry[0] for entry in training_data ]\n",
    "targets = [ entry[1] for entry in training_data ]\n",
    "\n",
    "error=0.0 \n",
    "for i in range(1):\n",
    "    Input = inputs[i]\n",
    "    Target = targets[i]\n",
    "#     my_mnist_net.feedForward(Input)\n",
    "\n",
    "#     print(my_mnist_net.a_input.shape)\n",
    "    \n",
    "#     print len(my_mnist_net.a_hidden)\n",
    "    \n",
    "    # calculate error terms for output\n",
    "    u_E_out = (sigmoid(my_mnist_net.a_out)-Target)*(dsigmoid(my_mnist_net.a_out))\n",
    "    w_E_out = sigmoid(my_mnist_net.a_hidden).reshape(len(sigmoid(my_mnist_net.a_hidden)),1).dot(u_E_out.reshape(1,len(u_E_out)))\n",
    "    print sigmoid(my_mnist_net.a_out).shape\n",
    "    print 'target',len(Target)\n",
    "    print 'der',dsigmoid(my_mnist_net.a_out).shape\n",
    "#     print 'u_E_out',u_E_out\n",
    "    print 'u_E_out.shape',u_E_out.dtype\n",
    "    print 'w_E_out.shape',w_E_out.shape\n",
    "    # calculate error terms for hidden\n",
    "    u_E_hidden = my_mnist_net.W_hidden_to_output[:-1,:].dot(u_E_out)*(dsigmoid(my_mnist_net.a_hidden[:-1]))\n",
    "    u_E_hidden = u_E_hidden.reshape(1,len(u_E_hidden))\n",
    "#     print 'u_E_hidden',u_E_hidden\n",
    "    print 'u_E_hidden.shape',u_E_hidden.shape\n",
    "    w_E_hidden = my_mnist_net.a_input.reshape(len(my_mnist_net.a_input),1).dot(u_E_hidden)\n",
    "#     print 'w_E_hidden',w_E_hidden\n",
    "    print 'w_E_hidden',w_E_hidden.shape\n",
    "#     w_E_hidden = u_E_hidden.dot(my_mnist_net.a_input.reshape(1,len(my_mnist_net.a_input)))\n",
    "\n",
    "    # update output weights\n",
    "    my_mnist_net.W_hidden_to_output = my_mnist_net.W_hidden_to_output - my_mnist_net.learning_rate*w_E_out\n",
    "#     print 'my_mnist_net.W_hidden_to_output',my_mnist_net.W_hidden_to_output\n",
    "    print 'my_mnist_net.W_hidden_to_output.shape',my_mnist_net.W_hidden_to_output.shape\n",
    "    # update input weights\n",
    "    my_mnist_net.W_input_to_hidden = my_mnist_net.W_input_to_hidden - my_mnist_net.learning_rate*w_E_hidden\n",
    "#     print 'my_mnist_net.W_input_to_hidden',my_mnist_net.W_input_to_hidden\n",
    "    print 'my_mnist_net.W_input_to_hidden.shape',my_mnist_net.W_input_to_hidden.shape\n",
    "    # calculate error\n",
    "    print np.square(sigmoid(my_mnist_net.a_out)-targets).sum()"
   ]
  }
 ],
 "metadata": {
  "kernelspec": {
   "display_name": "Python 2",
   "language": "python",
   "name": "python2"
  },
  "language_info": {
   "codemirror_mode": {
    "name": "ipython",
    "version": 2
   },
   "file_extension": ".py",
   "mimetype": "text/x-python",
   "name": "python",
   "nbconvert_exporter": "python",
   "pygments_lexer": "ipython2",
   "version": "2.7.13"
  }
 },
 "nbformat": 4,
 "nbformat_minor": 2
}
