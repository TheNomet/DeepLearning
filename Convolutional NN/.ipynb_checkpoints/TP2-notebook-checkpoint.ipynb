{
 "cells": [
  {
   "cell_type": "markdown",
   "metadata": {
    "deletable": true,
    "editable": true
   },
   "source": [
    "### <h1 style=\"text-align:center\">Deep Learning   </h1>\n",
    "<h1 style=\"text-align:center\"> Lab Session 2 - 3 Hours </h1>\n",
    "<h1 style=\"text-align:center\"> Convolutional Neural Network (CNN) for Handwritten Digits Recognition</h1>"
   ]
  },
  {
   "cell_type": "markdown",
   "metadata": {
    "deletable": true,
    "editable": true
   },
   "source": [
    "<b> Student 1:</b> Matteo Fiore \n",
    "<b> Student 2:</b> Hanna Johansson\n",
    " \n",
    " \n",
    "The aim of this session is to practice with Convolutional Neural Networks. Answers and experiments should be made by groups of one or two students. Each group should fill and run appropriate notebook cells. \n",
    "\n",
    "\n",
    "Once you have completed all of the code implementations and successfully answered each question above, you may finalize your work by exporting the iPython Notebook as an pdf document using print as PDF (Ctrl+P). Do not forget to run all your cells before generating your final report and do not forget to include the names of all participants in the group. The lab session should be completed by May 29th 2017.\n",
    "\n",
    "Send you pdf file to benoit.huet@eurecom.fr and olfa.ben-ahmed@eurecom.fr using **[DeepLearning_lab2]** as Subject of your email."
   ]
  },
  {
   "cell_type": "markdown",
   "metadata": {
    "deletable": true,
    "editable": true
   },
   "source": [
    "# Introduction"
   ]
  },
  {
   "cell_type": "markdown",
   "metadata": {
    "deletable": true,
    "editable": true
   },
   "source": [
    "In the last Lab Session, you built a Multilayer Perceptron for recognizing hand-written digits from the MNIST data-set. The best achieved accuracy on testing data was about 97%.  Can  you do better than these results using a deep CNN ?\n",
    "In this Lab Session, you will build, train and optimize in TensorFlow one of the early Convolutional Neural Networks:  **LeNet-5** to go to  more than 99% of accuracy. \n",
    "\n",
    "\n",
    "\n",
    "\n"
   ]
  },
  {
   "cell_type": "markdown",
   "metadata": {
    "deletable": true,
    "editable": true
   },
   "source": [
    "# Load MNIST Data in TensorFlow\n",
    "Run the cell above to load the MNIST data that comes  with TensorFlow. You will use this data in **Section 1** and **Section 2**."
   ]
  },
  {
   "cell_type": "code",
   "execution_count": 42,
   "metadata": {
    "collapsed": false,
    "deletable": true,
    "editable": true
   },
   "outputs": [
    {
     "name": "stdout",
     "output_type": "stream",
     "text": [
      "Extracting MNIST_data/train-images-idx3-ubyte.gz\n",
      "Extracting MNIST_data/train-labels-idx1-ubyte.gz\n",
      "Extracting MNIST_data/t10k-images-idx3-ubyte.gz\n",
      "Extracting MNIST_data/t10k-labels-idx1-ubyte.gz\n",
      "Image Shape: (784,)\n",
      "Training Set:   55000 samples\n",
      "Validation Set: 5000 samples\n",
      "Test Set:       10000 samples\n"
     ]
    }
   ],
   "source": [
    "import pickle\n",
    "import tensorflow as tf\n",
    "import matplotlib.pyplot as plt\n",
    "import numpy as np\n",
    "from tensorflow.examples.tutorials.mnist import input_data\n",
    "mnist = input_data.read_data_sets(\"MNIST_data/\", one_hot=True)\n",
    "X_train, y_train           = mnist.train.images, mnist.train.labels\n",
    "X_validation, y_validation = mnist.validation.images, mnist.validation.labels\n",
    "X_test, y_test             = mnist.test.images, mnist.test.labels\n",
    "print(\"Image Shape: {}\".format(X_train[0].shape))\n",
    "print(\"Training Set:   {} samples\".format(len(X_train)))\n",
    "print(\"Validation Set: {} samples\".format(len(X_validation)))\n",
    "print(\"Test Set:       {} samples\".format(len(X_test)))"
   ]
  },
  {
   "cell_type": "markdown",
   "metadata": {
    "deletable": true,
    "editable": true
   },
   "source": [
    "# Section 1 : My First Model in TensorFlow"
   ]
  },
  {
   "cell_type": "markdown",
   "metadata": {
    "collapsed": true,
    "deletable": true,
    "editable": true
   },
   "source": [
    "Before starting with CNN, let's train and test in TensorFlow the example :\n",
    "**y=softmax(Wx+b)** seen in the DeepLearing course last week. \n",
    "\n",
    "This model reaches an accuracy of about 92 %.\n",
    "You will also learn how to launch the tensorBoard https://www.tensorflow.org/get_started/summaries_and_tensorboard to  visualize the computation graph, statistics and learning curves. "
   ]
  },
  {
   "cell_type": "markdown",
   "metadata": {
    "deletable": true,
    "editable": true
   },
   "source": [
    "<b> Part 1 </b> : Read carefully the code in the cell below. Run it to perform training. "
   ]
  },
  {
   "cell_type": "code",
   "execution_count": 2,
   "metadata": {
    "collapsed": false,
    "deletable": true,
    "editable": true,
    "scrolled": false
   },
   "outputs": [
    {
     "name": "stdout",
     "output_type": "stream",
     "text": [
      "Epoch:  01   =====> Loss= 1.288817763\n",
      "Epoch:  02   =====> Loss= 0.732568693\n",
      "Epoch:  03   =====> Loss= 0.600811317\n",
      "Epoch:  04   =====> Loss= 0.535899158\n",
      "Epoch:  05   =====> Loss= 0.498270592\n",
      "Epoch:  06   =====> Loss= 0.471025538\n",
      "Epoch:  07   =====> Loss= 0.451689225\n",
      "Epoch:  08   =====> Loss= 0.434832912\n",
      "Epoch:  09   =====> Loss= 0.423513685\n",
      "Epoch:  10   =====> Loss= 0.413629231\n",
      "Epoch:  11   =====> Loss= 0.404758968\n",
      "Epoch:  12   =====> Loss= 0.397050232\n",
      "Epoch:  13   =====> Loss= 0.389486826\n",
      "Epoch:  14   =====> Loss= 0.384445315\n",
      "Epoch:  15   =====> Loss= 0.380001498\n",
      "Epoch:  16   =====> Loss= 0.374459120\n",
      "Epoch:  17   =====> Loss= 0.369004645\n",
      "Epoch:  18   =====> Loss= 0.367781704\n",
      "Epoch:  19   =====> Loss= 0.362531426\n",
      "Epoch:  20   =====> Loss= 0.359605226\n",
      "Epoch:  21   =====> Loss= 0.356981898\n",
      "Epoch:  22   =====> Loss= 0.353958575\n",
      "Epoch:  23   =====> Loss= 0.350335981\n",
      "Epoch:  24   =====> Loss= 0.349087273\n",
      "Epoch:  25   =====> Loss= 0.346140392\n",
      "Epoch:  26   =====> Loss= 0.344736170\n",
      "Epoch:  27   =====> Loss= 0.340570794\n",
      "Epoch:  28   =====> Loss= 0.342636917\n",
      "Epoch:  29   =====> Loss= 0.337606227\n",
      "Epoch:  30   =====> Loss= 0.337042687\n",
      "Epoch:  31   =====> Loss= 0.332760275\n",
      "Epoch:  32   =====> Loss= 0.335051456\n",
      "Epoch:  33   =====> Loss= 0.332477583\n",
      "Epoch:  34   =====> Loss= 0.329611499\n",
      "Epoch:  35   =====> Loss= 0.329999669\n",
      "Epoch:  36   =====> Loss= 0.326497876\n",
      "Epoch:  37   =====> Loss= 0.327628811\n",
      "Epoch:  38   =====> Loss= 0.325755187\n",
      "Epoch:  39   =====> Loss= 0.324378651\n",
      "Epoch:  40   =====> Loss= 0.323826492\n",
      "Epoch:  41   =====> Loss= 0.320254013\n",
      "Epoch:  42   =====> Loss= 0.320623834\n",
      "Epoch:  43   =====> Loss= 0.320147888\n",
      "Epoch:  44   =====> Loss= 0.320001692\n",
      "Epoch:  45   =====> Loss= 0.316260839\n",
      "Epoch:  46   =====> Loss= 0.319407499\n",
      "Epoch:  47   =====> Loss= 0.314527750\n",
      "Epoch:  48   =====> Loss= 0.315919531\n",
      "Epoch:  49   =====> Loss= 0.313159098\n",
      "Epoch:  50   =====> Loss= 0.313686133\n",
      "Epoch:  51   =====> Loss= 0.309506997\n",
      "Epoch:  52   =====> Loss= 0.314688366\n",
      "Epoch:  53   =====> Loss= 0.312176643\n",
      "Epoch:  54   =====> Loss= 0.311206834\n",
      "Epoch:  55   =====> Loss= 0.309790036\n",
      "Epoch:  56   =====> Loss= 0.309014906\n",
      "Epoch:  57   =====> Loss= 0.308612770\n",
      "Epoch:  58   =====> Loss= 0.309989875\n",
      "Epoch:  59   =====> Loss= 0.304660414\n",
      "Epoch:  60   =====> Loss= 0.307868827\n",
      "Epoch:  61   =====> Loss= 0.305074267\n",
      "Epoch:  62   =====> Loss= 0.307086928\n",
      "Epoch:  63   =====> Loss= 0.305645573\n",
      "Epoch:  64   =====> Loss= 0.304764512\n",
      "Epoch:  65   =====> Loss= 0.302214944\n",
      "Epoch:  66   =====> Loss= 0.304493774\n",
      "Epoch:  67   =====> Loss= 0.300980211\n",
      "Epoch:  68   =====> Loss= 0.303051403\n",
      "Epoch:  69   =====> Loss= 0.303098576\n",
      "Epoch:  70   =====> Loss= 0.298782109\n",
      "Epoch:  71   =====> Loss= 0.301565056\n",
      "Epoch:  72   =====> Loss= 0.300399134\n",
      "Epoch:  73   =====> Loss= 0.299686404\n",
      "Epoch:  74   =====> Loss= 0.297765292\n",
      "Epoch:  75   =====> Loss= 0.300250287\n",
      "Epoch:  76   =====> Loss= 0.297562514\n",
      "Epoch:  77   =====> Loss= 0.299447451\n",
      "Epoch:  78   =====> Loss= 0.295042382\n",
      "Epoch:  79   =====> Loss= 0.299715936\n",
      "Epoch:  80   =====> Loss= 0.297485897\n",
      "Epoch:  81   =====> Loss= 0.295747936\n",
      "Epoch:  82   =====> Loss= 0.294727101\n",
      "Epoch:  83   =====> Loss= 0.296737057\n",
      "Epoch:  84   =====> Loss= 0.294363885\n",
      "Epoch:  85   =====> Loss= 0.293765343\n",
      "Epoch:  86   =====> Loss= 0.299078757\n",
      "Epoch:  87   =====> Loss= 0.291928822\n",
      "Epoch:  88   =====> Loss= 0.293014625\n",
      "Epoch:  89   =====> Loss= 0.293469005\n",
      "Epoch:  90   =====> Loss= 0.294873702\n",
      "Epoch:  91   =====> Loss= 0.291678644\n",
      "Epoch:  92   =====> Loss= 0.291765898\n",
      "Epoch:  93   =====> Loss= 0.292124570\n",
      "Epoch:  94   =====> Loss= 0.293343020\n",
      "Epoch:  95   =====> Loss= 0.290777192\n",
      "Epoch:  96   =====> Loss= 0.292207972\n",
      "Epoch:  97   =====> Loss= 0.289905853\n",
      "Epoch:  98   =====> Loss= 0.290316726\n",
      "Epoch:  99   =====> Loss= 0.291874523\n",
      "Epoch:  100   =====> Loss= 0.287843245\n",
      "Optimization Finished!\n",
      "Accuracy: 0.9206\n"
     ]
    }
   ],
   "source": [
    "from __future__ import print_function\n",
    "import tensorflow as tf\n",
    "\n",
    "\n",
    "#STEP 1\n",
    "\n",
    "# Parameters\n",
    "learning_rate = 0.01\n",
    "training_epochs = 100\n",
    "batch_size = 128\n",
    "display_step = 1\n",
    "logs_path = 'log_files/'  # useful for tensorboard\n",
    "\n",
    "tf.reset_default_graph()\n",
    "# tf Graph Input:  mnist data image of shape 28*28=784\n",
    "x = tf.placeholder(tf.float32, [None, 784], name='InputData')\n",
    "# 0-9 digits recognition,  10 classes\n",
    "y = tf.placeholder(tf.float32, [None, 10], name='LabelData')\n",
    "\n",
    "# Set model weights\n",
    "W = tf.Variable(tf.zeros([784, 10]), name='Weights')\n",
    "b = tf.Variable(tf.zeros([10]), name='Bias')\n",
    "\n",
    "# Construct model and encapsulating all ops into scopes, making Tensorboard's Graph visualization more convenient\n",
    "with tf.name_scope('Model'):\n",
    "    # Model\n",
    "    pred = tf.nn.softmax(tf.matmul(x, W) + b) # Softmax\n",
    "with tf.name_scope('Loss'):\n",
    "    # Minimize error using cross entropy\n",
    "    cost = tf.reduce_mean(-tf.reduce_sum(y*tf.log(pred), reduction_indices=1))\n",
    "with tf.name_scope('SGD'):\n",
    "    # Gradient Descent\n",
    "    optimizer = tf.train.GradientDescentOptimizer(learning_rate).minimize(cost)\n",
    "with tf.name_scope('Accuracy'):\n",
    "    # Accuracy\n",
    "    acc = tf.equal(tf.argmax(pred, 1), tf.argmax(y, 1))\n",
    "    acc = tf.reduce_mean(tf.cast(acc, tf.float32))\n",
    "\n",
    "# Initializing the variables\n",
    "init = tf.global_variables_initializer()\n",
    "# Create a summary to monitor cost tensor\n",
    "tf.summary.scalar(\"Loss\", cost)\n",
    "# Create a summary to monitor accuracy tensor\n",
    "tf.summary.scalar(\"Accuracy\", acc)\n",
    "# Merge all summaries into a single op\n",
    "merged_summary_op = tf.summary.merge_all()\n",
    "\n",
    "\n",
    "#STEP 2 \n",
    "\n",
    "\n",
    "# Launch the graph for training\n",
    "with tf.Session() as sess:\n",
    "    sess.run(init)\n",
    "    # op to write logs to Tensorboard\n",
    "    summary_writer = tf.summary.FileWriter(logs_path, graph=tf.get_default_graph())\n",
    "    # Training cycle\n",
    "    for epoch in range(training_epochs):\n",
    "        avg_cost = 0.\n",
    "        total_batch = int(mnist.train.num_examples/batch_size)\n",
    "        # Loop over all batches\n",
    "        for i in range(total_batch):\n",
    "            batch_xs, batch_ys = mnist.train.next_batch(batch_size)\n",
    "            # Run optimization op (backprop), cost op (to get loss value)\n",
    "            # and summary nodes\n",
    "            _, c, summary = sess.run([optimizer, cost, merged_summary_op],\n",
    "                                     feed_dict={x: batch_xs, y: batch_ys})\n",
    "            # Write logs at every iteration\n",
    "            summary_writer.add_summary(summary, epoch * total_batch + i)\n",
    "            # Compute average loss\n",
    "            avg_cost += c / total_batch\n",
    "        # Display logs per epoch step\n",
    "        if (epoch+1) % display_step == 0:\n",
    "            print(\"Epoch: \", '%02d' % (epoch+1), \"  =====> Loss=\", \"{:.9f}\".format(avg_cost))\n",
    "\n",
    "    print(\"Optimization Finished!\")\n",
    "\n",
    "    # Test model\n",
    "    # Calculate accuracy\n",
    "    print(\"Accuracy:\", acc.eval({x: mnist.test.images, y: mnist.test.labels}))\n",
    "\n",
    "\n"
   ]
  },
  {
   "cell_type": "markdown",
   "metadata": {
    "deletable": true,
    "editable": true
   },
   "source": [
    "<b> Part 2  </b>: Using Tensorboard, we can  now visualize the created graph, giving you an overview of your architecture and how all of the major components  are connected. You can also see and analyse the learning curves. \n",
    "\n",
    "To launch tensorBoard: \n",
    "- Go to the **TP2** folder, \n",
    "- Open a Terminal and run the command line **\"tensorboard --logdir= log_files/\"**, it will generate an http link --> http://192.168.17.2:6006/ \n",
    "- Copy this  link into your web browser \n",
    "\n",
    "\n",
    "Enjoy It !! \n"
   ]
  },
  {
   "cell_type": "markdown",
   "metadata": {
    "deletable": true,
    "editable": true
   },
   "source": [
    "# Section 2 : The 99% MNIST Challenge !"
   ]
  },
  {
   "cell_type": "markdown",
   "metadata": {
    "deletable": true,
    "editable": true
   },
   "source": [
    "<b> Part 1 </b> : LeNet5 implementation"
   ]
  },
  {
   "cell_type": "markdown",
   "metadata": {
    "deletable": true,
    "editable": true
   },
   "source": [
    "Once you are now familar with **tensorFlow** and **tensorBoard**, you are in this section to build, train and test the baseline [LeNet-5](http://yann.lecun.com/exdb/lenet/)  model for the MNIST digits recognition problem.  \n",
    "\n",
    "In more advanced step you will make some optimizations to get more than 99% of accuracy. The best model can get to over 99.7% accuracy! \n",
    "\n",
    "For more information, have a look at this list of results : http://rodrigob.github.io/are_we_there_yet/build/classification_datasets_results.html"
   ]
  },
  {
   "cell_type": "markdown",
   "metadata": {
    "deletable": true,
    "editable": true
   },
   "source": [
    "\n",
    "<img src=\"lenet.png\",width=\"800\" height=\"600\" align=\"center\">\n",
    "<center><span>Figure 1: Lenet 5 </span></center>\n",
    "\n",
    "\n",
    "\n",
    "\n",
    "\n",
    "The LeNet architecture accepts a 32x32xC image as input, where C is the number of color channels. Since MNIST images are grayscale, C is 1 in this case.\n",
    "\n",
    "--------------------------\n",
    "**Layer 1: Convolutional.** The output shape should be 28x28x6 **Activation.** sigmoid **Pooling.** The output shape should be 14x14x6.\n",
    "\n",
    "**Layer 2: Convolutional.** The output shape should be 10x10x16. **Activation.** sigmoid **Pooling.** The output shape should be 5x5x16.\n",
    "\n",
    "**Flatten.** Flatten the output shape of the final pooling layer such that it's 1D instead of 3D.  You may need to use **flatten*  from tensorflow.contrib.layers import flatten\n",
    "\n",
    "**Layer 3: Fully Connected.** This should have 120 outputs. **Activation.** sigmoid\n",
    "\n",
    "**Layer 4: Fully Connected.** This should have 84 outputs. **Activation.** sigmoid\n",
    "\n",
    "**Layer 5: Fully Connected.** This should have 10 outputs. **Activation.** softmax\n"
   ]
  },
  {
   "cell_type": "markdown",
   "metadata": {
    "deletable": true,
    "editable": true
   },
   "source": [
    "<b> Question 2.1.1 </b>  Implement the Neural Network architecture described above.\n",
    "For that, your will use classes and functions from  https://www.tensorflow.org/api_docs/python/tf/nn. \n",
    "\n",
    "We give you some helper functions for weigths and bias initilization. Also you can refer to section 1. \n"
   ]
  },
  {
   "cell_type": "code",
   "execution_count": 43,
   "metadata": {
    "collapsed": true,
    "deletable": true,
    "editable": true
   },
   "outputs": [],
   "source": [
    "def weight_variable(shape):\n",
    "  initial = tf.truncated_normal(shape, stddev=0.1)\n",
    "  return tf.Variable(initial)\n",
    "\n",
    "def bias_variable(shape):\n",
    "  initial = tf.constant(0.1, shape=shape)\n",
    "  return tf.Variable(initial)"
   ]
  },
  {
   "cell_type": "code",
   "execution_count": 59,
   "metadata": {
    "collapsed": false,
    "deletable": true,
    "editable": true
   },
   "outputs": [],
   "source": [
    "def LeNet5_Model(data, activation_function, drop_out): \n",
    "    ######## Convolutional Layer #1\n",
    "    \n",
    "    # [filter_height,filter_width, in_channel, num_out_filters]\n",
    "    filter_shape_c1 = [5, 5, 1, 6]\n",
    "    f_conv1 = weight_variable(filter_shape_c1)\n",
    "    \n",
    "    conv1 = tf.nn.conv2d(input=data, filter=f_conv1, strides=[1,1,1,1], padding=\"SAME\")\n",
    "    # shape of the output: (?, 28, 28, 6) conv1\n",
    "    \n",
    "    # activation \n",
    "    b1 = bias_variable([6])\n",
    "    h1 = activation_function(tf.nn.bias_add(conv1,b1))\n",
    "    # shape of the output: (?, 28, 28, 6) h1\n",
    "    \n",
    "    ######### Pooling layer #1\n",
    "    \n",
    "    pooled1 = tf.nn.max_pool(h1,ksize=[1, 2, 2, 1], strides=[1, 2, 2, 1], padding='VALID')\n",
    "    # shape of the output: (?, 14, 14, 6) pooled1\n",
    "    \n",
    "    ######### Convolutional Layer #2\n",
    "    \n",
    "    filter_shape_c2 = [5,5,6,16]\n",
    "    f_conv2 = weight_variable(filter_shape_c2)\n",
    "    \n",
    "    conv2 = tf.nn.conv2d(pooled1, filter=f_conv2, strides=[1,1,1,1], padding=\"VALID\")\n",
    "    # shape of the output: (?, 10, 10, 16) conv2\n",
    "\n",
    "    # activation \n",
    "    b2 = bias_variable([16])\n",
    "    h2 = activation_function(tf.nn.bias_add(conv2,b2))\n",
    "    # shape of the output: (?, 10, 10, 16) h2\n",
    "    \n",
    "    ######### Pooling layer #2\n",
    "    \n",
    "    pooled2 = tf.nn.max_pool(h2,ksize=[1, 2, 2, 1], strides=[1, 2, 2, 1], padding='VALID')\n",
    "    # shape of the output:(?, 5, 5, 16) pooled2\n",
    "    \n",
    "    # flattening the output of second pooling layer --> matrix to vector (since we have to enter the NN)\n",
    "    pooled2_flat = tf.reshape(pooled2, [-1, 5*5*16])\n",
    "    \n",
    "    ######### The neural network\n",
    "\n",
    "    dense1 = tf.layers.dense(inputs=pooled2_flat, units=120, activation=activation_function)\n",
    "    dense2 = tf.layers.dense(inputs=dense1, units=84, activation=activation_function)\n",
    "    dense3 = tf.layers.dense(inputs=dense2, units=10, activation=tf.nn.softmax)\n",
    "    \n",
    "    return dense3"
   ]
  },
  {
   "cell_type": "markdown",
   "metadata": {
    "deletable": true,
    "editable": true
   },
   "source": [
    "<b> Question 2.1.2. </b>  Calculate the number of parameters of this model "
   ]
  },
  {
   "cell_type": "markdown",
   "metadata": {
    "collapsed": true,
    "deletable": true,
    "editable": true
   },
   "source": [
    "<div style=\"background-color:#d9e6fc; padding:10px 15px 10px 15px;\"> \n",
    "<h4>Generic convolution layer</h4>\n",
    "For a generic convolution layer the number of parameters is:\n",
    "<ul>\n",
    "<li>weights_number = filter_height * filter_width * number_of_channels * number_of_filters\n",
    "<li>biases_number = number_of_filters\n",
    "</ul>\n",
    "In our case this results in:\n",
    "<ul>\n",
    "<li>convolution_layer_1_weights = 5*5*1*6 = 150\n",
    "<li>convolution_layer_1_biases = 6\n",
    "<li>convolution_layer_2_weights = 5*5*6*16 = 2400\n",
    "<li>convolution_layer_2_biases = 16\n",
    "</ul>\n",
    "<h4>Generic pooling layer</h4>\n",
    "For the pooling layer, the number of parameters is equal to 0 because the number of weights and biases is equal to 0.\n",
    "<h4>Fully connected layers</h4>\n",
    "For a fully connected layer (not the output one), the number of parameters are:\n",
    "<ul>\n",
    "<li>weights_number = (number_of_neurons + 1) * number_of_neurons_following_layer\n",
    "<li>biases = 1 neuron connected to all the neurons of the following layer.\n",
    "</ul>\n",
    "In our case:\n",
    "<ul>\n",
    "<li>weights_number (from input to first fully connected layer)  = (400 + 1) * 120 = 48120\n",
    "<li>biases = 1 \n",
    "<li>weights_number (from  first fully connected layer to second fully connected layer)  = (120 + 1) * 84 = 10164\n",
    "<li>biases = 1 \n",
    "<li>weights_number (from  first fully connected layer to second fully connected layer) = (84 + 1) * 10 = 850\n",
    "<li>biases = 1 \n",
    "</ul>\n",
    "<h4>Comments</h4>\n",
    "<ul>\n",
    "<li>The 400 that appears in the count from input to first fully connected layer is the number of images multiplyed by the dimension of the images, and derives from the flatten performed on the last pooling layer.\n",
    "<li>We did not take into account the dropout. In that case the the number of neurons for the hidden fully connected  layers should be multiplyed by the drop_out rate.\n",
    "</ul>\n",
    "</div>"
   ]
  },
  {
   "cell_type": "markdown",
   "metadata": {
    "deletable": true,
    "editable": true
   },
   "source": [
    "<b> Question 2.1.3. </b>  Start the training with the parameters cited below:\n",
    "\n",
    "     Learning rate = 0.1\n",
    "     Loss Function : Cross entropy\n",
    "     Optimisateur: SGD\n",
    "     Number of training iterations = 10000\n",
    "     The batch size = 128"
   ]
  },
  {
   "cell_type": "code",
   "execution_count": 45,
   "metadata": {
    "collapsed": false,
    "deletable": true,
    "editable": true
   },
   "outputs": [],
   "source": [
    "# Training parameters \n",
    "learning_rate = 0.1\n",
    "training_epochs = 10000\n",
    "batch_size = 128\n",
    "optimizer = tf.train.GradientDescentOptimizer"
   ]
  },
  {
   "cell_type": "markdown",
   "metadata": {
    "deletable": true,
    "editable": true
   },
   "source": [
    "<b> Question 2.1.4. </b>  Implement the evaluation function for accuracy computation "
   ]
  },
  {
   "cell_type": "code",
   "execution_count": 46,
   "metadata": {
    "collapsed": true,
    "deletable": true,
    "editable": true
   },
   "outputs": [],
   "source": [
    "def evaluate(model, y):\n",
    "    acc = tf.equal(tf.argmax(model, 1), tf.argmax(y, 1))\n",
    "    acc = tf.reduce_mean(tf.cast(acc, tf.float32))\n",
    "    return acc"
   ]
  },
  {
   "cell_type": "markdown",
   "metadata": {
    "collapsed": false,
    "deletable": true,
    "editable": true
   },
   "source": [
    "<b> Question 2.1.5. </b>  Implement training pipeline and run the training data through it to train the model.\n",
    "\n",
    "- Before each epoch, shuffle the training set. \n",
    "- Print the loss per mini batch and the training/validation accuracy per epoch. (Display results every 100 epochs)\n",
    "- Save the model after training\n",
    "- Print after training the final testing accuracy \n",
    "\n"
   ]
  },
  {
   "cell_type": "markdown",
   "metadata": {},
   "source": [
    "<div style=\"background-color:#327191; vertical-align: middle; padding:5px 0px 10px 10px;\">\n",
    "    <h2><font color='white'>What we did</font></h2>\n",
    "</div>"
   ]
  },
  {
   "cell_type": "markdown",
   "metadata": {},
   "source": [
    "<div style=\"background-color:#d9e6fc; padding:10px 15px 10px 15px;\"> \n",
    "<ul>\n",
    "<li>Before each epoch, shuffle training set: we used `mnist.train.next_batch(0,shuffle=True)` to shuffle before sampling the batches; since the size of the batch in the command is zero, we are just shuffling the dataset without taking any batch.\n",
    "<li> Setting threshold: we noticed that after a certain number of epochs, the validation accuracy was not significantly increasing. So we decided to use a threshold to limit the number of iterations. In addition to that, stopping the learning process also means decreasing the running time.\n",
    "<li> We also decided to display the calculated accuracies (training and validation accuracy) for every 50 epochs, since we decreased the total number of iterations by setting the threshold. By displaying the results more frequently it is easier to spot when the model is no longer improving significantly.\n",
    "<li> We added the option of using another model, \"LeNet5_Model_dropout\", that will be used in the last part of the notebook.\n",
    "</ul>\n",
    "</div>"
   ]
  },
  {
   "cell_type": "markdown",
   "metadata": {},
   "source": [
    "<div style=\"background-color:#d9e6fc; padding:10px 15px 10px 15px;\"> \n",
    "Note about the threshold:<br><br>\n",
    "The threshold is calculated every N epochs, and the comparison is made with the previous value of accuracy (calculated 1 epoch before -> N-1). We know that this is not very precise, since it is possible that the increase in accuracy drops between N-1 and N without us noticing it. We did this choice for two reaons:\n",
    "<ul>\n",
    "<li>speed: calculating the error and the accuracy every N epochs takes less time than calculating it every epoch, and since we are displaying it every N epochs, the computation is only done before that;\n",
    "<li>since we are displaying the results every 50 epochs in most of the cases, the frequency of the checking on the accuracy improving less than the threshold is reasonable high.\n",
    "</ul>\n",
    "</div>"
   ]
  },
  {
   "cell_type": "code",
   "execution_count": 90,
   "metadata": {
    "collapsed": false,
    "deletable": true,
    "editable": true
   },
   "outputs": [],
   "source": [
    "\n",
    "# Initializing the variables\n",
    "def train(learning_rate = 0.1, training_epochs = 50, batch_size = 128, display_step = 1, \n",
    "            optimizer= tf.train.GradientDescentOptimizer,\n",
    "            activation_func = tf.nn.sigmoid, drop_out = 1.,model = \"LeNet5_Model\",\n",
    "            threshold = 0.0002\n",
    "         ):\n",
    "\n",
    "    #resetting eventual already present graph\n",
    "    tf.reset_default_graph()   \n",
    "    \n",
    "    print (\"Start Training!\")     \n",
    "        \n",
    "    # tf Graph Input:  mnist data image of shape 28*28*1 layer\n",
    "    x = tf.placeholder(tf.float32, [None, 28, 28, 1], name='InputData')\n",
    "    # 0-9 digits recognition,  10 classes\n",
    "    y = tf.placeholder(tf.float32, [None, 10], name='LabelData')\n",
    "    keep_prob = tf.placeholder(tf.float32, name='DropOut')\n",
    "\n",
    "    with tf.name_scope('Model'):\n",
    "        if model == \"LeNet5_Model\":\n",
    "            pred = LeNet5_Model(x, activation_func, keep_prob)\n",
    "        if model == \"LeNet5_Model_dropout\":\n",
    "            pred = LeNet5_Model_dropout(x, activation_func, keep_prob)\n",
    "    with tf.name_scope('Loss_LaNet'):\n",
    "        # Minimize error using cross entropy\n",
    "        cost = tf.reduce_mean(-tf.reduce_sum(y*tf.log(pred+1e-9), reduction_indices=1))\n",
    "    with tf.name_scope('SGD'):\n",
    "        # Gradient Descent\n",
    "        optimizer = optimizer(learning_rate).minimize(cost)\n",
    "    with tf.name_scope('Accuracy_LaNet'):\n",
    "        # Accuracy\n",
    "        acc = tf.equal(tf.argmax(pred, 1), tf.argmax(y, 1))\n",
    "        acc = tf.reduce_mean(tf.cast(acc, tf.float32))\n",
    "\n",
    "    # Initializing the variables\n",
    "    init = tf.global_variables_initializer()\n",
    "    # Create a summary to monitor cost tensor\n",
    "    tf.summary.scalar(\"Loss_LaNet\", cost)\n",
    "    # Create a summary to monitor accuracy tensor\n",
    "    tf.summary.scalar(\"Accuracy_LaNet\", acc)\n",
    "    # Merge all summaries into a single op\n",
    "    merged_summary_op = tf.summary.merge_all()\n",
    "    \n",
    "    def training_finished():\n",
    "        print (\"Training Finished!\")\n",
    "        # display testing accuracy using evaluation function defined before\n",
    "        acc = evaluate(pred, mnist.test.labels)\\\n",
    "            .eval({x: mnist.test.images.reshape([-1,28,28,1]), y: mnist.test.labels,\n",
    "                  keep_prob: drop_out})\n",
    "        print(\"Testing Accuracy:\", acc)\n",
    "\n",
    "        return acc, pred\n",
    "\n",
    "    # Launch the graph for training\n",
    "    with tf.Session() as sess:\n",
    "        sess.run(init)\n",
    "        # write logs to Tensorboard\n",
    "        summary_writer = tf.summary.FileWriter(logs_path, graph=tf.get_default_graph())\n",
    "        old_validation = 0\n",
    "        # Training cycle\n",
    "        for epoch in range(training_epochs):\n",
    "            avg_cost = 0.\n",
    "            total_batch = int(mnist.train.num_examples/batch_size)\n",
    "            # shuffle the training set\n",
    "            mnist.train.next_batch(0,shuffle=True)\n",
    "            # Loop over all batches\n",
    "            for i in range(total_batch):\n",
    "                batch_xs, batch_ys = mnist.train.next_batch(batch_size,shuffle=False)\n",
    "                # reshape to match the shape of x = tf.placeholder(tf.float32, [None, 28, 28, 1], name='InputData')\n",
    "                batch_xs = batch_xs.reshape([-1, 28, 28, 1])\n",
    "                # Run optimization op (backprop), cost op (to get loss value)\n",
    "                # and summary nodes\n",
    "                _, c, summary = sess.run([optimizer, cost, merged_summary_op],\n",
    "                                         feed_dict={x: batch_xs, y: batch_ys, keep_prob: drop_out})\n",
    "                # Write logs at every iteration\n",
    "                summary_writer.add_summary(summary, epoch * total_batch + i)\n",
    "                # Compute average loss                \n",
    "                avg_cost += c / total_batch\n",
    "\n",
    "                \n",
    "            # Display logs per epoch step\n",
    "            if (epoch+1) % display_step == 0:\n",
    "                print(\"Epoch: \", '%02d' % (epoch+1))\n",
    "                print(\"\\t\\t======> Loss:\", \"{:.9f}\".format(avg_cost))\n",
    "                training_acc = acc.eval({x: mnist.train.images.reshape([-1,28,28,1]), y: mnist.train.labels,\n",
    "                                         keep_prob: drop_out})\n",
    "                val_acc = acc.eval({x: mnist.validation.images.reshape([-1,28,28,1]), y: mnist.validation.labels,\n",
    "                                    keep_prob: drop_out})\n",
    "                print(\"\\t\\t======> Training Accuracy:\", \"{:.9f}\".format(training_acc))\n",
    "                print(\"\\t\\t======> Validation Accuracy:\", \"{:.9f}\".format(val_acc))\n",
    "                if val_acc - old_validation <= threshold:\n",
    "                        return training_finished()\n",
    "                old_validation = val_acc\n",
    "                        \n",
    "        return training_finished() "
   ]
  },
  {
   "cell_type": "code",
   "execution_count": 51,
   "metadata": {
    "collapsed": false
   },
   "outputs": [
    {
     "name": "stdout",
     "output_type": "stream",
     "text": [
      "Start Training!\n",
      "Epoch:  50\n",
      "\t\t======> Loss: 0.051404245\n",
      "\t\t======> Training Accuracy: 0.984963655\n",
      "\t\t======> Validation Accuracy: 0.984399974\n",
      "Epoch:  100\n",
      "\t\t======> Loss: 0.027472243\n",
      "\t\t======> Training Accuracy: 0.992181838\n",
      "\t\t======> Validation Accuracy: 0.987600029\n",
      "Epoch:  150\n",
      "\t\t======> Loss: 0.016783195\n",
      "\t\t======> Training Accuracy: 0.995618165\n",
      "\t\t======> Validation Accuracy: 0.987600029\n",
      "Training Finished!\n",
      "Testing Accuracy: 0.9891\n"
     ]
    },
    {
     "data": {
      "text/plain": [
       "(0.98909998, <tf.Tensor 'Model/dense/Softmax:0' shape=(?, 10) dtype=float32>)"
      ]
     },
     "execution_count": 51,
     "metadata": {},
     "output_type": "execute_result"
    }
   ],
   "source": [
    "train(learning_rate = learning_rate, training_epochs = 10000, batch_size = 128, display_step = 50, \n",
    "            optimizer= tf.train.GradientDescentOptimizer, threshold=0.002)"
   ]
  },
  {
   "cell_type": "markdown",
   "metadata": {
    "deletable": true,
    "editable": true
   },
   "source": [
    "<b> Question 2.1.6 </b> : Use tensorBoard to visualise and save the LeNet5 Graph and all learning curves. \n",
    "Save all obtained figures in the folder **\"TP2/MNIST_99_Challenge_Figures\"**"
   ]
  },
  {
   "cell_type": "markdown",
   "metadata": {},
   "source": [
    "<div style=\"background-color:#327191; vertical-align: middle; padding:5px 0px 10px 10px;\">\n",
    "    <h2><font color='white'>Comment</font></h2>\n",
    "</div>"
   ]
  },
  {
   "cell_type": "markdown",
   "metadata": {
    "collapsed": true,
    "deletable": true,
    "editable": true
   },
   "source": [
    "<div style=\"background-color:#d9e6fc; padding:0px 15px 10px 15px;\">     \n",
    "We can see how the accuracy and the loss of the SGD optimizer are respectively increasing and decreasing with the same trend, as expected. By looking at the figures we can conclude that our threshold (0.002) on the improvement of the validation accuracy was maybe too low, since there is not much improvement for the most part of the learning process. However, we decided to reduce this value to 0.0002, in order to have more iterations and later on better compare the two optimization methods: AdamOptimizer and SGD.\n",
    "</div>"
   ]
  },
  {
   "cell_type": "markdown",
   "metadata": {
    "collapsed": true,
    "deletable": true,
    "editable": true
   },
   "source": [
    "<img src='images/Accuracy_SGD_01_128.jpg'>\n",
    "<img src='images/Loss_SGD_01_128.jpg'>\n"
   ]
  },
  {
   "cell_type": "markdown",
   "metadata": {
    "collapsed": true,
    "editable": true
   },
   "source": [
    "<div style=\"background-color:#d9e6fc; padding:0px 15px 10px 15px;\">     \n",
    "For the two figures below we used tensorBoard to visualise the LeNet5 Graph and the model.  \n",
    "</div>"
   ]
  },
  {
   "cell_type": "markdown",
   "metadata": {},
   "source": [
    "<img src='images/graph_run=.png'>\n",
    "<img src='images/graph_run=(1).png'>"
   ]
  },
  {
   "cell_type": "markdown",
   "metadata": {
    "deletable": true,
    "editable": true
   },
   "source": [
    "<b> Part 2 </b> : LeNET 5 Optimization"
   ]
  },
  {
   "cell_type": "markdown",
   "metadata": {
    "deletable": true,
    "editable": true
   },
   "source": [
    "\n",
    "<b> Question 2.2.1 </b>  Change the sigmoid function with a Relu :\n",
    "\n",
    "- Retrain your network with SGD and AdamOptimizer and then fill the table below  :\n",
    "\n",
    "\n",
    "| Optimizer            |  Gradient Descent         |AdamOptimizer |\n",
    "| -------------        |: -------------: | ---------:   \n",
    "| Validation Accuracy  |           |     |     \n",
    "| Testing Accuracy     |           |     |       \n",
    "| Training Time        |           |     |  |  \n",
    "\n",
    "\n",
    "- Try with different learning rates for each Optimizer (0.0001 and 0.001 ) and different Batch sizes (50 and 128) for 20000 Epochs. \n",
    "\n",
    "- For each optimizer, plot (on the same curve) the **testing accuracies** function to **(learning rate, batch size)** \n",
    "\n",
    "\n",
    "\n",
    "- Did you reach the 99% accuracy ? What are the optimal parameters that gave you the best results? \n",
    "\n",
    "\n",
    "\n",
    "\n",
    "\n",
    "\n"
   ]
  },
  {
   "cell_type": "markdown",
   "metadata": {},
   "source": [
    "<div style=\"background-color:#327191; vertical-align: middle; padding:5px 0px 10px 10px;\">\n",
    "    <h2><font color='white'>SGD vs Adam</font></h2>\n",
    "</div>"
   ]
  },
  {
   "cell_type": "markdown",
   "metadata": {
    "collapsed": true,
    "editable": true
   },
   "source": [
    "<div style=\"background-color:#d9e6fc; padding:10px 15px 10px 15px;\"> \n",
    "<h4>Task</h4>\n",
    "<b>\n",
    "Retrain your network (with Relu) with SGD and AdamOptimizer and then fill the table below.</b><br><br>\n",
    "From what we understood, we are now using relu as activation function instead of sigmoid, and using the same parameters given earlier we are comparing SGD and AdamOptimizer. In the table below we are reporting the results.<br>\n",
    "The parameters are:\n",
    "<ul>\n",
    "<li>Learning rate = 0.1\n",
    "<li>Loss Function : Cross entropy\n",
    "<li>Optimizer: SGD\n",
    "<li>Number of training iterations = 10000\n",
    "<li>The batch size = 128\n",
    "</ul>\n",
    "</div>"
   ]
  },
  {
   "cell_type": "markdown",
   "metadata": {},
   "source": [
    "<table style=\"width:40%\">\n",
    "  <tr>\n",
    "    <th></th>\n",
    "    <th>Gradient Descent</th> \n",
    "    <th>AdamOptimizer</th>\n",
    "  </tr>\n",
    "  <tr>\n",
    "    <td>Validation Accuracy</td>\n",
    "    <td>0.095799997</td>\n",
    "    <td>0.095799997</td>\n",
    "  </tr>\n",
    "  <tr>\n",
    "    <td>Testing Accuracy</td>\n",
    "    <td>0.098</td>\n",
    "    <td>0.098</td>\n",
    "  </tr>\n",
    "  <tr>\n",
    "    <td>Training Time</td>\n",
    "    <td>100</td>\n",
    "    <td>100</td>\n",
    "  </tr>\n",
    "</table>\n"
   ]
  },
  {
   "cell_type": "code",
   "execution_count": 70,
   "metadata": {
    "collapsed": false
   },
   "outputs": [
    {
     "name": "stdout",
     "output_type": "stream",
     "text": [
      "Train with \n",
      "\tLR: 0.1 \n",
      "\tbatch_size: 128 \n",
      "\topt method: GradientDescentOptimizer\n",
      "Start Training!\n",
      "Epoch:  50\n",
      "\t\t======> Loss: nan\n",
      "\t\t======> Training Accuracy: 0.098981820\n",
      "\t\t======> Validation Accuracy: 0.095799997\n",
      "Epoch:  100\n",
      "\t\t======> Loss: nan\n",
      "\t\t======> Training Accuracy: 0.098981820\n",
      "\t\t======> Validation Accuracy: 0.095799997\n",
      "Training Finished!\n",
      "Testing Accuracy: 0.098\n",
      "Train with \n",
      "\tLR: 0.1 \n",
      "\tbatch_size: 128 \n",
      "\topt method: AdamOptimizer\n",
      "Start Training!\n",
      "Epoch:  50\n",
      "\t\t======> Loss: nan\n",
      "\t\t======> Training Accuracy: 0.098981820\n",
      "\t\t======> Validation Accuracy: 0.095799997\n",
      "Epoch:  100\n",
      "\t\t======> Loss: nan\n",
      "\t\t======> Training Accuracy: 0.098981820\n",
      "\t\t======> Validation Accuracy: 0.095799997\n",
      "Training Finished!\n",
      "Testing Accuracy: 0.098\n"
     ]
    }
   ],
   "source": [
    "LR = 0.1\n",
    "BS = 128\n",
    "ACT = tf.nn.relu\n",
    "methods = ['GradientDescentOptimizer','AdamOptimizer']\n",
    "for i, OPT in enumerate([tf.train.GradientDescentOptimizer,tf.train.AdamOptimizer]):\n",
    "    print('Train with \\n\\tLR:',LR,'\\n\\tbatch_size:',BS,'\\n\\topt method:',methods[i])\n",
    "    train(learning_rate = LR, training_epochs = 10000, \n",
    "              batch_size = BS, display_step = 50, \n",
    "              optimizer= OPT,\n",
    "              activation_func = ACT\n",
    "         )"
   ]
  },
  {
   "cell_type": "markdown",
   "metadata": {},
   "source": [
    "<div style=\"background-color:#d9e6fc; padding:0px 15px 10px 15px;\">     \n",
    "After running the model with `tf.nn.relu`, we obtained NaN value as a result of the loss, and a very low testing accuracy. The low testing accuracy is probably correlated to the incorrect result of the loss: it is not possible to optimize something that is NaN.<br><br>\n",
    "Analyzing the cost function, we saw that the only operation that can return NaN is `tf.log`, and this happens when the input for the log is negative. This is strange since using the relu function should assure an output greater than zero.<br><br>\n",
    "\n",
    "\n",
    "\n",
    "<h4>Task</h4><b>Try with different learning rates for each Optimizer (0.0001 and 0.001 ) and different Batch sizes (50 and 128) for 20000 Epochs. </b><br><br>\n",
    "Even though we did have some problems with the relu function in the previous task, we are going to run the model using different LR and batch sizes to see if those have an impact on the NaN value as output.<br><br>\n",
    "\n",
    "We decided to use LR of values [0.1,0.01,0.001,0.0001] in order to have a better understanding of the model's behaviour and the impact of the LR. \n",
    "</div>"
   ]
  },
  {
   "cell_type": "markdown",
   "metadata": {},
   "source": [
    "<div style=\"background-color:#327191; vertical-align: middle; padding:5px 0px 10px 10px;\">\n",
    "    <h2><font color='white'>Relu</font></h2>\n",
    "</div>"
   ]
  },
  {
   "cell_type": "code",
   "execution_count": 91,
   "metadata": {
    "collapsed": true
   },
   "outputs": [],
   "source": [
    "methods = ['GradientDescentOptimizer','AdamOptimizer']\n",
    "for learning_rate in [0.1,0.01,0.001,0.0001]:\n",
    "    for batch_size in [50,128]:\n",
    "        for i, opt in enumerate([tf.train.GradientDescentOptimizer,tf.train.AdamOptimizer]):\n",
    "            print('Train with \\n\\tLR:',learning_rate,'\\n\\tbatch_size:',batch_size,'\\n\\topt method:',methods[i])\n",
    "            (test_acc, model) = train(learning_rate = learning_rate, training_epochs = 20000,\n",
    "                  batch_size = batch_size, display_step = 50, \n",
    "                  optimizer= opt, activation_func = tf.nn.relu)            "
   ]
  },
  {
   "cell_type": "markdown",
   "metadata": {},
   "source": [
    "<div style=\"background-color:#d9e6fc; padding:10px 15px 10px 15px;\"> \n",
    "We run the model as described above, but since we obtained NaN values for most of the configurations we are not displaying all outputs. However, the figures below show the different behaviour of the accuracy and loss. It is possible to see how in the first part of the curve seems to follow the expected behaviour (increasing for accuracy and decreasing for the loss). However after a while everything becomes messy and not clear. \n",
    "<br><br>\n",
    "Given these results we decided to use the sigmoid function to do the study on the different values of learning rate and batch sizes instead of using the relu function.\n",
    "</div>"
   ]
  },
  {
   "cell_type": "markdown",
   "metadata": {},
   "source": [
    "<h4>LR=0.1 Batch=50 Adam - Accuracy</h4>\n",
    "<img src='images/01_50_relu_adam_acc.png'>\n",
    "<h4>LR=0.1 Batch=50 Adam - Loss</h4>\n",
    "<img src='images/01_50_relu_adam_loss.png'>\n",
    "<h4>LR=0.01 Batch=50 Adam - Accuracy</h4>\n",
    "<img src='images/001_50_relu_adam_acc.png'>\n",
    "<h4>LR=0.01 Batch=50 Adam - Loss</h4>\n",
    "<img src='images/001_50_relu_adam_loss.png'>\n",
    "<h4>LR=0.1 Batch=50 SGD - Accuracy</h4>\n",
    "<img src='images/01_50_relu_SDG_acc.png'>\n",
    "<h4>LR=0.1 Batch=50 SGD - Loss</h4>\n",
    "<img src='images/01_50_relu_SDG_loss.png'>\n"
   ]
  },
  {
   "cell_type": "markdown",
   "metadata": {},
   "source": [
    "<div style=\"background-color:#327191; vertical-align: middle; padding:5px 0px 10px 10px;\">\n",
    "    <h2><font color='white'>Sigmoid</font></h2>\n",
    "</div>"
   ]
  },
  {
   "cell_type": "markdown",
   "metadata": {},
   "source": [
    "<div style=\"background-color:#d9e6fc; padding:0px 15px 10px 15px;\">     \n",
    "<b><h4>Task</h4>Try with different learning rates for each Optimizer (0.0001 and 0.001 ) and different Batch sizes (50 and 128) for 20000 Epochs.</b><br><br>\n",
    "We are going to study the behaviour of SGD and AdamOptimizer using:\n",
    "\n",
    "<ul>\n",
    "<li> batch size of 50 and 128\n",
    "<li> learning rate of 0.1, 0.01, 0.001 and 0.0001\n",
    "<li> sigmoid as activation function\n",
    "</ul>\n",
    "\n",
    "</div>"
   ]
  },
  {
   "cell_type": "code",
   "execution_count": 92,
   "metadata": {
    "collapsed": false,
    "scrolled": false
   },
   "outputs": [],
   "source": [
    "result = []\n",
    "methods = ['GradientDescentOptimizer','AdamOptimizer']\n",
    "for learning_rate in [0.1,0.01,0.001,0.0001]:\n",
    "    for batch_size in [50,128]:\n",
    "        for i, opt in enumerate([tf.train.GradientDescentOptimizer,tf.train.AdamOptimizer]):\n",
    "            print('Train with \\n\\tLR:',learning_rate,'\\n\\tbatch_size:',batch_size,'\\n\\topt method:',methods[i])\n",
    "            (test_acc, model) = train(learning_rate = learning_rate, training_epochs = 20000,\n",
    "                  batch_size = batch_size, display_step = 50, \n",
    "                  optimizer= opt)\n",
    "            result.append((test_acc, model, methods[i], learning_rate, batch_size))\n",
    "            "
   ]
  },
  {
   "cell_type": "raw",
   "metadata": {},
   "source": [
    "Train with  \n",
    "\tLR: 0.1  \n",
    "\tbatch_size: 50  \n",
    "\topt method: GradientDescentOptimizer\n",
    "Start Training!\n",
    "Epoch:  50\n",
    "\t\t======> Loss: 0.020533105\n",
    "\t\t======> Training Accuracy: 0.994527280\n",
    "\t\t======> Validation Accuracy: 0.987999976\n",
    "Epoch:  100\n",
    "\t\t======> Loss: 0.006300053\n",
    "\t\t======> Training Accuracy: 0.999145448\n",
    "\t\t======> Validation Accuracy: 0.987999976\n",
    "Training Finished!\n",
    "Testing Accuracy: 0.9885\n",
    "\n",
    ".............................................................\n",
    "                                                             |\n",
    "        ----> [ COMPLETE OUTPUT IN APPENDIX ] <----          |\n",
    "                                                             |                                                             .............................................................\n",
    "\n",
    "\n",
    "Train with \n",
    "\tLR: 0.0001 \n",
    "\tbatch_size: 128 \n",
    "\topt method: AdamOptimizer\n",
    "Start Training!\n",
    "Epoch:  50\n",
    "\t\t======> Loss: 0.072918902\n",
    "\t\t======> Training Accuracy: 0.977599978\n",
    "\t\t======> Validation Accuracy: 0.978999972\n",
    "Epoch:  100\n",
    "\t\t======> Loss: 0.037219385\n",
    "\t\t======> Training Accuracy: 0.989272714\n",
    "\t\t======> Validation Accuracy: 0.987600029\n",
    "Epoch:  150\n",
    "\t\t======> Loss: 0.021984074\n",
    "\t\t======> Training Accuracy: 0.993636370\n",
    "\t\t======> Validation Accuracy: 0.987999976\n",
    "Epoch:  200\n",
    "\t\t======> Loss: 0.012757969\n",
    "\t\t======> Training Accuracy: 0.997109115\n",
    "\t\t======> Validation Accuracy: 0.989799976\n",
    "Epoch:  250\n",
    "\t\t======> Loss: 0.006774417\n",
    "\t\t======> Training Accuracy: 0.998981833\n",
    "\t\t======> Validation Accuracy: 0.989799976\n",
    "Training Finished!\n",
    "Testing Accuracy: 0.988"
   ]
  },
  {
   "cell_type": "code",
   "execution_count": 74,
   "metadata": {
    "collapsed": false
   },
   "outputs": [],
   "source": [
    "# We are saving the results  \n",
    "SGD = [e[0] for e in result[::2]]\n",
    "Adam = [e[0] for e in result[1::2]]\n",
    "\n",
    "SGD_iterations = np.array([100, 200, 400, 600, 100, 100, 100, 100])\n",
    "Adam_iterations = np.array([100, 100, 150, 150, 200, 200, 200, 250])\n",
    "\n",
    "fSGD = open('results_acc_test_SDG','wb')\n",
    "fAdam = open('results_acc_test_Adam','wb')\n",
    "pickle.dump(SGD,fSGD)\n",
    "pickle.dump(Adam,fAdam)\n"
   ]
  },
  {
   "cell_type": "markdown",
   "metadata": {},
   "source": [
    "<div style=\"background-color:#327191; vertical-align: middle; padding:5px 0px 10px 10px;\">\n",
    "    <h2><font color='white'>Comment on sigmoid study</font></h2>\n",
    "</div>"
   ]
  },
  {
   "cell_type": "markdown",
   "metadata": {},
   "source": [
    "<div style=\"background-color:#d9e6fc; padding:10px 15px 10px 15px;\"> \n",
    "In the figure below we can see the performance of AdamOptimizer vs SDG, using:\n",
    "<br>\n",
    "<ul>\n",
    "<li> batch size of 50 and 128\n",
    "<li> learning rate of 0.1, 0.01, 0.001 and 0.0001\n",
    "<li> sigmoid as activation function\n",
    "</ul>\n",
    "<br>\n",
    "\n",
    "</div>"
   ]
  },
  {
   "cell_type": "code",
   "execution_count": 98,
   "metadata": {
    "collapsed": false
   },
   "outputs": [
    {
     "data": {
      "image/png": "[encoded data removed]",
      "text/plain": [
       "<matplotlib.figure.Figure at 0x7fce5019c128>"
      ]
     },
     "metadata": {},
     "output_type": "display_data"
    }
   ],
   "source": [
    "# Loading the data\n",
    "fSGD = open('results_acc_test_SDG','rb')\n",
    "fAdam = open('results_acc_test_Adam','rb')\n",
    "SGD = pickle.load(fSGD)\n",
    "Adam = pickle.load(fAdam)\n",
    "\n",
    "# SGD = np.array([0.9885,0.9905, 0.9883, 0.9859, 0.1135, 0.1135, 0.1135, 0.1135])\n",
    "# Adam = np.array([0.098, 0.1028, 0.098, 0.9846, 0.9894, 0.9905, 0.988, 0.988])\n",
    "\n",
    "\n",
    "# Plot figure of testing accuracy for different configurations\n",
    "plt.figure(figsize=(15,8))\n",
    "plt.plot(range(len(SGD)),SGD,label='SGD')\n",
    "plt.plot(range(len(Adam)),Adam,label='AdamOpt')\n",
    "plt.xticks(range(len(SGD)),('0.1, 50', '0.1, 128', '0.01, 50', '0.01, 128', '0.001, 50', '0.001, 128', '0.0001, 50', \n",
    "                            '0.0001, 128'))\n",
    "plt.xlabel('Learningrate, Batch_size')\n",
    "plt.title('Testing accuracy for different configurations')\n",
    "plt.legend(fontsize='large')\n",
    "plt.ylabel('Testing accuracy')\n",
    "plt.show()\n",
    "\n"
   ]
  },
  {
   "cell_type": "markdown",
   "metadata": {},
   "source": [
    "<div style=\"background-color:#d9e6fc; padding:10px 15px 10px 15px;\"> \n",
    "We can notice how the two optimization methods seem to be quite complementary: we are going to try to explain the reason of this behaviour.\n",
    "<br>\n",
    "<h4>AdamOpt</h4>\n",
    "AdamOptimizer is an improved SGD optimizer, that uses the momentum to improve the performance of the simple SGD. The convergence of the Adam should be faster than the convergence of SGD. This is an advantage when we use a low learning rate, since with the momentum we can still achieve a consistent improvement of the accuracy without iterating over too many epochs. On the other hand, using a higher learning rate the Adam optimizer is taking too large steps which can result in bad performance. This is because sometimes, to reach the optimum, it is necessary to improve by taking small steps.  \n",
    "\n",
    "<h4>SGD</h4>\n",
    "Focusing on SGD the case is the opposite; even though we have a high learning rate the steps of improvement are not as big as with the Adam optimizer, because the momentum is not used. Therefore we are able to reach the optimum before the improvement in the accuracy is less than the threshold. With a lower learning rate we have steps that are too small to reach the optimum without having improvements less than the threshold: this results in the end of the training since the error is not decreasing significantly and it would take too much time to reach the optimum solution.<br><br><br>\n",
    "\n",
    "Now we are studying the relation between the number of epochs and the training accuracy. \n",
    "</div>"
   ]
  },
  {
   "cell_type": "code",
   "execution_count": 99,
   "metadata": {
    "collapsed": false
   },
   "outputs": [
    {
     "data": {
      "image/png": "[encoded data removed]",
      "text/plain": [
       "<matplotlib.figure.Figure at 0x7fcf443cd128>"
      ]
     },
     "metadata": {},
     "output_type": "display_data"
    },
    {
     "data": {
      "image/png": "[encoded data removed]",
      "text/plain": [
       "<matplotlib.figure.Figure at 0x7fcf44353240>"
      ]
     },
     "metadata": {},
     "output_type": "display_data"
    }
   ],
   "source": [
    "# Plot figure of testing accuracy vs epochs\n",
    "plt.figure(figsize=(15,8))\n",
    "plt.plot(SGD_iterations,SGD,'s',label='SGD')\n",
    "plt.plot(Adam_iterations,Adam,'o',label='AdamOpt')\n",
    "plt.grid()\n",
    "plt.title('Epochs vs Accuracy')\n",
    "plt.xlabel('Epochs')\n",
    "plt.legend(fontsize='large')\n",
    "plt.ylabel('Testing accuracy')\n",
    "plt.show()\n",
    "\n",
    "# Plot figure of testing accuracy vs epochs - zoomed in\n",
    "plt.figure(figsize=(15,8))\n",
    "plt.plot(SGD_iterations,SGD,'s',SGD_iterations,SGD,'b--',label='SGD')\n",
    "plt.plot(Adam_iterations,Adam,'o',label='AdamOpt')\n",
    "plt.grid()\n",
    "plt.xlim(50,300)\n",
    "plt.ylim(0.98,1)\n",
    "plt.title('Epochs vs Accuracy (zoomed in)')\n",
    "plt.xlabel('Epochs')\n",
    "plt.legend(fontsize='large')\n",
    "plt.ylabel('Testing accuracy')\n",
    "plt.show()"
   ]
  },
  {
   "cell_type": "markdown",
   "metadata": {},
   "source": [
    "<div style=\"background-color:#d9e6fc; padding:10px 15px 10px 15px;\"> \n",
    "The first figure above shows us an overview: we can notice how the SGD performs more iterations than AdamOpt overall. The interesting part of the graph is the upper left corner, since our goal is to have high accuracy and low number of iterations. <br><br>\n",
    "In the second figure, that represents the upper left corner of the previous figure, there are a predominance of AdamOpt solutions. This means that overall the AdamOpt is faster than SGD, even though sometimes the performances are quite similar. <br><br>\n",
    "<h4>Best solution choice</h4>\n",
    "Given the assumptions above, we are chosing as best solution:\n",
    "<ul>\n",
    "<li>Optimizer: AdamOptimizer\n",
    "<li>Learning Rate: 0.001\n",
    "<li>Batch size: 128\n",
    "<li>Activation function: sigmoid\n",
    "</ul>\n",
    "</div>"
   ]
  },
  {
   "cell_type": "markdown",
   "metadata": {},
   "source": [
    "<div style=\"background-color:#327191; vertical-align: middle; padding:5px 0px 10px 10px;\">\n",
    "    <h2><font color='white'>Update on Relu</font></h2>\n",
    "</div>"
   ]
  },
  {
   "cell_type": "markdown",
   "metadata": {},
   "source": [
    "<div style=\"background-color:#d9e6fc; padding:10px 15px 10px 15px;\"> \n",
    "Before we said that the problem was the `tf.log` function. In order to solve this problem we acted as follow:\n",
    "<ul>\n",
    "<li>added the bias value of 1e-9 to the tf.log. Even though this is a really small value, it seems to be enough to avoid the NaN as output.\n",
    "<li>focused on lower LRs. High LRs tend to make the model to converge too rapidly, and this could also be a cause for the NaN as output of tf.log\n",
    "<li>decreased the display step. Before we said that having a display step of 50 epochs was a good choice, but in this case checking the improvements more oftenly (every 10), could avoid the model to reduce the loss too much ending up with NaN as output.\n",
    "</ul>\n",
    "</div>"
   ]
  },
  {
   "cell_type": "code",
   "execution_count": 100,
   "metadata": {
    "collapsed": false,
    "scrolled": false
   },
   "outputs": [],
   "source": [
    "ACT = tf.nn.relu\n",
    "methods = ['GradientDescentOptimizer','AdamOptimizer']\n",
    "for LR in [0.001,0.0001]:\n",
    "    for BS in [50,128]:\n",
    "        for i, OPT in enumerate([tf.train.GradientDescentOptimizer,tf.train.AdamOptimizer]):\n",
    "            print('Train with \\n\\tLR:',LR,'\\n\\tbatch_size:',BS,'\\n\\topt method:',methods[i])\n",
    "            train(learning_rate = LR, training_epochs = 200, \n",
    "                      batch_size = BS, display_step = 10, \n",
    "                      optimizer= OPT,\n",
    "                      activation_func = ACT\n",
    "                 )"
   ]
  },
  {
   "cell_type": "raw",
   "metadata": {},
   "source": [
    "Train with \n",
    "\tLR: 0.001 \n",
    "\tbatch_size: 50 \n",
    "\topt method: GradientDescentOptimizer\n",
    "Start Training!\n",
    "Epoch:  10\n",
    "\t\t======> Loss: 0.211236713\n",
    "\t\t======> Training Accuracy: 0.938363612\n",
    "\t\t======> Validation Accuracy: 0.944999993\n",
    "Epoch:  20\n",
    "\t\t======> Loss: 0.126804267\n",
    "\t\t======> Training Accuracy: 0.962854564\n",
    "\t\t======> Validation Accuracy: 0.969200015\n",
    "\n",
    "....\n",
    "....\n",
    "....\n",
    "\n",
    "Epoch:  140\n",
    "\t\t======> Loss: 0.027348864\n",
    "\t\t======> Training Accuracy: 0.991436362\n",
    "\t\t======> Validation Accuracy: 0.987800002\n",
    "Training Finished!\n",
    "Testing Accuracy: 0.987\n",
    "\n",
    ".............................................................\n",
    "                                                             |\n",
    "        ----> [ COMPLETE OUTPUT IN APPENDIX ] <----          |\n",
    "                                                             |                                                             .............................................................\n",
    "\n",
    "\n",
    "Train with \n",
    "\tLR: 0.0001 \n",
    "\tbatch_size: 128 \n",
    "\topt method: AdamOptimizer\n",
    "Start Training!\n",
    "Epoch:  10\n",
    "\t\t======> Loss: 0.082215154\n",
    "\t\t======> Training Accuracy: 0.976909101\n",
    "\t\t======> Validation Accuracy: 0.978200018\n",
    "Epoch:  20\n",
    "\t\t======> Loss: 0.046922821\n",
    "\t\t======> Training Accuracy: 0.987654567\n",
    "\t\t======> Validation Accuracy: 0.985400021\n",
    "Epoch:  30\n",
    "\t\t======> Loss: 0.031515293\n",
    "\t\t======> Training Accuracy: 0.991272748\n",
    "\t\t======> Validation Accuracy: 0.986199975\n",
    "Epoch:  40\n",
    "\t\t======> Loss: 0.021564392\n",
    "\t\t======> Training Accuracy: 0.993927300\n",
    "\t\t======> Validation Accuracy: 0.986199975\n",
    "Training Finished!\n",
    "Testing Accuracy: 0.9873\n"
   ]
  },
  {
   "cell_type": "code",
   "execution_count": 101,
   "metadata": {
    "collapsed": true
   },
   "outputs": [],
   "source": [
    "SGD_iterations_relu = np.array([140, 100, 200, 200])\n",
    "Adam_iterations_relu = np.array([20, 20, 30, 40])\n",
    "\n",
    "SGD_relu = np.array([0.987, 0.9763, 0.9671, 0.9296])\n",
    "Adam_relu = np.array([0.9885, 0.9852,  0.9863, 0.9873])"
   ]
  },
  {
   "cell_type": "code",
   "execution_count": 104,
   "metadata": {
    "collapsed": false
   },
   "outputs": [
    {
     "data": {
      "image/png": "[encoded data removed]",
      "text/plain": [
       "<matplotlib.figure.Figure at 0x7fce645d0438>"
      ]
     },
     "metadata": {},
     "output_type": "display_data"
    }
   ],
   "source": [
    "# Plot figure of testing accuracy for different configurations\n",
    "plt.figure(figsize=(15,8))\n",
    "plt.plot(range(len(SGD_relu)),SGD_relu,label='SGD')\n",
    "plt.plot(range(len(Adam_relu)),Adam_relu,label='AdamOpt')\n",
    "plt.xticks(range(len(SGD_relu)),('0.001, 50', '0.001, 128', '0.0001, 50', '0.0001, 128'))\n",
    "plt.xlabel('Learningrate, Batch_size')\n",
    "plt.title('Testing accuracy for different configurations')\n",
    "plt.legend(fontsize='large')\n",
    "plt.ylabel('Testing accuracy')\n",
    "plt.show()"
   ]
  },
  {
   "cell_type": "markdown",
   "metadata": {},
   "source": [
    "<div style=\"background-color:#d9e6fc; padding:10px 15px 10px 15px;\"> \n",
    "Now we are comparing the testing accuracy for the two optimizers using the relu function. Notice that when we are comparing the results with the sigmoid case, we are referring only to the last part of the graph of the sigmoid (where the LR is equal to 0.001 and 0.0001).\n",
    "<h4>AdamOpt</h4>\n",
    "For the AdamOptimizer the behaviour is quite similiar as with the sigmoid (comparing the curve in the above figure with the curve in the sigmoid case), as it appears almost as a straight line with high testing accuracy. \n",
    "<h4>SGD</h4>\n",
    "On the other hand, for the SGD the curve differs from the sigmoid case. The performance is significantly better with the relu function, as the testing accuracy is always greater than 90 percent. Comparing with the sigmoid case the accuracy was less than 30 percent.  \n",
    "<br><br>\n",
    "\n",
    "Now we are studying the relation between the number of epochs and the training accuracy. \n",
    "</div>"
   ]
  },
  {
   "cell_type": "code",
   "execution_count": 109,
   "metadata": {
    "collapsed": false
   },
   "outputs": [
    {
     "data": {
      "image/png": "[encoded data removed]",
      "text/plain": [
       "<matplotlib.figure.Figure at 0x7fcf445f7438>"
      ]
     },
     "metadata": {},
     "output_type": "display_data"
    },
    {
     "data": {
      "image/png": "[encoded data removed]",
      "text/plain": [
       "<matplotlib.figure.Figure at 0x7fcf44212978>"
      ]
     },
     "metadata": {},
     "output_type": "display_data"
    }
   ],
   "source": [
    "# Plot figure of testing accuracy vs epochs\n",
    "plt.figure(figsize=(15,8))\n",
    "plt.plot(SGD_iterations_relu,SGD_relu,'s',label='SGD')\n",
    "plt.plot(Adam_iterations_relu,Adam_relu,'o',label='AdamOpt')\n",
    "plt.grid()\n",
    "plt.title('Epochs vs Accuracy')\n",
    "plt.xlabel('Epochs')\n",
    "plt.legend(fontsize='large')\n",
    "plt.ylabel('Testing accuracy')\n",
    "plt.show()\n",
    "\n",
    "# Plot figure of testing accuracy vs epochs - zoomed in\n",
    "plt.figure(figsize=(15,8))\n",
    "plt.plot(SGD_iterations_relu,SGD_relu,'s',label='SGD')\n",
    "plt.plot(Adam_iterations_relu,Adam_relu,'o',label='AdamOpt')\n",
    "plt.grid()\n",
    "plt.xlim(0,50)\n",
    "plt.ylim(0.98,0.9950)\n",
    "plt.title('Epochs vs Accuracy (zoomed in)')\n",
    "plt.xlabel('Epochs')\n",
    "plt.legend(fontsize='large')\n",
    "plt.ylabel('Testing accuracy')\n",
    "plt.show()"
   ]
  },
  {
   "cell_type": "markdown",
   "metadata": {},
   "source": [
    "<div style=\"background-color:#d9e6fc; padding:10px 15px 10px 15px;\"> \n",
    "The first figure above shows us an overview: we can notice how the SGD performs still more iterations than AdamOptimizer overall. The interesting part of the graph is the upper left corner, as before, since our goal is to have high accuracy and low number of iterations. <br><br>\n",
    "In the second figure, we are not even seeing SGD, even if its performances are good: the overall number of iteration is considerably greater than the iterations for the AdamOptimizer.<br><br>\n",
    "\n",
    "Comparing with the sigmoid, we notice how the bad testing accuracy of SGD with lower LRs, is now not as bad as before. This is due to the fact that the combination of AdamOptimizer and relu function, is significantly faster than sigmoid, so even with low LRs SGD can reach optimum solutions not possible before. By looking at the results is clear how AdamOptimizer + relu is faster: with the same LR it takes only 20 iterations to reach almost the same accuracy instead of 200.\n",
    "\n",
    "<h4>Best solution choice</h4>\n",
    "Given the assumptions above, we are chosing as best solution:\n",
    "<ul>\n",
    "<li>Optimizer: AdamOptimizer\n",
    "<li>Learning Rate: 0.001\n",
    "<li>Batch size: 50\n",
    "<li>Activation function: relu\n",
    "</ul>\n",
    "</div>"
   ]
  },
  {
   "cell_type": "markdown",
   "metadata": {},
   "source": [
    "<div style=\"background-color:#327191; vertical-align: middle; padding:5px 0px 10px 10px;\">\n",
    "    <h2><font color='white'>Conclusions</font></h2>\n",
    "</div>"
   ]
  },
  {
   "cell_type": "markdown",
   "metadata": {},
   "source": [
    "<div style=\"background-color:#d9e6fc; padding:10px 15px 10px 15px;\"> \n",
    "We started analyzing the model using the sigmoid function, moving then to the relu function. We discovered that there were some problems with the relu function so we decided to continue the study with the sigmoid instead. <br><br>\n",
    "Later on, after finding the cause of the problems with the relu function, we tried to solve them. We were then able to study also the model using the relu function and to obtain some results.\n",
    "<h4>Results</h4>\n",
    "We found out the best configuration for both sigmoid and relu. Even though the LR and batch size are quite similar in both cases, and the test accuracy differ not very much (0.9885 for relu and 0.9905 for sigmoid), the number of iterations needed to reach these results differ a lot:\n",
    "<ul>\n",
    "<li>20 iterations for relu\n",
    "<li>200 iterations for sigmoid\n",
    "</ul>\n",
    "<br>\n",
    "After noticing this, we can conclude relu is probably better: it is true that the accuracy is not as high as with sigmoid, but the huge difference in number of iterations must be taken into account. It is also possible that continuing the training after the 20 iterations for relu + AdamOptimizer, the accuracy will improve and will reach a value greater than the one reached with the sigmoid at 200 iterations.\n",
    "</div>"
   ]
  },
  {
   "cell_type": "markdown",
   "metadata": {
    "deletable": true,
    "editable": true
   },
   "source": [
    "<b> Question 2.2.2 </b>  What about applying a dropout layer on the Fully connected layer and then retraining the model with the best Optimizer and parameters(Learning rate and Batch size) obtained in *Question 2.2.1*  ? (probability to keep units=0.75). For this stage ensure that the keep prob is set to 1.0 to evaluate the \n",
    "performance of the network including all nodes."
   ]
  },
  {
   "cell_type": "markdown",
   "metadata": {},
   "source": [
    "<div style=\"background-color:#327191; vertical-align: middle; padding:5px 0px 10px 10px;\">\n",
    "    <h2><font color='white'>Dropout implementation</font></h2>\n",
    "</div>"
   ]
  },
  {
   "cell_type": "markdown",
   "metadata": {
    "collapsed": true,
    "deletable": true,
    "editable": true
   },
   "source": [
    "<div style=\"background-color:#d9e6fc; padding:10px 15px 10px 15px;\"> \n",
    "In order to create the fully-connected layers we used at first `tf.layers.dense` but since the last part requires dropout layers, we decided to use `tf.nn.dropuot` with a dropout value tunable by the user.\n",
    "</div>"
   ]
  },
  {
   "cell_type": "code",
   "execution_count": 65,
   "metadata": {
    "collapsed": true,
    "deletable": true,
    "editable": true
   },
   "outputs": [],
   "source": [
    "def LeNet5_Model_dropout(data, activation_function, dropout_prob): \n",
    "\n",
    "    ######## Convolutional Layer #1\n",
    "    filter_shape_c1 = [5, 5, 1, 6]\n",
    "    f_conv1 = weight_variable(filter_shape_c1)\n",
    "    conv1 = tf.nn.conv2d(input=data, filter=f_conv1, strides=[1,1,1,1], padding=\"SAME\")\n",
    "    b1 = bias_variable([6])\n",
    "    h1 = activation_function(tf.nn.bias_add(conv1,b1))\n",
    "    \n",
    "    ######### Pooling layer #1\n",
    "    pooled1 = tf.nn.max_pool(h1,ksize=[1, 2, 2, 1], strides=[1, 2, 2, 1], padding='VALID')\n",
    "    \n",
    "    ######### Convolutional Layer #2\n",
    "    filter_shape_c2 = [5,5,6,16]\n",
    "    f_conv2 = weight_variable(filter_shape_c2)\n",
    "    conv2 = tf.nn.conv2d(pooled1, filter=f_conv2, strides=[1,1,1,1], padding=\"VALID\")  \n",
    "    b2 = bias_variable([16])\n",
    "    h2 = activation_function(tf.nn.bias_add(conv2,b2))\n",
    "    \n",
    "    ######### Pooling layer #2\n",
    "    pooled2 = tf.nn.max_pool(h2,ksize=[1, 2, 2, 1], strides=[1, 2, 2, 1], padding='VALID')\n",
    "    pooled2_flat = tf.reshape(pooled2, [-1, 5*5*16])\n",
    "    \n",
    "    ######### NN\n",
    "    dense1 = tf.layers.dense(inputs=pooled2_flat, units=120, activation=activation_function)\n",
    "    dense2 = tf.layers.dense(inputs=dense1, units=84, activation=activation_function)\n",
    "    dense3 = tf.layers.dense(inputs=dense2, units=10, activation=tf.nn.softmax)\n",
    "    \n",
    "    return dense3"
   ]
  },
  {
   "cell_type": "markdown",
   "metadata": {
    "collapsed": true,
    "editable": true
   },
   "source": [
    "<div style=\"background-color:#d9e6fc; padding:10px 15px 10px 15px;\"> \n",
    "In order to create the fully-connected layers we used at first `tf.layers.dense` but since the last part requires dropout layers, we decided to use `tf.nn.dropuot` with a dropout value tunable by the user.\n",
    "</div>"
   ]
  },
  {
   "cell_type": "markdown",
   "metadata": {},
   "source": [
    "<div style=\"background-color:#327191; vertical-align: middle; padding:5px 0px 10px 10px;\">\n",
    "    <h4><font color='white'>Dropout implementation with sigmoid</font></h4>\n",
    "</div>"
   ]
  },
  {
   "cell_type": "code",
   "execution_count": 71,
   "metadata": {
    "collapsed": false,
    "scrolled": false
   },
   "outputs": [
    {
     "name": "stdout",
     "output_type": "stream",
     "text": [
      "Start Training!\n",
      "Epoch:  50\n",
      "\t\t======> Loss: 0.000715560\n",
      "\t\t======> Training Accuracy: 0.999763608\n",
      "\t\t======> Validation Accuracy: 0.988399982\n",
      "Epoch:  100\n",
      "\t\t======> Loss: 0.000001458\n",
      "\t\t======> Training Accuracy: 1.000000000\n",
      "\t\t======> Validation Accuracy: 0.990199983\n",
      "Epoch:  150\n",
      "\t\t======> Loss: 0.000000002\n",
      "\t\t======> Training Accuracy: 1.000000000\n",
      "\t\t======> Validation Accuracy: 0.990400016\n",
      "Epoch:  200\n",
      "\t\t======> Loss: 0.000000001\n",
      "\t\t======> Training Accuracy: 1.000000000\n",
      "\t\t======> Validation Accuracy: 0.989400029\n",
      "Training Finished!\n",
      "Testing Accuracy: 0.989\n"
     ]
    }
   ],
   "source": [
    "LR = 0.001\n",
    "BS = 128\n",
    "OPT = tf.train.AdamOptimizer\n",
    "ACT = tf.nn.sigmoid\n",
    "DO = 0.75\n",
    "\n",
    "(test_acc, model) = train(learning_rate = LR, training_epochs = 1000,\n",
    "                  batch_size = BS, display_step = 50,\n",
    "                  optimizer= OPT, activation_func = ACT,drop_out=DO,model=\"LeNet5_Model_dropout\")"
   ]
  },
  {
   "cell_type": "markdown",
   "metadata": {},
   "source": [
    "<div style=\"background-color:#327191; vertical-align: middle; padding:5px 0px 10px 10px;\">\n",
    "    <h4><font color='white'>Dropout implementation with relu</font></h4>\n",
    "</div>"
   ]
  },
  {
   "cell_type": "code",
   "execution_count": 110,
   "metadata": {
    "collapsed": false,
    "scrolled": false
   },
   "outputs": [
    {
     "name": "stdout",
     "output_type": "stream",
     "text": [
      "Start Training!\n",
      "Epoch:  50\n",
      "\t\t======> Loss: 0.002769692\n",
      "\t\t======> Training Accuracy: 0.999563634\n",
      "\t\t======> Validation Accuracy: 0.988600016\n",
      "Epoch:  100\n",
      "\t\t======> Loss: 0.000583176\n",
      "\t\t======> Training Accuracy: 0.999963641\n",
      "\t\t======> Validation Accuracy: 0.991199970\n",
      "Epoch:  150\n",
      "\t\t======> Loss: 0.000000853\n",
      "\t\t======> Training Accuracy: 1.000000000\n",
      "\t\t======> Validation Accuracy: 0.992200017\n",
      "Epoch:  200\n",
      "\t\t======> Loss: 0.000000000\n",
      "\t\t======> Training Accuracy: 1.000000000\n",
      "\t\t======> Validation Accuracy: 0.991599977\n",
      "Training Finished!\n",
      "Testing Accuracy: 0.9912\n"
     ]
    }
   ],
   "source": [
    "LR = 0.001\n",
    "BS = 50\n",
    "OPT = tf.train.AdamOptimizer\n",
    "ACT = tf.nn.relu\n",
    "DO = 0.75\n",
    "\n",
    "(test_acc, model) = train(learning_rate = LR, training_epochs = 1000,\n",
    "                  batch_size = BS, display_step = 50,\n",
    "                  optimizer= OPT, activation_func = ACT,drop_out=DO,model=\"LeNet5_Model_dropout\")"
   ]
  },
  {
   "cell_type": "markdown",
   "metadata": {
    "collapsed": true,
    "editable": true
   },
   "source": [
    "<div style=\"background-color:#d9e6fc; padding:10px 15px 10px 15px;\"> \n",
    "Finally we can notice how the dropout layer is increasing the performance, since with the same LR we end up with a testing accuracy of 0.9912 instead of 0.9885. In addition the accuracy between the different epochs is greater than the threshold until epoch 150, that means faster convergence than before (it stopped at 20).<br><br>\n",
    "Overall AdamOptimizer and relu seems to be the best solution as stated before.\n",
    "</div>"
   ]
  },
  {
   "cell_type": "markdown",
   "metadata": {},
   "source": [
    "<div style=\"background-color:#327191; vertical-align: middle; padding:5px 0px 10px 10px;\">\n",
    "    <h2><font color='white'>Appendix</font></h2>\n",
    "</div>"
   ]
  },
  {
   "cell_type": "markdown",
   "metadata": {},
   "source": [
    "<div style=\"background-color:#327191; vertical-align: middle; padding:5px 0px 10px 10px;\">\n",
    "    <h4><font color='white'>Output for the study on sigmoid</font></h4>\n",
    "</div>"
   ]
  },
  {
   "cell_type": "markdown",
   "metadata": {},
   "source": [
    "Train with \n",
    "\tLR: 0.1 \n",
    "\tbatch_size: 50 \n",
    "\topt method: GradientDescentOptimizer\n",
    "Start Training!\n",
    "Epoch:  50\n",
    "\t\t======> Loss: 0.020533105\n",
    "\t\t======> Training Accuracy: 0.994527280\n",
    "\t\t======> Validation Accuracy: 0.987999976\n",
    "Epoch:  100\n",
    "\t\t======> Loss: 0.006300053\n",
    "\t\t======> Training Accuracy: 0.999145448\n",
    "\t\t======> Validation Accuracy: 0.987999976\n",
    "Training Finished!\n",
    "Testing Accuracy: 0.9885\n",
    "Train with \n",
    "\tLR: 0.1 \n",
    "\tbatch_size: 50 \n",
    "\topt method: AdamOptimizer\n",
    "Start Training!\n",
    "Epoch:  50\n",
    "\t\t======> Loss: 2.510366620\n",
    "\t\t======> Training Accuracy: 0.098981820\n",
    "\t\t======> Validation Accuracy: 0.095799997\n",
    "Epoch:  100\n",
    "\t\t======> Loss: 2.510366538\n",
    "\t\t======> Training Accuracy: 0.098981820\n",
    "\t\t======> Validation Accuracy: 0.095799997\n",
    "Training Finished!\n",
    "Testing Accuracy: 0.098\n",
    "Train with \n",
    "\tLR: 0.1 \n",
    "\tbatch_size: 128 \n",
    "\topt method: GradientDescentOptimizer\n",
    "Start Training!\n",
    "Epoch:  50\n",
    "\t\t======> Loss: 0.052007290\n",
    "\t\t======> Training Accuracy: 0.984709084\n",
    "\t\t======> Validation Accuracy: 0.984799981\n",
    "Epoch:  100\n",
    "\t\t======> Loss: 0.027302152\n",
    "\t\t======> Training Accuracy: 0.993036389\n",
    "\t\t======> Validation Accuracy: 0.988799989\n",
    "Epoch:  150\n",
    "\t\t======> Loss: 0.016511174\n",
    "\t\t======> Training Accuracy: 0.995945454\n",
    "\t\t======> Validation Accuracy: 0.990000010\n",
    "Epoch:  200\n",
    "\t\t======> Loss: 0.010413185\n",
    "\t\t======> Training Accuracy: 0.997854531\n",
    "\t\t======> Validation Accuracy: 0.990000010\n",
    "Training Finished!\n",
    "Testing Accuracy: 0.9905\n",
    "Train with \n",
    "\tLR: 0.1 \n",
    "\tbatch_size: 128 \n",
    "\topt method: AdamOptimizer\n",
    "Start Training!\n",
    "Epoch:  50\n",
    "\t\t======> Loss: 2.434893811\n",
    "\t\t======> Training Accuracy: 0.103909090\n",
    "\t\t======> Validation Accuracy: 0.109999999\n",
    "Epoch:  100\n",
    "\t\t======> Loss: 2.426387098\n",
    "\t\t======> Training Accuracy: 0.103909090\n",
    "\t\t======> Validation Accuracy: 0.109999999\n",
    "Training Finished!\n",
    "Testing Accuracy: 0.1028\n",
    "Train with \n",
    "\tLR: 0.01 \n",
    "\tbatch_size: 50 \n",
    "\topt method: GradientDescentOptimizer\n",
    "Start Training!\n",
    "Epoch:  50\n",
    "\t\t======> Loss: 0.218949252\n",
    "\t\t======> Training Accuracy: 0.937218189\n",
    "\t\t======> Validation Accuracy: 0.945400000\n",
    "Epoch:  100\n",
    "\t\t======> Loss: 0.085646465\n",
    "\t\t======> Training Accuracy: 0.974636376\n",
    "\t\t======> Validation Accuracy: 0.975000024\n",
    "Epoch:  150\n",
    "\t\t======> Loss: 0.058329989\n",
    "\t\t======> Training Accuracy: 0.982945442\n",
    "\t\t======> Validation Accuracy: 0.982200027\n",
    "Epoch:  200\n",
    "\t\t======> Loss: 0.045226733\n",
    "\t\t======> Training Accuracy: 0.987090886\n",
    "\t\t======> Validation Accuracy: 0.986000001\n",
    "Epoch:  250\n",
    "\t\t======> Loss: 0.036999525\n",
    "\t\t======> Training Accuracy: 0.989509106\n",
    "\t\t======> Validation Accuracy: 0.987399995\n",
    "Epoch:  300\n",
    "\t\t======> Loss: 0.031142471\n",
    "\t\t======> Training Accuracy: 0.991563618\n",
    "\t\t======> Validation Accuracy: 0.988200009\n",
    "Epoch:  350\n",
    "\t\t======> Loss: 0.026645557\n",
    "\t\t======> Training Accuracy: 0.992890894\n",
    "\t\t======> Validation Accuracy: 0.988600016\n",
    "Epoch:  400\n",
    "\t\t======> Loss: 0.023041757\n",
    "\t\t======> Training Accuracy: 0.993872702\n",
    "\t\t======> Validation Accuracy: 0.988600016\n",
    "Training Finished!\n",
    "Testing Accuracy: 0.9883\n",
    "Train with \n",
    "\tLR: 0.01 \n",
    "\tbatch_size: 50 \n",
    "\topt method: AdamOptimizer\n",
    "Start Training!\n",
    "Epoch:  50\n",
    "\t\t======> Loss: 0.010071924\n",
    "\t\t======> Training Accuracy: 0.997618198\n",
    "\t\t======> Validation Accuracy: 0.983799994\n",
    "Epoch:  100\n",
    "\t\t======> Loss: 0.011482744\n",
    "\t\t======> Training Accuracy: 0.998145461\n",
    "\t\t======> Validation Accuracy: 0.985000014\n",
    "Epoch:  150\n",
    "\t\t======> Loss: nan\n",
    "\t\t======> Training Accuracy: 0.098981820\n",
    "\t\t======> Validation Accuracy: 0.095799997\n",
    "Training Finished!\n",
    "Testing Accuracy: 0.098\n",
    "Train with \n",
    "\tLR: 0.01 \n",
    "\tbatch_size: 128 \n",
    "\topt method: GradientDescentOptimizer\n",
    "Start Training!\n",
    "Epoch:  50\n",
    "\t\t======> Loss: 2.279093485\n",
    "\t\t======> Training Accuracy: 0.113745451\n",
    "\t\t======> Validation Accuracy: 0.113200001\n",
    "Epoch:  100\n",
    "\t\t======> Loss: 0.371635288\n",
    "\t\t======> Training Accuracy: 0.894254565\n",
    "\t\t======> Validation Accuracy: 0.898400009\n",
    "Epoch:  150\n",
    "\t\t======> Loss: 0.177528474\n",
    "\t\t======> Training Accuracy: 0.947745442\n",
    "\t\t======> Validation Accuracy: 0.956399977\n",
    "Epoch:  200\n",
    "\t\t======> Loss: 0.117651114\n",
    "\t\t======> Training Accuracy: 0.965836346\n",
    "\t\t======> Validation Accuracy: 0.970399976\n",
    "Epoch:  250\n",
    "\t\t======> Loss: 0.090680798\n",
    "\t\t======> Training Accuracy: 0.972400010\n",
    "\t\t======> Validation Accuracy: 0.975199997\n",
    "Epoch:  300\n",
    "\t\t======> Loss: 0.075643285\n",
    "\t\t======> Training Accuracy: 0.977436364\n",
    "\t\t======> Validation Accuracy: 0.977999985\n",
    "Epoch:  350\n",
    "\t\t======> Loss: 0.065590657\n",
    "\t\t======> Training Accuracy: 0.980490923\n",
    "\t\t======> Validation Accuracy: 0.981199980\n",
    "Epoch:  400\n",
    "\t\t======> Loss: 0.058536861\n",
    "\t\t======> Training Accuracy: 0.982890904\n",
    "\t\t======> Validation Accuracy: 0.981999993\n",
    "Epoch:  450\n",
    "\t\t======> Loss: 0.052928812\n",
    "\t\t======> Training Accuracy: 0.984672725\n",
    "\t\t======> Validation Accuracy: 0.982599974\n",
    "Epoch:  500\n",
    "\t\t======> Loss: 0.048446440\n",
    "\t\t======> Training Accuracy: 0.985909104\n",
    "\t\t======> Validation Accuracy: 0.983399987\n",
    "Epoch:  550\n",
    "\t\t======> Loss: 0.044809774\n",
    "\t\t======> Training Accuracy: 0.986963630\n",
    "\t\t======> Validation Accuracy: 0.984200001\n",
    "Epoch:  600\n",
    "\t\t======> Loss: 0.041603129\n",
    "\t\t======> Training Accuracy: 0.987818182\n",
    "\t\t======> Validation Accuracy: 0.984200001\n",
    "Training Finished!\n",
    "Testing Accuracy: 0.9859\n",
    "Train with \n",
    "\tLR: 0.01 \n",
    "\tbatch_size: 128 \n",
    "\topt method: AdamOptimizer\n",
    "Start Training!\n",
    "Epoch:  50\n",
    "\t\t======> Loss: 0.005259143\n",
    "\t\t======> Training Accuracy: 0.998000026\n",
    "\t\t======> Validation Accuracy: 0.983799994\n",
    "Epoch:  100\n",
    "\t\t======> Loss: 0.005503182\n",
    "\t\t======> Training Accuracy: 0.998345435\n",
    "\t\t======> Validation Accuracy: 0.985199988\n",
    "Epoch:  150\n",
    "\t\t======> Loss: 0.006329309\n",
    "\t\t======> Training Accuracy: 0.997581840\n",
    "\t\t======> Validation Accuracy: 0.984799981\n",
    "Training Finished!\n",
    "Testing Accuracy: 0.9846\n",
    "Train with \n",
    "\tLR: 0.001 \n",
    "\tbatch_size: 50 \n",
    "\topt method: GradientDescentOptimizer\n",
    "Start Training!\n",
    "Epoch:  50\n",
    "\t\t======> Loss: 2.300670705\n",
    "\t\t======> Training Accuracy: 0.112345457\n",
    "\t\t======> Validation Accuracy: 0.112599999\n",
    "Epoch:  100\n",
    "\t\t======> Loss: 2.298852041\n",
    "\t\t======> Training Accuracy: 0.112345457\n",
    "\t\t======> Validation Accuracy: 0.112599999\n",
    "Training Finished!\n",
    "Testing Accuracy: 0.1135\n",
    "Train with \n",
    "\tLR: 0.001 \n",
    "\tbatch_size: 50 \n",
    "\topt method: AdamOptimizer\n",
    "Start Training!\n",
    "Epoch:  50\n",
    "\t\t======> Loss: 0.000190589\n",
    "\t\t======> Training Accuracy: 1.000000000\n",
    "\t\t======> Validation Accuracy: 0.990400016\n",
    "Epoch:  100\n",
    "\t\t======> Loss: 0.000000865\n",
    "\t\t======> Training Accuracy: 1.000000000\n",
    "\t\t======> Validation Accuracy: 0.991800010\n",
    "Epoch:  150\n",
    "\t\t======> Loss: 0.000000001\n",
    "\t\t======> Training Accuracy: 1.000000000\n",
    "\t\t======> Validation Accuracy: 0.992200017\n",
    "Epoch:  200\n",
    "\t\t======> Loss: 0.000000002\n",
    "\t\t======> Training Accuracy: 1.000000000\n",
    "\t\t======> Validation Accuracy: 0.992200017\n",
    "Training Finished!\n",
    "Testing Accuracy: 0.9894\n",
    "Train with \n",
    "\tLR: 0.001 \n",
    "\tbatch_size: 128 \n",
    "\topt method: GradientDescentOptimizer\n",
    "Start Training!\n",
    "Epoch:  50\n",
    "\t\t======> Loss: 2.301300398\n",
    "\t\t======> Training Accuracy: 0.112345457\n",
    "\t\t======> Validation Accuracy: 0.112599999\n",
    "Epoch:  100\n",
    "\t\t======> Loss: 2.301070018\n",
    "\t\t======> Training Accuracy: 0.112345457\n",
    "\t\t======> Validation Accuracy: 0.112599999\n",
    "Training Finished!\n",
    "Testing Accuracy: 0.1135\n",
    "Train with \n",
    "\tLR: 0.001 \n",
    "\tbatch_size: 128 \n",
    "\topt method: AdamOptimizer\n",
    "Start Training!\n",
    "Epoch:  50\n",
    "\t\t======> Loss: 0.002965795\n",
    "\t\t======> Training Accuracy: 0.998890936\n",
    "\t\t======> Validation Accuracy: 0.987800002\n",
    "Epoch:  100\n",
    "\t\t======> Loss: 0.000001587\n",
    "\t\t======> Training Accuracy: 0.999981821\n",
    "\t\t======> Validation Accuracy: 0.989000022\n",
    "Epoch:  150\n",
    "\t\t======> Loss: 0.000000038\n",
    "\t\t======> Training Accuracy: 1.000000000\n",
    "\t\t======> Validation Accuracy: 0.990199983\n",
    "Epoch:  200\n",
    "\t\t======> Loss: 0.000000001\n",
    "\t\t======> Training Accuracy: 1.000000000\n",
    "\t\t======> Validation Accuracy: 0.990000010\n",
    "Training Finished!\n",
    "Testing Accuracy: 0.9905\n",
    "Train with \n",
    "\tLR: 0.0001 \n",
    "\tbatch_size: 50 \n",
    "\topt method: GradientDescentOptimizer\n",
    "Start Training!\n",
    "Epoch:  50\n",
    "\t\t======> Loss: 2.301142800\n",
    "\t\t======> Training Accuracy: 0.112345457\n",
    "\t\t======> Validation Accuracy: 0.112599999\n",
    "Epoch:  100\n",
    "\t\t======> Loss: 2.301048367\n",
    "\t\t======> Training Accuracy: 0.112345457\n",
    "\t\t======> Validation Accuracy: 0.112599999\n",
    "Training Finished!\n",
    "Testing Accuracy: 0.1135\n",
    "Train with \n",
    "\tLR: 0.0001 \n",
    "\tbatch_size: 50 \n",
    "\topt method: AdamOptimizer\n",
    "Start Training!\n",
    "Epoch:  50\n",
    "\t\t======> Loss: 0.042549987\n",
    "\t\t======> Training Accuracy: 0.988036335\n",
    "\t\t======> Validation Accuracy: 0.986400008\n",
    "Epoch:  100\n",
    "\t\t======> Loss: 0.017196894\n",
    "\t\t======> Training Accuracy: 0.995218158\n",
    "\t\t======> Validation Accuracy: 0.987999976\n",
    "Epoch:  150\n",
    "\t\t======> Loss: 0.006057486\n",
    "\t\t======> Training Accuracy: 0.998672724\n",
    "\t\t======> Validation Accuracy: 0.989199996\n",
    "Epoch:  200\n",
    "\t\t======> Loss: 0.001352784\n",
    "\t\t======> Training Accuracy: 0.999690890\n",
    "\t\t======> Validation Accuracy: 0.989000022\n",
    "Training Finished!\n",
    "Testing Accuracy: 0.988\n",
    "Train with \n",
    "\tLR: 0.0001 \n",
    "\tbatch_size: 128 \n",
    "\topt method: GradientDescentOptimizer\n",
    "Start Training!\n",
    "Epoch:  50\n",
    "\t\t======> Loss: 2.301158439\n",
    "\t\t======> Training Accuracy: 0.112345457\n",
    "\t\t======> Validation Accuracy: 0.112599999\n",
    "Epoch:  100\n",
    "\t\t======> Loss: 2.301152768\n",
    "\t\t======> Training Accuracy: 0.112345457\n",
    "\t\t======> Validation Accuracy: 0.112599999\n",
    "Training Finished!\n",
    "Testing Accuracy: 0.1135\n",
    "Train with \n",
    "\tLR: 0.0001 \n",
    "\tbatch_size: 128 \n",
    "\topt method: AdamOptimizer\n",
    "Start Training!\n",
    "Epoch:  50\n",
    "\t\t======> Loss: 0.072918902\n",
    "\t\t======> Training Accuracy: 0.977599978\n",
    "\t\t======> Validation Accuracy: 0.978999972\n",
    "Epoch:  100\n",
    "\t\t======> Loss: 0.037219385\n",
    "\t\t======> Training Accuracy: 0.989272714\n",
    "\t\t======> Validation Accuracy: 0.987600029\n",
    "Epoch:  150\n",
    "\t\t======> Loss: 0.021984074\n",
    "\t\t======> Training Accuracy: 0.993636370\n",
    "\t\t======> Validation Accuracy: 0.987999976\n",
    "Epoch:  200\n",
    "\t\t======> Loss: 0.012757969\n",
    "\t\t======> Training Accuracy: 0.997109115\n",
    "\t\t======> Validation Accuracy: 0.989799976\n",
    "Epoch:  250\n",
    "\t\t======> Loss: 0.006774417\n",
    "\t\t======> Training Accuracy: 0.998981833\n",
    "\t\t======> Validation Accuracy: 0.989799976\n",
    "Training Finished!\n",
    "Testing Accuracy: 0.988"
   ]
  },
  {
   "cell_type": "markdown",
   "metadata": {},
   "source": [
    "<div style=\"background-color:#327191; vertical-align: middle; padding:5px 0px 10px 10px;\">\n",
    "    <h4><font color='white'>Output for the study on relu</font></h4>\n",
    "</div>"
   ]
  },
  {
   "cell_type": "raw",
   "metadata": {},
   "source": [
    "Train with \n",
    "\tLR: 0.001 \n",
    "\tbatch_size: 50 \n",
    "\topt method: GradientDescentOptimizer\n",
    "Start Training!\n",
    "Epoch:  10\n",
    "\t\t======> Loss: 0.211236713\n",
    "\t\t======> Training Accuracy: 0.938363612\n",
    "\t\t======> Validation Accuracy: 0.944999993\n",
    "Epoch:  20\n",
    "\t\t======> Loss: 0.126804267\n",
    "\t\t======> Training Accuracy: 0.962854564\n",
    "\t\t======> Validation Accuracy: 0.969200015\n",
    "Epoch:  30\n",
    "\t\t======> Loss: 0.091902300\n",
    "\t\t======> Training Accuracy: 0.972472727\n",
    "\t\t======> Validation Accuracy: 0.973399997\n",
    "Epoch:  40\n",
    "\t\t======> Loss: 0.074052385\n",
    "\t\t======> Training Accuracy: 0.977490902\n",
    "\t\t======> Validation Accuracy: 0.977999985\n",
    "Epoch:  50\n",
    "\t\t======> Loss: 0.063038281\n",
    "\t\t======> Training Accuracy: 0.980872750\n",
    "\t\t======> Validation Accuracy: 0.980599999\n",
    "Epoch:  60\n",
    "\t\t======> Loss: 0.055270528\n",
    "\t\t======> Training Accuracy: 0.982890904\n",
    "\t\t======> Validation Accuracy: 0.981999993\n",
    "Epoch:  70\n",
    "\t\t======> Loss: 0.049315570\n",
    "\t\t======> Training Accuracy: 0.984345436\n",
    "\t\t======> Validation Accuracy: 0.982800007\n",
    "Epoch:  80\n",
    "\t\t======> Loss: 0.044561142\n",
    "\t\t======> Training Accuracy: 0.986109078\n",
    "\t\t======> Validation Accuracy: 0.983600020\n",
    "Epoch:  90\n",
    "\t\t======> Loss: 0.040612730\n",
    "\t\t======> Training Accuracy: 0.987272739\n",
    "\t\t======> Validation Accuracy: 0.984799981\n",
    "Epoch:  100\n",
    "\t\t======> Loss: 0.037234104\n",
    "\t\t======> Training Accuracy: 0.988381803\n",
    "\t\t======> Validation Accuracy: 0.985199988\n",
    "Epoch:  110\n",
    "\t\t======> Loss: 0.034324232\n",
    "\t\t======> Training Accuracy: 0.989527285\n",
    "\t\t======> Validation Accuracy: 0.986000001\n",
    "Epoch:  120\n",
    "\t\t======> Loss: 0.031741282\n",
    "\t\t======> Training Accuracy: 0.990309119\n",
    "\t\t======> Validation Accuracy: 0.986999989\n",
    "Epoch:  130\n",
    "\t\t======> Loss: 0.029427516\n",
    "\t\t======> Training Accuracy: 0.990999997\n",
    "\t\t======> Validation Accuracy: 0.987600029\n",
    "Epoch:  140\n",
    "\t\t======> Loss: 0.027348864\n",
    "\t\t======> Training Accuracy: 0.991436362\n",
    "\t\t======> Validation Accuracy: 0.987800002\n",
    "Training Finished!\n",
    "Testing Accuracy: 0.987\n",
    "Train with \n",
    "\tLR: 0.001 \n",
    "\tbatch_size: 50 \n",
    "\topt method: AdamOptimizer\n",
    "Start Training!\n",
    "Epoch:  10\n",
    "\t\t======> Loss: 0.011943236\n",
    "\t\t======> Training Accuracy: 0.997745454\n",
    "\t\t======> Validation Accuracy: 0.990199983\n",
    "Epoch:  20\n",
    "\t\t======> Loss: 0.007375023\n",
    "\t\t======> Training Accuracy: 0.998127282\n",
    "\t\t======> Validation Accuracy: 0.989199996\n",
    "Training Finished!\n",
    "Testing Accuracy: 0.9885\n",
    "Train with \n",
    "\tLR: 0.001 \n",
    "\tbatch_size: 128 \n",
    "\topt method: GradientDescentOptimizer\n",
    "Start Training!\n",
    "Epoch:  10\n",
    "\t\t======> Loss: 0.358397487\n",
    "\t\t======> Training Accuracy: 0.900945425\n",
    "\t\t======> Validation Accuracy: 0.907400012\n",
    "Epoch:  20\n",
    "\t\t======> Loss: 0.232800660\n",
    "\t\t======> Training Accuracy: 0.931709111\n",
    "\t\t======> Validation Accuracy: 0.938600004\n",
    "Epoch:  30\n",
    "\t\t======> Loss: 0.179881338\n",
    "\t\t======> Training Accuracy: 0.947236359\n",
    "\t\t======> Validation Accuracy: 0.952000022\n",
    "Epoch:  40\n",
    "\t\t======> Loss: 0.148261180\n",
    "\t\t======> Training Accuracy: 0.956909120\n",
    "\t\t======> Validation Accuracy: 0.961399972\n",
    "Epoch:  50\n",
    "\t\t======> Loss: 0.127062437\n",
    "\t\t======> Training Accuracy: 0.963272750\n",
    "\t\t======> Validation Accuracy: 0.964999974\n",
    "Epoch:  60\n",
    "\t\t======> Loss: 0.112438799\n",
    "\t\t======> Training Accuracy: 0.967472732\n",
    "\t\t======> Validation Accuracy: 0.968400002\n",
    "Epoch:  70\n",
    "\t\t======> Loss: 0.101337822\n",
    "\t\t======> Training Accuracy: 0.970836341\n",
    "\t\t======> Validation Accuracy: 0.970799983\n",
    "Epoch:  80\n",
    "\t\t======> Loss: 0.092884687\n",
    "\t\t======> Training Accuracy: 0.972400010\n",
    "\t\t======> Validation Accuracy: 0.972199976\n",
    "Epoch:  90\n",
    "\t\t======> Loss: 0.085776446\n",
    "\t\t======> Training Accuracy: 0.974600017\n",
    "\t\t======> Validation Accuracy: 0.974600017\n",
    "Epoch:  100\n",
    "\t\t======> Loss: 0.079858277\n",
    "\t\t======> Training Accuracy: 0.976563632\n",
    "\t\t======> Validation Accuracy: 0.974399984\n",
    "Training Finished!\n",
    "Testing Accuracy: 0.9763\n",
    "Train with \n",
    "\tLR: 0.001 \n",
    "\tbatch_size: 128 \n",
    "\topt method: AdamOptimizer\n",
    "Start Training!\n",
    "Epoch:  10\n",
    "\t\t======> Loss: 0.018573024\n",
    "\t\t======> Training Accuracy: 0.993836343\n",
    "\t\t======> Validation Accuracy: 0.989000022\n",
    "Epoch:  20\n",
    "\t\t======> Loss: 0.005971870\n",
    "\t\t======> Training Accuracy: 0.995163620\n",
    "\t\t======> Validation Accuracy: 0.987800002\n",
    "Training Finished!\n",
    "Testing Accuracy: 0.9852\n",
    "Train with \n",
    "\tLR: 0.0001 \n",
    "\tbatch_size: 50 \n",
    "\topt method: GradientDescentOptimizer\n",
    "Start Training!\n",
    "Epoch:  10\n",
    "\t\t======> Loss: 2.101690489\n",
    "\t\t======> Training Accuracy: 0.451400012\n",
    "\t\t======> Validation Accuracy: 0.457399994\n",
    "Epoch:  20\n",
    "\t\t======> Loss: 0.851259406\n",
    "\t\t======> Training Accuracy: 0.788272738\n",
    "\t\t======> Validation Accuracy: 0.796599984\n",
    "Epoch:  30\n",
    "\t\t======> Loss: 0.473485472\n",
    "\t\t======> Training Accuracy: 0.864199996\n",
    "\t\t======> Validation Accuracy: 0.872399986\n",
    "Epoch:  40\n",
    "\t\t======> Loss: 0.373167895\n",
    "\t\t======> Training Accuracy: 0.889290929\n",
    "\t\t======> Validation Accuracy: 0.895200014\n",
    "Epoch:  50\n",
    "\t\t======> Loss: 0.321670765\n",
    "\t\t======> Training Accuracy: 0.903709114\n",
    "\t\t======> Validation Accuracy: 0.909399986\n",
    "Epoch:  60\n",
    "\t\t======> Loss: 0.286893541\n",
    "\t\t======> Training Accuracy: 0.914036393\n",
    "\t\t======> Validation Accuracy: 0.919000030\n",
    "Epoch:  70\n",
    "\t\t======> Loss: 0.260665531\n",
    "\t\t======> Training Accuracy: 0.921727300\n",
    "\t\t======> Validation Accuracy: 0.927399993\n",
    "Epoch:  80\n",
    "\t\t======> Loss: 0.239442338\n",
    "\t\t======> Training Accuracy: 0.928472698\n",
    "\t\t======> Validation Accuracy: 0.934199989\n",
    "Epoch:  90\n",
    "\t\t======> Loss: 0.221590790\n",
    "\t\t======> Training Accuracy: 0.933909118\n",
    "\t\t======> Validation Accuracy: 0.937200010\n",
    "Epoch:  100\n",
    "\t\t======> Loss: 0.206194295\n",
    "\t\t======> Training Accuracy: 0.938327253\n",
    "\t\t======> Validation Accuracy: 0.940199971\n",
    "Epoch:  110\n",
    "\t\t======> Loss: 0.192631442\n",
    "\t\t======> Training Accuracy: 0.942454517\n",
    "\t\t======> Validation Accuracy: 0.944599986\n",
    "Epoch:  120\n",
    "\t\t======> Loss: 0.180640693\n",
    "\t\t======> Training Accuracy: 0.945981801\n",
    "\t\t======> Validation Accuracy: 0.948800027\n",
    "Epoch:  130\n",
    "\t\t======> Loss: 0.169929831\n",
    "\t\t======> Training Accuracy: 0.949527264\n",
    "\t\t======> Validation Accuracy: 0.952600002\n",
    "Epoch:  140\n",
    "\t\t======> Loss: 0.160456890\n",
    "\t\t======> Training Accuracy: 0.952236354\n",
    "\t\t======> Validation Accuracy: 0.955600023\n",
    "Epoch:  150\n",
    "\t\t======> Loss: 0.152048669\n",
    "\t\t======> Training Accuracy: 0.954672754\n",
    "\t\t======> Validation Accuracy: 0.958599985\n",
    "Epoch:  160\n",
    "\t\t======> Loss: 0.144518828\n",
    "\t\t======> Training Accuracy: 0.956927299\n",
    "\t\t======> Validation Accuracy: 0.960399985\n",
    "Epoch:  170\n",
    "\t\t======> Loss: 0.137780038\n",
    "\t\t======> Training Accuracy: 0.959254563\n",
    "\t\t======> Validation Accuracy: 0.962400019\n",
    "Epoch:  180\n",
    "\t\t======> Loss: 0.131752791\n",
    "\t\t======> Training Accuracy: 0.961054564\n",
    "\t\t======> Validation Accuracy: 0.963400006\n",
    "Epoch:  190\n",
    "\t\t======> Loss: 0.126303126\n",
    "\t\t======> Training Accuracy: 0.962927282\n",
    "\t\t======> Validation Accuracy: 0.965200007\n",
    "Epoch:  200\n",
    "\t\t======> Loss: 0.121329888\n",
    "\t\t======> Training Accuracy: 0.964600027\n",
    "\t\t======> Validation Accuracy: 0.966400027\n",
    "Training Finished!\n",
    "Testing Accuracy: 0.9671\n",
    "Train with \n",
    "\tLR: 0.0001 \n",
    "\tbatch_size: 50 \n",
    "\topt method: AdamOptimizer\n",
    "Start Training!\n",
    "Epoch:  10\n",
    "\t\t======> Loss: 0.056110683\n",
    "\t\t======> Training Accuracy: 0.984090924\n",
    "\t\t======> Validation Accuracy: 0.981999993\n",
    "Epoch:  20\n",
    "\t\t======> Loss: 0.028388802\n",
    "\t\t======> Training Accuracy: 0.990872741\n",
    "\t\t======> Validation Accuracy: 0.985000014\n",
    "Epoch:  30\n",
    "\t\t======> Loss: 0.015608311\n",
    "\t\t======> Training Accuracy: 0.992109120\n",
    "\t\t======> Validation Accuracy: 0.985000014\n",
    "Training Finished!\n",
    "Testing Accuracy: 0.9863\n",
    "Train with \n",
    "\tLR: 0.0001 \n",
    "\tbatch_size: 128 \n",
    "\topt method: GradientDescentOptimizer\n",
    "Start Training!\n",
    "Epoch:  10\n",
    "\t\t======> Loss: 2.243033106\n",
    "\t\t======> Training Accuracy: 0.173818186\n",
    "\t\t======> Validation Accuracy: 0.177800000\n",
    "Epoch:  20\n",
    "\t\t======> Loss: 2.150017933\n",
    "\t\t======> Training Accuracy: 0.357072741\n",
    "\t\t======> Validation Accuracy: 0.359600008\n",
    "Epoch:  30\n",
    "\t\t======> Loss: 1.908261234\n",
    "\t\t======> Training Accuracy: 0.569854558\n",
    "\t\t======> Validation Accuracy: 0.580600023\n",
    "Epoch:  40\n",
    "\t\t======> Loss: 1.326416825\n",
    "\t\t======> Training Accuracy: 0.725945473\n",
    "\t\t======> Validation Accuracy: 0.734799981\n",
    "Epoch:  50\n",
    "\t\t======> Loss: 0.826252103\n",
    "\t\t======> Training Accuracy: 0.793527246\n",
    "\t\t======> Validation Accuracy: 0.804000020\n",
    "Epoch:  60\n",
    "\t\t======> Loss: 0.615608396\n",
    "\t\t======> Training Accuracy: 0.832290888\n",
    "\t\t======> Validation Accuracy: 0.841199994\n",
    "Epoch:  70\n",
    "\t\t======> Loss: 0.514265075\n",
    "\t\t======> Training Accuracy: 0.854636371\n",
    "\t\t======> Validation Accuracy: 0.860400021\n",
    "Epoch:  80\n",
    "\t\t======> Loss: 0.455993058\n",
    "\t\t======> Training Accuracy: 0.868472755\n",
    "\t\t======> Validation Accuracy: 0.873600006\n",
    "Epoch:  90\n",
    "\t\t======> Loss: 0.416726873\n",
    "\t\t======> Training Accuracy: 0.879090905\n",
    "\t\t======> Validation Accuracy: 0.884000003\n",
    "Epoch:  100\n",
    "\t\t======> Loss: 0.387602575\n",
    "\t\t======> Training Accuracy: 0.886945426\n",
    "\t\t======> Validation Accuracy: 0.892000020\n",
    "Epoch:  110\n",
    "\t\t======> Loss: 0.364454868\n",
    "\t\t======> Training Accuracy: 0.893127263\n",
    "\t\t======> Validation Accuracy: 0.899200022\n",
    "Epoch:  120\n",
    "\t\t======> Loss: 0.344925184\n",
    "\t\t======> Training Accuracy: 0.898854554\n",
    "\t\t======> Validation Accuracy: 0.905799985\n",
    "Epoch:  130\n",
    "\t\t======> Loss: 0.327530154\n",
    "\t\t======> Training Accuracy: 0.903381824\n",
    "\t\t======> Validation Accuracy: 0.910399973\n",
    "Epoch:  140\n",
    "\t\t======> Loss: 0.312984125\n",
    "\t\t======> Training Accuracy: 0.907763660\n",
    "\t\t======> Validation Accuracy: 0.914399981\n",
    "Epoch:  150\n",
    "\t\t======> Loss: 0.299659219\n",
    "\t\t======> Training Accuracy: 0.911290884\n",
    "\t\t======> Validation Accuracy: 0.917599976\n",
    "Epoch:  160\n",
    "\t\t======> Loss: 0.287494184\n",
    "\t\t======> Training Accuracy: 0.914690912\n",
    "\t\t======> Validation Accuracy: 0.921400011\n",
    "Epoch:  170\n",
    "\t\t======> Loss: 0.276905372\n",
    "\t\t======> Training Accuracy: 0.917672753\n",
    "\t\t======> Validation Accuracy: 0.923600018\n",
    "Epoch:  180\n",
    "\t\t======> Loss: 0.267471730\n",
    "\t\t======> Training Accuracy: 0.920545459\n",
    "\t\t======> Validation Accuracy: 0.927600026\n",
    "Epoch:  190\n",
    "\t\t======> Loss: 0.258613385\n",
    "\t\t======> Training Accuracy: 0.923018157\n",
    "\t\t======> Validation Accuracy: 0.930199981\n",
    "Epoch:  200\n",
    "\t\t======> Loss: 0.250219537\n",
    "\t\t======> Training Accuracy: 0.925618172\n",
    "\t\t======> Validation Accuracy: 0.931999981\n",
    "Training Finished!\n",
    "Testing Accuracy: 0.9296\n",
    "Train with \n",
    "\tLR: 0.0001 \n",
    "\tbatch_size: 128 \n",
    "\topt method: AdamOptimizer\n",
    "Start Training!\n",
    "Epoch:  10\n",
    "\t\t======> Loss: 0.082215154\n",
    "\t\t======> Training Accuracy: 0.976909101\n",
    "\t\t======> Validation Accuracy: 0.978200018\n",
    "Epoch:  20\n",
    "\t\t======> Loss: 0.046922821\n",
    "\t\t======> Training Accuracy: 0.987654567\n",
    "\t\t======> Validation Accuracy: 0.985400021\n",
    "Epoch:  30\n",
    "\t\t======> Loss: 0.031515293\n",
    "\t\t======> Training Accuracy: 0.991272748\n",
    "\t\t======> Validation Accuracy: 0.986199975\n",
    "Epoch:  40\n",
    "\t\t======> Loss: 0.021564392\n",
    "\t\t======> Training Accuracy: 0.993927300\n",
    "\t\t======> Validation Accuracy: 0.986199975\n",
    "Training Finished!\n",
    "Testing Accuracy: 0.9873"
   ]
  },
  {
   "cell_type": "code",
   "execution_count": null,
   "metadata": {
    "collapsed": true
   },
   "outputs": [],
   "source": []
  }
 ],
 "metadata": {
  "anaconda-cloud": {},
  "kernelspec": {
   "display_name": "Python 3",
   "language": "python",
   "name": "python3"
  },
  "language_info": {
   "codemirror_mode": {
    "name": "ipython",
    "version": 3
   },
   "file_extension": ".py",
   "mimetype": "text/x-python",
   "name": "python",
   "nbconvert_exporter": "python",
   "pygments_lexer": "ipython3",
   "version": "3.6.0"
  }
 },
 "nbformat": 4,
 "nbformat_minor": 0
}
