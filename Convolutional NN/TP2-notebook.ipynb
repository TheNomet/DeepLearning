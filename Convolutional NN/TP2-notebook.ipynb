{
 "cells": [
  {
   "cell_type": "markdown",
   "metadata": {
    "deletable": true,
    "editable": true
   },
   "source": [
    "<h1 style=\"text-align:center\">Deep Learning   </h1>\n",
    "<h1 style=\"text-align:center\"> Lab Session 2 - 3 Hours </h1>\n",
    "<h1 style=\"text-align:center\"> Convolutional Neural Network (CNN) for Handwritten Digits Recognition</h1>"
   ]
  },
  {
   "cell_type": "markdown",
   "metadata": {
    "deletable": true,
    "editable": true
   },
   "source": [
    "<b> Student 1:</b> Matteo Fiore \n",
    "<b> Student 2:</b> Hanna Johansson\n",
    " \n",
    " \n",
    "The aim of this session is to practice with Convolutional Neural Networks. Answers and experiments should be made by groups of one or two students. Each group should fill and run appropriate notebook cells. \n",
    "\n",
    "\n",
    "Once you have completed all of the code implementations and successfully answered each question above, you may finalize your work by exporting the iPython Notebook as an pdf document using print as PDF (Ctrl+P). Do not forget to run all your cells before generating your final report and do not forget to include the names of all participants in the group. The lab session should be completed by May 29th 2017.\n",
    "\n",
    "Send you pdf file to benoit.huet@eurecom.fr and olfa.ben-ahmed@eurecom.fr using **[DeepLearning_lab2]** as Subject of your email."
   ]
  },
  {
   "cell_type": "markdown",
   "metadata": {
    "deletable": true,
    "editable": true
   },
   "source": [
    "# Introduction"
   ]
  },
  {
   "cell_type": "markdown",
   "metadata": {
    "deletable": true,
    "editable": true
   },
   "source": [
    "In the last Lab Session, you built a Multilayer Perceptron for recognizing hand-written digits from the MNIST data-set. The best achieved accuracy on testing data was about 97%.  Can  you do better than these results using a deep CNN ?\n",
    "In this Lab Session, you will build, train and optimize in TensorFlow one of the early Convolutional Neural Networks:  **LeNet-5** to go to  more than 99% of accuracy. \n",
    "\n",
    "\n",
    "\n",
    "\n"
   ]
  },
  {
   "cell_type": "markdown",
   "metadata": {
    "deletable": true,
    "editable": true
   },
   "source": [
    "# Load MNIST Data in TensorFlow\n",
    "Run the cell above to load the MNIST data that comes  with TensorFlow. You will use this data in **Section 1** and **Section 2**."
   ]
  },
  {
   "cell_type": "code",
   "execution_count": 113,
   "metadata": {
    "collapsed": false,
    "deletable": true,
    "editable": true
   },
   "outputs": [
    {
     "name": "stdout",
     "output_type": "stream",
     "text": [
      "Extracting MNIST_data/train-images-idx3-ubyte.gz\n",
      "Extracting MNIST_data/train-labels-idx1-ubyte.gz\n",
      "Extracting MNIST_data/t10k-images-idx3-ubyte.gz\n",
      "Extracting MNIST_data/t10k-labels-idx1-ubyte.gz\n",
      "Image Shape: (784,)\n",
      "Training Set:   55000 samples\n",
      "Validation Set: 5000 samples\n",
      "Test Set:       10000 samples\n"
     ]
    }
   ],
   "source": [
    "import tensorflow as tf\n",
    "import numpy as np\n",
    "from tensorflow.examples.tutorials.mnist import input_data\n",
    "mnist = input_data.read_data_sets(\"MNIST_data/\", one_hot=True)\n",
    "X_train, y_train           = mnist.train.images, mnist.train.labels\n",
    "X_validation, y_validation = mnist.validation.images, mnist.validation.labels\n",
    "X_test, y_test             = mnist.test.images, mnist.test.labels\n",
    "print(\"Image Shape: {}\".format(X_train[0].shape))\n",
    "print(\"Training Set:   {} samples\".format(len(X_train)))\n",
    "print(\"Validation Set: {} samples\".format(len(X_validation)))\n",
    "print(\"Test Set:       {} samples\".format(len(X_test)))"
   ]
  },
  {
   "cell_type": "markdown",
   "metadata": {
    "deletable": true,
    "editable": true
   },
   "source": [
    "# Section 1 : My First Model in TensorFlow"
   ]
  },
  {
   "cell_type": "markdown",
   "metadata": {
    "collapsed": true,
    "deletable": true,
    "editable": true
   },
   "source": [
    "Before starting with CNN, let's train and test in TensorFlow the example :\n",
    "**y=softmax(Wx+b)** seen in the DeepLearing course last week. \n",
    "\n",
    "This model reaches an accuracy of about 92 %.\n",
    "You will also learn how to launch the tensorBoard https://www.tensorflow.org/get_started/summaries_and_tensorboard to  visualize the computation graph, statistics and learning curves. "
   ]
  },
  {
   "cell_type": "markdown",
   "metadata": {
    "deletable": true,
    "editable": true
   },
   "source": [
    "<b> Part 1 </b> : Read carefully the code in the cell below. Run it to perform training. "
   ]
  },
  {
   "cell_type": "code",
   "execution_count": 4,
   "metadata": {
    "collapsed": false,
    "deletable": true,
    "editable": true,
    "scrolled": false
   },
   "outputs": [
    {
     "name": "stdout",
     "output_type": "stream",
     "text": [
      "Epoch:  01   =====> Loss= 1.287774475\n",
      "Epoch:  02   =====> Loss= 0.733350185\n",
      "Epoch:  03   =====> Loss= 0.599991729\n",
      "Epoch:  04   =====> Loss= 0.535803187\n",
      "Epoch:  05   =====> Loss= 0.498761953\n",
      "Epoch:  06   =====> Loss= 0.472009526\n",
      "Epoch:  07   =====> Loss= 0.450981238\n",
      "Epoch:  08   =====> Loss= 0.433896199\n",
      "Epoch:  09   =====> Loss= 0.422335408\n",
      "Epoch:  10   =====> Loss= 0.413419973\n",
      "Epoch:  11   =====> Loss= 0.407670022\n",
      "Epoch:  12   =====> Loss= 0.396227188\n",
      "Epoch:  13   =====> Loss= 0.389944836\n",
      "Epoch:  14   =====> Loss= 0.383488354\n",
      "Epoch:  15   =====> Loss= 0.382057854\n",
      "Epoch:  16   =====> Loss= 0.371171829\n",
      "Epoch:  17   =====> Loss= 0.370542881\n",
      "Epoch:  18   =====> Loss= 0.366848597\n",
      "Epoch:  19   =====> Loss= 0.363278455\n",
      "Epoch:  20   =====> Loss= 0.361297389\n",
      "Epoch:  21   =====> Loss= 0.354854941\n",
      "Epoch:  22   =====> Loss= 0.353361876\n",
      "Epoch:  23   =====> Loss= 0.350632020\n",
      "Epoch:  24   =====> Loss= 0.348237960\n",
      "Epoch:  25   =====> Loss= 0.347620594\n",
      "Epoch:  26   =====> Loss= 0.346936341\n",
      "Epoch:  27   =====> Loss= 0.337564510\n",
      "Epoch:  28   =====> Loss= 0.340763043\n",
      "Epoch:  29   =====> Loss= 0.339010938\n",
      "Epoch:  30   =====> Loss= 0.338756594\n",
      "Epoch:  31   =====> Loss= 0.335181847\n",
      "Epoch:  32   =====> Loss= 0.332476231\n",
      "Epoch:  33   =====> Loss= 0.333158617\n",
      "Epoch:  34   =====> Loss= 0.330703395\n",
      "Epoch:  35   =====> Loss= 0.325937278\n",
      "Epoch:  36   =====> Loss= 0.330533549\n",
      "Epoch:  37   =====> Loss= 0.327625818\n",
      "Epoch:  38   =====> Loss= 0.323975573\n",
      "Epoch:  39   =====> Loss= 0.323032902\n",
      "Epoch:  40   =====> Loss= 0.322942971\n",
      "Epoch:  41   =====> Loss= 0.322795353\n",
      "Epoch:  42   =====> Loss= 0.321822005\n",
      "Epoch:  43   =====> Loss= 0.320901277\n",
      "Epoch:  44   =====> Loss= 0.319281543\n",
      "Epoch:  45   =====> Loss= 0.314832242\n",
      "Epoch:  46   =====> Loss= 0.318995090\n",
      "Epoch:  47   =====> Loss= 0.316391421\n",
      "Epoch:  48   =====> Loss= 0.316108545\n",
      "Epoch:  49   =====> Loss= 0.311838080\n",
      "Epoch:  50   =====> Loss= 0.312921743\n",
      "Epoch:  51   =====> Loss= 0.314924041\n",
      "Epoch:  52   =====> Loss= 0.310870558\n",
      "Epoch:  53   =====> Loss= 0.313247074\n",
      "Epoch:  54   =====> Loss= 0.310446158\n",
      "Epoch:  55   =====> Loss= 0.308232712\n",
      "Epoch:  56   =====> Loss= 0.308637210\n",
      "Epoch:  57   =====> Loss= 0.311826607\n",
      "Epoch:  58   =====> Loss= 0.305870528\n",
      "Epoch:  59   =====> Loss= 0.310021045\n",
      "Epoch:  60   =====> Loss= 0.301017601\n",
      "Epoch:  61   =====> Loss= 0.307336253\n",
      "Epoch:  62   =====> Loss= 0.308878662\n",
      "Epoch:  63   =====> Loss= 0.302662423\n",
      "Epoch:  64   =====> Loss= 0.303892244\n",
      "Epoch:  65   =====> Loss= 0.304904493\n",
      "Epoch:  66   =====> Loss= 0.304483819\n",
      "Epoch:  67   =====> Loss= 0.302071302\n",
      "Epoch:  68   =====> Loss= 0.302272720\n",
      "Epoch:  69   =====> Loss= 0.300992849\n",
      "Epoch:  70   =====> Loss= 0.299994523\n",
      "Epoch:  71   =====> Loss= 0.299764082\n",
      "Epoch:  72   =====> Loss= 0.302711870\n",
      "Epoch:  73   =====> Loss= 0.299576214\n",
      "Epoch:  74   =====> Loss= 0.298192239\n",
      "Epoch:  75   =====> Loss= 0.300223060\n",
      "Epoch:  76   =====> Loss= 0.301462436\n",
      "Epoch:  77   =====> Loss= 0.297271375\n",
      "Epoch:  78   =====> Loss= 0.297745320\n",
      "Epoch:  79   =====> Loss= 0.297656582\n",
      "Epoch:  80   =====> Loss= 0.294114579\n",
      "Epoch:  81   =====> Loss= 0.293557461\n",
      "Epoch:  82   =====> Loss= 0.300845033\n",
      "Epoch:  83   =====> Loss= 0.292027636\n",
      "Epoch:  84   =====> Loss= 0.296899026\n",
      "Epoch:  85   =====> Loss= 0.295730884\n",
      "Epoch:  86   =====> Loss= 0.294679670\n",
      "Epoch:  87   =====> Loss= 0.293704249\n",
      "Epoch:  88   =====> Loss= 0.297618452\n",
      "Epoch:  89   =====> Loss= 0.290649785\n",
      "Epoch:  90   =====> Loss= 0.294045917\n",
      "Epoch:  91   =====> Loss= 0.290764434\n",
      "Epoch:  92   =====> Loss= 0.291610948\n",
      "Epoch:  93   =====> Loss= 0.294955569\n",
      "Epoch:  94   =====> Loss= 0.288496339\n",
      "Epoch:  95   =====> Loss= 0.291589018\n",
      "Epoch:  96   =====> Loss= 0.292578657\n",
      "Epoch:  97   =====> Loss= 0.288210354\n",
      "Epoch:  98   =====> Loss= 0.292036547\n",
      "Epoch:  99   =====> Loss= 0.291074217\n",
      "Epoch:  100   =====> Loss= 0.288567184\n",
      "Optimization Finished!\n",
      "Accuracy: 0.9199\n"
     ]
    }
   ],
   "source": [
    "from __future__ import print_function\n",
    "import tensorflow as tf\n",
    "\n",
    "\n",
    "#STEP 1\n",
    "\n",
    "# Parameters\n",
    "learning_rate = 0.01\n",
    "training_epochs = 100\n",
    "batch_size = 128\n",
    "display_step = 1\n",
    "logs_path = 'log_files/'  # useful for tensorboard\n",
    "\n",
    "tf.reset_default_graph()\n",
    "# tf Graph Input:  mnist data image of shape 28*28=784\n",
    "x = tf.placeholder(tf.float32, [None, 784], name='InputData')\n",
    "# 0-9 digits recognition,  10 classes\n",
    "y = tf.placeholder(tf.float32, [None, 10], name='LabelData')\n",
    "\n",
    "# Set model weights\n",
    "W = tf.Variable(tf.zeros([784, 10]), name='Weights')\n",
    "b = tf.Variable(tf.zeros([10]), name='Bias')\n",
    "\n",
    "# Construct model and encapsulating all ops into scopes, making Tensorboard's Graph visualization more convenient\n",
    "with tf.name_scope('Model'):\n",
    "    # Model\n",
    "    pred = tf.nn.softmax(tf.matmul(x, W) + b) # Softmax\n",
    "with tf.name_scope('Loss'):\n",
    "    # Minimize error using cross entropy\n",
    "    cost = tf.reduce_mean(-tf.reduce_sum(y*tf.log(pred), reduction_indices=1))\n",
    "with tf.name_scope('SGD'):\n",
    "    # Gradient Descent\n",
    "    optimizer = tf.train.GradientDescentOptimizer(learning_rate).minimize(cost)\n",
    "with tf.name_scope('Accuracy'):\n",
    "    # Accuracy\n",
    "    acc = tf.equal(tf.argmax(pred, 1), tf.argmax(y, 1))\n",
    "    acc = tf.reduce_mean(tf.cast(acc, tf.float32))\n",
    "\n",
    "# Initializing the variables\n",
    "init = tf.global_variables_initializer()\n",
    "# Create a summary to monitor cost tensor\n",
    "tf.summary.scalar(\"Loss\", cost)\n",
    "# Create a summary to monitor accuracy tensor\n",
    "tf.summary.scalar(\"Accuracy\", acc)\n",
    "# Merge all summaries into a single op\n",
    "merged_summary_op = tf.summary.merge_all()\n",
    "\n",
    "\n",
    "#STEP 2 \n",
    "\n",
    "\n",
    "# Launch the graph for training\n",
    "with tf.Session() as sess:\n",
    "    sess.run(init)\n",
    "    # op to write logs to Tensorboard\n",
    "    summary_writer = tf.summary.FileWriter(logs_path, graph=tf.get_default_graph())\n",
    "    # Training cycle\n",
    "    for epoch in range(training_epochs):\n",
    "        avg_cost = 0.\n",
    "        total_batch = int(mnist.train.num_examples/batch_size)\n",
    "        # Loop over all batches\n",
    "        for i in range(total_batch):\n",
    "            batch_xs, batch_ys = mnist.train.next_batch(batch_size)\n",
    "            # Run optimization op (backprop), cost op (to get loss value)\n",
    "            # and summary nodes\n",
    "            _, c, summary = sess.run([optimizer, cost, merged_summary_op],\n",
    "                                     feed_dict={x: batch_xs, y: batch_ys})\n",
    "            # Write logs at every iteration\n",
    "            summary_writer.add_summary(summary, epoch * total_batch + i)\n",
    "            # Compute average loss\n",
    "            avg_cost += c / total_batch\n",
    "        # Display logs per epoch step\n",
    "        if (epoch+1) % display_step == 0:\n",
    "            print(\"Epoch: \", '%02d' % (epoch+1), \"  =====> Loss=\", \"{:.9f}\".format(avg_cost))\n",
    "\n",
    "    print(\"Optimization Finished!\")\n",
    "\n",
    "    # Test model\n",
    "    # Calculate accuracy\n",
    "    print(\"Accuracy:\", acc.eval({x: mnist.test.images, y: mnist.test.labels}))\n",
    "\n",
    "\n"
   ]
  },
  {
   "cell_type": "markdown",
   "metadata": {
    "deletable": true,
    "editable": true
   },
   "source": [
    "<b> Part 2  </b>: Using Tensorboard, we can  now visualize the created graph, giving you an overview of your architecture and how all of the major components  are connected. You can also see and analyse the learning curves. \n",
    "\n",
    "To launch tensorBoard: \n",
    "- Go to the **TP2** folder, \n",
    "- Open a Terminal and run the command line **\"tensorboard --logdir= log_files/\"**, it will generate an http link --> http://192.168.17.2:6006/ \n",
    "- Copy this  link into your web browser \n",
    "\n",
    "\n",
    "Enjoy It !! \n"
   ]
  },
  {
   "cell_type": "markdown",
   "metadata": {
    "deletable": true,
    "editable": true
   },
   "source": [
    "# Section 2 : The 99% MNIST Challenge !"
   ]
  },
  {
   "cell_type": "markdown",
   "metadata": {
    "deletable": true,
    "editable": true
   },
   "source": [
    "<b> Part 1 </b> : LeNet5 implementation"
   ]
  },
  {
   "cell_type": "markdown",
   "metadata": {
    "deletable": true,
    "editable": true
   },
   "source": [
    "Once you are now familar with **tensorFlow** and **tensorBoard**, you are in this section to build, train and test the baseline [LeNet-5](http://yann.lecun.com/exdb/lenet/)  model for the MNIST digits recognition problem.  \n",
    "\n",
    "In more advanced step you will make some optimizations to get more than 99% of accuracy. The best model can get to over 99.7% accuracy! \n",
    "\n",
    "For more information, have a look at this list of results : http://rodrigob.github.io/are_we_there_yet/build/classification_datasets_results.html"
   ]
  },
  {
   "cell_type": "markdown",
   "metadata": {
    "deletable": true,
    "editable": true
   },
   "source": [
    "\n",
    "<img src=\"lenet.png\",width=\"800\" height=\"600\" align=\"center\">\n",
    "<center><span>Figure 1: Lenet 5 </span></center>\n",
    "\n",
    "\n",
    "\n",
    "\n",
    "\n",
    "The LeNet architecture accepts a 32x32xC image as input, where C is the number of color channels. Since MNIST images are grayscale, C is 1 in this case.\n",
    "\n",
    "--------------------------\n",
    "**Layer 1: Convolutional.** The output shape should be 28x28x6 **Activation.** sigmoid **Pooling.** The output shape should be 14x14x6.\n",
    "\n",
    "**Layer 2: Convolutional.** The output shape should be 10x10x16. **Activation.** sigmoid **Pooling.** The output shape should be 5x5x16.\n",
    "\n",
    "**Flatten.** Flatten the output shape of the final pooling layer such that it's 1D instead of 3D.  You may need to use **flatten*  from tensorflow.contrib.layers import flatten\n",
    "\n",
    "**Layer 3: Fully Connected.** This should have 120 outputs. **Activation.** sigmoid\n",
    "\n",
    "**Layer 4: Fully Connected.** This should have 84 outputs. **Activation.** sigmoid\n",
    "\n",
    "**Layer 5: Fully Connected.** This should have 10 outputs. **Activation.** softmax\n"
   ]
  },
  {
   "cell_type": "markdown",
   "metadata": {
    "deletable": true,
    "editable": true
   },
   "source": [
    "<b> Question 2.1.1 </b>  Implement the Neural Network architecture described above.\n",
    "For that, your will use classes and functions from  https://www.tensorflow.org/api_docs/python/tf/nn. \n",
    "\n",
    "We give you some helper functions for weigths and bias initilization. Also you can refer to section 1. \n"
   ]
  },
  {
   "cell_type": "code",
   "execution_count": 80,
   "metadata": {
    "collapsed": true,
    "deletable": true,
    "editable": true
   },
   "outputs": [],
   "source": [
    "def weight_variable(shape):\n",
    "  initial = tf.truncated_normal(shape, stddev=0.1)\n",
    "  return tf.Variable(initial)\n",
    "\n",
    "def bias_variable(shape):\n",
    "  initial = tf.constant(0.1, shape=shape)\n",
    "  return tf.Variable(initial)"
   ]
  },
  {
   "cell_type": "code",
   "execution_count": 114,
   "metadata": {
    "collapsed": false,
    "deletable": true,
    "editable": true
   },
   "outputs": [],
   "source": [
    "def LeNet5_Model(data):    \n",
    "    ######## Convolutional Layer #1\n",
    "    \n",
    "    # [filter_height,filter_width, in_channel, num_out_filters]\n",
    "    filter_shape_c1 = [5, 5, 1, 6]\n",
    "    f_conv1 = weight_variable(filter_shape_c1)\n",
    "    \n",
    "    conv1 = tf.nn.conv2d(input=data, filter=f_conv1, strides=[1,1,1,1], padding=\"SAME\")\n",
    "    print(conv1.shape,'conv1')\n",
    "    # (?, 28, 28, 6) conv1\n",
    "    \n",
    "    # activation \n",
    "    b1 = bias_variable([6])\n",
    "    h1 = tf.nn.sigmoid(tf.nn.bias_add(conv1,b1))\n",
    "    print(h1.shape,'h1')\n",
    "    # (?, 28, 28, 6) h1\n",
    "    \n",
    "    # Pooling layer 1\n",
    "    pooled1 = tf.nn.max_pool(h1,ksize=[1, 2, 2, 1], strides=[1, 2, 2, 1], padding='VALID')\n",
    "    print(pooled1.shape,'pooled1')\n",
    "    # (?, 14, 14, 6) pooled1\n",
    "    \n",
    "    ######### Convolutional Layer #2\n",
    "    \n",
    "    # [filter_height,filter_width, in_channel, num_out_filters]\n",
    "    filter_shape_c2 = [5,5,6,16]\n",
    "    f_conv2 = weight_variable(filter_shape_c2)\n",
    "    \n",
    "    conv2 = tf.nn.conv2d(pooled1, filter=f_conv2, strides=[1,1,1,1], padding=\"VALID\")\n",
    "    print(conv2.shape,'conv2')\n",
    "    # (?, 14, 14, 16) conv2\n",
    "    \n",
    "    # activation \n",
    "    b2 = bias_variable([16])\n",
    "    h2 = tf.nn.sigmoid(tf.nn.bias_add(conv2,b2))\n",
    "    print(h2.shape,'h2')\n",
    "    # (?, 14, 14, 16) h2\n",
    "    \n",
    "    # Pooling layer 1\n",
    "    pooled2 = tf.nn.max_pool(h2,ksize=[1, 2, 2, 1], strides=[1, 2, 2, 1], padding='VALID')\n",
    "    print(pooled2.shape,'pooled2')\n",
    "    # (?, 7, 7, 16) pooled2\n",
    "    \n",
    "    pooled2_flat = tf.reshape(pooled2, [-1, 5*5*16])\n",
    "    \n",
    "    dense1 = tf.layers.dense(inputs=pooled2_flat, units=120, activation=tf.nn.sigmoid)\n",
    "    dense2 = tf.layers.dense(inputs=dense1, units=84, activation=tf.nn.sigmoid)\n",
    "    dense3 = tf.layers.dense(inputs=dense2, units=10, activation=tf.nn.softmax)\n",
    "    \n",
    "    return dense3\n",
    "\n",
    "\n",
    "\n",
    "\n",
    "\n",
    "\n"
   ]
  },
  {
   "cell_type": "markdown",
   "metadata": {
    "deletable": true,
    "editable": true
   },
   "source": [
    "<b> Question 2.1.2. </b>  Calculate the number of parameters of this model "
   ]
  },
  {
   "cell_type": "markdown",
   "metadata": {
    "collapsed": true,
    "deletable": true,
    "editable": true
   },
   "source": [
    " Your answer goes here in details "
   ]
  },
  {
   "cell_type": "markdown",
   "metadata": {
    "deletable": true,
    "editable": true
   },
   "source": [
    "<b> Question 2.1.3. </b>  Start the training with the parameters cited below:\n",
    "\n",
    "     Learning rate =0.1\n",
    "     Loss Fucntion : Cross entropy\n",
    "     Optimisateur: SGD\n",
    "     Number of training iterations= 10000\n",
    "     The batch size =128"
   ]
  },
  {
   "cell_type": "code",
   "execution_count": 115,
   "metadata": {
    "collapsed": false,
    "deletable": true,
    "editable": true
   },
   "outputs": [],
   "source": [
    "# Training parameters \n",
    "learning_rate = 0.1\n",
    "training_epochs = 10000\n",
    "batch_size = 128\n",
    "optimizer = tf.train.GradientDescentOptimizer"
   ]
  },
  {
   "cell_type": "markdown",
   "metadata": {
    "deletable": true,
    "editable": true
   },
   "source": [
    "<b> Question 2.1.4. </b>  Implement the evaluation function for accuracy computation "
   ]
  },
  {
   "cell_type": "code",
   "execution_count": 116,
   "metadata": {
    "collapsed": true,
    "deletable": true,
    "editable": true
   },
   "outputs": [],
   "source": [
    "def evaluate(model, y):\n",
    "    acc = tf.equal(tf.argmax(model, 1), tf.argmax(y, 1))\n",
    "    acc = tf.reduce_mean(tf.cast(acc, tf.float32))\n",
    "    return accuracy"
   ]
  },
  {
   "cell_type": "code",
   "execution_count": 117,
   "metadata": {
    "collapsed": false
   },
   "outputs": [
    {
     "data": {
      "text/plain": [
       "(10000, 10)"
      ]
     },
     "execution_count": 117,
     "metadata": {},
     "output_type": "execute_result"
    }
   ],
   "source": [
    "y_test.shape"
   ]
  },
  {
   "cell_type": "markdown",
   "metadata": {
    "collapsed": false,
    "deletable": true,
    "editable": true
   },
   "source": [
    "<b> Question 2.1.5. </b>  Implement training pipeline and run the training data through it to train the model.\n",
    "\n",
    "- Before each epoch, shuffle the training set. \n",
    "- Print the loss per mini batch and the training/validation accuracy per epoch. (Display results every 100 epochs)\n",
    "- Save the model after training\n",
    "- Print after training the final testing accuracy \n",
    "\n"
   ]
  },
  {
   "cell_type": "code",
   "execution_count": 120,
   "metadata": {
    "collapsed": false,
    "deletable": true,
    "editable": true
   },
   "outputs": [],
   "source": [
    "\n",
    "# Initializing the variables\n",
    "def train(learning_rate = 0.1, training_epochs = 50, batch_size = 128, display_step = 1, \n",
    "            optimizer= tf.train.GradientDescentOptimizer):\n",
    "    # Initializing the session \n",
    "    \n",
    "    tf.reset_default_graph()\n",
    "    print (\"Start Training!\")     \n",
    "        \n",
    "    # tf Graph Input:  mnist data image of shape 28*28=784\n",
    "    x = tf.placeholder(tf.float32, [None, 28, 28, 1], name='InputData')\n",
    "    # 0-9 digits recognition,  10 classes\n",
    "    y = tf.placeholder(tf.float32, [None, 10], name='LabelData')\n",
    "\n",
    "    # Construct model and encapsulating all ops into scopes, making Tensorboard's Graph visualization more convenient\n",
    "    with tf.name_scope('Model'):\n",
    "        # Model\n",
    "        pred = LeNet5_Model(x) # Softmax\n",
    "    with tf.name_scope('Loss_LaNet'):\n",
    "        # Minimize error using cross entropy\n",
    "        cost = tf.reduce_mean(-tf.reduce_sum(y*tf.log(pred), reduction_indices=1))\n",
    "    with tf.name_scope('SGD'):\n",
    "        # Gradient Descent\n",
    "        optimizer = optimizer(learning_rate).minimize(cost)\n",
    "    with tf.name_scope('Accuracy_LaNet'):\n",
    "        # Accuracy\n",
    "        acc = tf.equal(tf.argmax(pred, 1), tf.argmax(y, 1))\n",
    "        acc = tf.reduce_mean(tf.cast(acc, tf.float32))\n",
    "\n",
    "    # Initializing the variables\n",
    "    init = tf.global_variables_initializer()\n",
    "    # Create a summary to monitor cost tensor\n",
    "    tf.summary.scalar(\"Loss_LaNet\", cost)\n",
    "    # Create a summary to monitor accuracy tensor\n",
    "    tf.summary.scalar(\"Accuracy_LaNet\", acc)\n",
    "    # Merge all summaries into a single op\n",
    "    merged_summary_op = tf.summary.merge_all()\n",
    "\n",
    "\n",
    "    # Launch the graph for training\n",
    "    with tf.Session() as sess:\n",
    "        sess.run(init)\n",
    "        # op to write logs to Tensorboard\n",
    "        summary_writer = tf.summary.FileWriter(logs_path, graph=tf.get_default_graph())\n",
    "        # Training cycle\n",
    "        for epoch in range(training_epochs):\n",
    "            avg_cost = 0.\n",
    "            total_batch = int(mnist.train.num_examples/batch_size)\n",
    "            # Loop over all batches\n",
    "            for i in range(total_batch):\n",
    "                batch_xs, batch_ys = mnist.train.next_batch(batch_size)\n",
    "                shuffle= np.arange(batch_size)\n",
    "                np.random.shuffle(shuffle)\n",
    "                batch_xs = batch_xs[shuffle]\n",
    "                batch_ys = batch_ys[shuffle]\n",
    "                batch_xs = batch_xs.reshape([-1, 28, 28, 1])\n",
    "                # Run optimization op (backprop), cost op (to get loss value)\n",
    "                # and summary nodes\n",
    "                _, c, summary = sess.run([optimizer, cost, merged_summary_op],\n",
    "                                         feed_dict={x: batch_xs, y: batch_ys})\n",
    "                # Write logs at every iteration\n",
    "                summary_writer.add_summary(summary, epoch * total_batch + i)\n",
    "                # Compute average loss\n",
    "                avg_cost += c / total_batch\n",
    "            # Display logs per epoch step\n",
    "            if (epoch+1) % display_step == 0:\n",
    "                print(\"Epoch: \", '%02d' % (epoch+1), \"  =====> Loss=\", \"{:.9f}\".format(avg_cost))\n",
    "                print(\"\\t\\t======> Training Accuracy:\", acc.eval({x: mnist.train.images.reshape([-1,28,28,1]), y: mnist.train.labels}))\n",
    "                print(\"\\t\\t======> Validation Accuracy:\", acc.eval({x: mnist.validation.images.reshape([-1,28,28,1]), y: mnist.validation.labels}))\n",
    "        \n",
    "        \n",
    "        print (\"Training Finished!\")\n",
    "        \n",
    "        #Your implementation for testing accuracy after training goes here\n",
    "        print(\"Testing Accuracy:\", acc.eval({x: mnist.test.images.reshape([-1,28,28,1]), y: mnist.test.labels}))\n",
    "        \n",
    "        \n",
    "    "
   ]
  },
  {
   "cell_type": "code",
   "execution_count": 122,
   "metadata": {
    "collapsed": false,
    "scrolled": false
   },
   "outputs": [
    {
     "name": "stdout",
     "output_type": "stream",
     "text": [
      "Start Training!\n",
      "(?, 28, 28, 6) conv1\n",
      "(?, 28, 28, 6) h1\n",
      "(?, 14, 14, 6) pooled1\n",
      "(?, 10, 10, 16) conv2\n",
      "(?, 10, 10, 16) h2\n",
      "(?, 5, 5, 16) pooled2\n",
      "Epoch:  01   =====> Loss= 2.308882457\n",
      "\t\t======> Training Accuracy: 0.112345\n",
      "\t\t======> Validation Accuracy: 0.1126\n",
      "Epoch:  02   =====> Loss= 2.305897100\n",
      "\t\t======> Training Accuracy: 0.112345\n",
      "\t\t======> Validation Accuracy: 0.1126\n",
      "Training Finished!\n",
      "Testing Accuracy: 0.1135\n"
     ]
    }
   ],
   "source": [
    "train(learning_rate = learning_rate, training_epochs = 2, batch_size = 128, display_step = 1, \n",
    "            optimizer= tf.train.GradientDescentOptimizer)"
   ]
  },
  {
   "cell_type": "markdown",
   "metadata": {
    "deletable": true,
    "editable": true
   },
   "source": [
    "<b> Question 2.1.6 </b> : Use tensorBoard to visualise and save the LeNet5 Graph and all learning curves. \n",
    "Save all obtained figures in the folder **\"TP2/MNIST_99_Challenge_Figures\"**"
   ]
  },
  {
   "cell_type": "code",
   "execution_count": null,
   "metadata": {
    "collapsed": true,
    "deletable": true,
    "editable": true
   },
   "outputs": [],
   "source": [
    "#  insert your obtained figure here "
   ]
  },
  {
   "cell_type": "code",
   "execution_count": null,
   "metadata": {
    "collapsed": true,
    "deletable": true,
    "editable": true
   },
   "outputs": [],
   "source": [
    "# your answer goas here"
   ]
  },
  {
   "cell_type": "markdown",
   "metadata": {
    "deletable": true,
    "editable": true
   },
   "source": [
    "<b> Part 2 </b> : LeNET 5 Optimization"
   ]
  },
  {
   "cell_type": "markdown",
   "metadata": {
    "deletable": true,
    "editable": true
   },
   "source": [
    "\n",
    "<b> Question 2.2.1 </b>  Change the sigmoid function with a Relu :\n",
    "\n",
    "- Retrain your network with SGD and AdamOptimizer and then fill the table above  :\n",
    "\n",
    "\n",
    "| Optimizer            |  Gradient Descent         |AdamOptimizer |\n",
    "| -------------        |: -------------: | ---------:   \n",
    "| Validation Accuracy  |         |    |      \n",
    "| Testing Accuracy     |           |    |       \n",
    "| Training Time        |           |        |  |  \n",
    "\n",
    "\n",
    "- Try with different learning rates for each Optimizer (0.0001 and 0.001 ) and different Batch sizes (50 and 128) for 20000 Epochs. \n",
    "\n",
    "- For each optimizer, plot (on the same curve) the **testing accuracies** function to **(learning rate, batch size)** \n",
    "\n",
    "\n",
    "\n",
    "- Did you reach the 99% accuracy ? What are the optimal parametres that gave you the best results? \n",
    "\n",
    "\n",
    "\n",
    "\n",
    "\n",
    "\n"
   ]
  },
  {
   "cell_type": "code",
   "execution_count": null,
   "metadata": {
    "collapsed": true,
    "deletable": true,
    "editable": true
   },
   "outputs": [],
   "source": [
    "# your answer goas here"
   ]
  },
  {
   "cell_type": "markdown",
   "metadata": {
    "deletable": true,
    "editable": true
   },
   "source": [
    "<b> Question 2.2.2 </b>  What about applying a dropout layer on the Fully conntected layer and then retraining the model with the best Optimizer and parameters(Learning rate and Batsh size) obtained in *Question 2.2.1*  ? (probability to keep units=0.75). For this stage ensure that the keep prob is set to 1.0 to evaluate the \n",
    "performance of the network including all nodes."
   ]
  },
  {
   "cell_type": "code",
   "execution_count": null,
   "metadata": {
    "collapsed": true,
    "deletable": true,
    "editable": true
   },
   "outputs": [],
   "source": [
    "# your implementaion goas here"
   ]
  },
  {
   "cell_type": "code",
   "execution_count": null,
   "metadata": {
    "collapsed": true,
    "deletable": true,
    "editable": true
   },
   "outputs": [],
   "source": [
    "Your comments go here"
   ]
  }
 ],
 "metadata": {
  "anaconda-cloud": {},
  "kernelspec": {
   "display_name": "Python 3",
   "language": "python",
   "name": "python3"
  },
  "language_info": {
   "codemirror_mode": {
    "name": "ipython",
    "version": 3
   },
   "file_extension": ".py",
   "mimetype": "text/x-python",
   "name": "python",
   "nbconvert_exporter": "python",
   "pygments_lexer": "ipython3",
   "version": "3.6.0"
  }
 },
 "nbformat": 4,
 "nbformat_minor": 0
}
