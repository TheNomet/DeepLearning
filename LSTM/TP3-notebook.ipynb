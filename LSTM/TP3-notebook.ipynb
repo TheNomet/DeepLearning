{
 "cells": [
  {
   "cell_type": "markdown",
   "metadata": {
    "deletable": true,
    "editable": true
   },
   "source": [
    "<h1 style=\"text-align:center\">Deep Learning   </h1>\n",
    "<h1 style=\"text-align:center\"> Lab Session 3 - 3 Hours </h1>\n",
    "<h1 style=\"text-align:center\">Long Short Term Memory (LSTM) for Language Modeling</h1>"
   ]
  },
  {
   "cell_type": "markdown",
   "metadata": {
    "deletable": true,
    "editable": true
   },
   "source": [
    "<b> Student 1:</b> Hanna Johansson \n",
    "<b> Student 2:</b> Matteo Fiore\n",
    " \n",
    " \n",
    "In this Lab Session,  you will build and train a Recurrent Neural Network, based on Long Short-Term Memory (LSTM) units for next word prediction task. \n",
    "\n",
    "Answers and experiments should be made by groups of one or two students. Each group should fill and run appropriate notebook cells. \n",
    "Once you have completed all of the code implementations and successfully answered each question above, you may finalize your work by exporting the iPython Notebook as an pdf document using print as PDF (Ctrl+P). Do not forget to run all your cells before generating your final report and do not forget to include the names of all participants in the group. The lab session should be completed by June 9th 2017.\n",
    "\n",
    "Send you pdf file to benoit.huet@eurecom.fr and olfa.ben-ahmed@eurecom.fr using **[DeepLearning_lab3]** as Subject of your email."
   ]
  },
  {
   "cell_type": "markdown",
   "metadata": {
    "deletable": true,
    "editable": true
   },
   "source": [
    "#  Introduction"
   ]
  },
  {
   "cell_type": "markdown",
   "metadata": {
    "deletable": true,
    "editable": true
   },
   "source": [
    "You will train a LSTM to predict the next word using a sample short story. The LSTM will learn to predict the next item of a sentence from the 3 previous items (given as input). Ponctuation marks are considered as dictionnary items so they can be predicted too. Figure 1 shows the LSTM and the process of next word prediction. \n",
    "\n",
    "<img src=\"lstm.png\" height=\"370\" width=\"370\"> \n",
    "\n",
    "\n",
    "Each word (and punctuation) from text sentences is encoded by a unique integer. The integer value corresponds to the index of the corresponding word (or punctuation mark) in the dictionnary. The network output is a one-hot-vector indicating the index of the predicted word in the reversed dictionnary (Section 1.2). For example if the prediction is 86, the predicted word will be \"company\". \n",
    "\n",
    "\n",
    "\n",
    "You will use a sample short story from Aesop’s Fables (http://www.taleswithmorals.com/) to train your model. \n"
   ]
  },
  {
   "cell_type": "markdown",
   "metadata": {
    "deletable": true,
    "editable": true
   },
   "source": [
    "<font size=\"3\" face=\"verdana\" > <i> \"There was once a young Shepherd Boy who tended his sheep at the foot of a mountain near a dark forest.\n",
    "\n",
    "It was rather lonely for him all day, so he thought upon a plan by which he could get a little company and some excitement.\n",
    "He rushed down towards the village calling out \"Wolf, Wolf,\" and the villagers came out to meet him, and some of them stopped with him for a considerable time.\n",
    "This pleased the boy so much that a few days afterwards he tried the same trick, and again the villagers came to his help.\n",
    "But shortly after this a Wolf actually did come out from the forest, and began to worry the sheep, and the boy of course cried out \"Wolf, Wolf,\" still louder than before.\n",
    "But this time the villagers, who had been fooled twice before, thought the boy was again deceiving them, and nobody stirred to come to his help.\n",
    "So the Wolf made a good meal off the boy's flock, and when the boy complained, the wise man of the village said:\n",
    "\"A liar will not be believed, even when he speaks the truth.\"  \"</i> </font>.    \n",
    "\n",
    "\n",
    "\n",
    "\n",
    "\n"
   ]
  },
  {
   "cell_type": "markdown",
   "metadata": {
    "deletable": true,
    "editable": true
   },
   "source": [
    "Start by loading the necessary libraries and resetting the default computational graph. For more details about the rnn packages, we suggest you to take a look at https://www.tensorflow.org/api_guides/python/contrib.rnn"
   ]
  },
  {
   "cell_type": "code",
   "execution_count": 1,
   "metadata": {
    "collapsed": false,
    "deletable": true,
    "editable": true
   },
   "outputs": [],
   "source": [
    "import numpy as np\n",
    "import collections # used to build the dictionary\n",
    "import random\n",
    "import time\n",
    "import pickle # may be used to save your model \n",
    "import matplotlib.pyplot as plt\n",
    "#Import Tensorflow and rnn\n",
    "import tensorflow as tf\n",
    "from tensorflow.contrib import rnn  \n",
    "\n",
    "# Target log path\n",
    "logs_path = 'lstm_words'"
   ]
  },
  {
   "cell_type": "markdown",
   "metadata": {
    "deletable": true,
    "editable": true
   },
   "source": [
    "# Next-word prediction task"
   ]
  },
  {
   "cell_type": "markdown",
   "metadata": {
    "collapsed": true,
    "deletable": true,
    "editable": true
   },
   "source": [
    "## Part 1: Data  preparation"
   ]
  },
  {
   "cell_type": "markdown",
   "metadata": {
    "collapsed": true,
    "deletable": true,
    "editable": true
   },
   "source": [
    "### 1.1. Loading data"
   ]
  },
  {
   "cell_type": "markdown",
   "metadata": {
    "deletable": true,
    "editable": true
   },
   "source": [
    "Load and split the text of our story"
   ]
  },
  {
   "cell_type": "code",
   "execution_count": 2,
   "metadata": {
    "collapsed": false,
    "deletable": true,
    "editable": true
   },
   "outputs": [
    {
     "name": "stdout",
     "output_type": "stream",
     "text": [
      "['there' 'was' 'once' 'a' 'young' 'shepherd' 'boy' 'who' 'tended' 'his'\n",
      " 'sheep' 'at' 'the' 'foot' 'of' 'a' 'mountain' 'near' 'a' 'dark' 'forest'\n",
      " '.' 'it' 'was' 'rather' 'lonely' 'for' 'him' 'all' 'day' ',' 'so' 'he'\n",
      " 'thought' 'upon' 'a' 'plan' 'by' 'which' 'he' 'could' 'get' 'a' 'little'\n",
      " 'company' 'and' 'some' 'excitement' '.' 'he' 'rushed' 'down' 'towards'\n",
      " 'the' 'village' 'calling' 'out' 'wolf' ',' 'wolf' ',' 'and' 'the'\n",
      " 'villagers' 'came' 'out' 'to' 'meet' 'him' ',' 'and' 'some' 'of' 'them'\n",
      " 'stopped' 'with' 'him' 'for' 'a' 'considerable' 'time' '.' 'this'\n",
      " 'pleased' 'the' 'boy' 'so' 'much' 'that' 'a' 'few' 'days' 'afterwards'\n",
      " 'he' 'tried' 'the' 'same' 'trick' ',' 'and' 'again' 'the' 'villagers'\n",
      " 'came' 'to' 'his' 'help' '.' 'but' 'shortly' 'after' 'this' 'a' 'wolf'\n",
      " 'actually' 'did' 'come' 'out' 'from' 'the' 'forest' ',' 'and' 'began' 'to'\n",
      " 'worry' 'the' 'sheep,' 'and' 'the' 'boy' 'of' 'course' 'cried' 'out'\n",
      " 'wolf' ',' 'wolf' ',' 'still' 'louder' 'than' 'before' '.' 'but' 'this'\n",
      " 'time' 'the' 'villagers' ',' 'who' 'had' 'been' 'fooled' 'twice' 'before'\n",
      " ',' 'thought' 'the' 'boy' 'was' 'again' 'deceiving' 'them' ',' 'and'\n",
      " 'nobody' 'stirred' 'to' 'come' 'to' 'his' 'help' '.' 'so' 'the' 'wolf'\n",
      " 'made' 'a' 'good' 'meal' 'off' 'the' \"boy's\" 'flock' ',' 'and' 'when'\n",
      " 'the' 'boy' 'complained' ',' 'the' 'wise' 'man' 'of' 'the' 'village'\n",
      " 'said' ':' 'a' 'liar' 'will' 'not' 'be' 'believed' ',' 'even' 'when' 'he'\n",
      " 'speaks' 'the' 'truth' '.']\n",
      "Loaded training data...\n",
      "214\n"
     ]
    }
   ],
   "source": [
    "def load_data(filename):\n",
    "    with open(filename) as f:\n",
    "        data = f.readlines()\n",
    "    data = [x.strip().lower() for x in data]\n",
    "    data = [data[i].split() for i in range(len(data))]\n",
    "    data = np.array(data)\n",
    "    data = np.reshape(data, [-1, ])\n",
    "    print(data)\n",
    "    return data\n",
    "\n",
    "#Run the cell \n",
    "train_file ='data/story.txt'\n",
    "train_data = load_data(train_file)\n",
    "print(\"Loaded training data...\")\n",
    "print(len(train_data))"
   ]
  },
  {
   "cell_type": "markdown",
   "metadata": {
    "deletable": true,
    "editable": true
   },
   "source": [
    "### 1.2.Symbols encoding"
   ]
  },
  {
   "cell_type": "markdown",
   "metadata": {
    "deletable": true,
    "editable": true
   },
   "source": [
    "The LSTM input's can only be numbers. A way to convert words (symbols or any items) to numbers is to assign a unique integer to each word. This process is often based on frequency of occurrence for efficient coding purpose.\n",
    "\n",
    "Here, we define a function to build an indexed word dictionary (word->number). The \"build_vocabulary\" function builds both:\n",
    "\n",
    "- Dictionary : used for encoding words to numbers for the LSTM inputs \n",
    "- Reverted dictionnary : used for decoding the outputs of the LSTM into words (and punctuation).\n",
    "\n",
    "For example, in the story above, we have **113** individual words. The \"build_vocabulary\" function builds a dictionary with the following entries ['the': 0], [',': 1], ['company': 85],...\n"
   ]
  },
  {
   "cell_type": "code",
   "execution_count": 3,
   "metadata": {
    "collapsed": false,
    "deletable": true,
    "editable": true
   },
   "outputs": [],
   "source": [
    "def build_vocabulary(words):\n",
    "    count = collections.Counter(words).most_common()\n",
    "    dic= dict()\n",
    "    for word, _ in count:\n",
    "        dic[word] = len(dic)\n",
    "    reverse_dic= dict(zip(dic.values(), dic.keys()))\n",
    "    return dic, reverse_dic\n"
   ]
  },
  {
   "cell_type": "markdown",
   "metadata": {
    "deletable": true,
    "editable": true
   },
   "source": [
    "Run the cell below to display the vocabulary"
   ]
  },
  {
   "cell_type": "code",
   "execution_count": 4,
   "metadata": {
    "collapsed": false,
    "deletable": true,
    "editable": true,
    "scrolled": false
   },
   "outputs": [
    {
     "name": "stdout",
     "output_type": "stream",
     "text": [
      "Dictionary size (Vocabulary size) =  113\n",
      "\n",
      "\n",
      "Dictionary : \n",
      "\n",
      "{'days': 32, 'thought': 17, 'shepherd': 33, 'before': 18, 'who': 19, 'began': 35, 'when': 20, 'upon': 36, ',': 1, 'he': 6, 'will': 38, 'come': 21, 'that': 67, 'few': 40, 'little': 100, 'pleased': 41, 'not': 42, 'with': 43, 'again': 23, 'some': 24, 'good': 37, 'fooled': 45, 'flock': 46, 'truth': 47, 'but': 25, 'get': 48, 'came': 26, 'it': 50, 'did': 51, 'said': 52, 'lonely': 105, 'time': 27, 'villagers': 11, 'them': 28, 'speaks': 54, 'him': 12, 'stopped': 55, 'village': 29, 'towards': 56, 'a': 2, 'foot': 57, 'afterwards': 58, 'so': 13, 'meet': 59, 'young': 73, ':': 53, 'after': 61, 'sheep,': 62, 'there': 64, 'rather': 63, 'dark': 65, 'course': 66, 'by': 68, 'could': 39, 'plan': 69, 'of': 9, 'meal': 49, 'rushed': 70, 'his': 15, 'boy': 7, 'shortly': 71, 'than': 72, 'still': 44, 'mountain': 74, 'near': 75, 'made': 34, 'tried': 77, 'wise': 78, 'same': 79, 'the': 0, 'at': 80, 'was': 14, 'been': 81, 'to': 8, 'sheep': 82, 'day': 96, 'cried': 84, 'worry': 85, 'forest': 30, 'actually': 86, 'man': 88, 'even': 89, 'twice': 90, 'be': 91, 'which': 92, 'excitement': 93, 'much': 94, 'believed': 95, 'deceiving': 83, 'this': 16, 'out': 10, 'down': 110, 'wolf': 5, 'had': 97, '.': 4, 'nobody': 98, 'help': 31, 'liar': 99, 'for': 22, 'considerable': 76, 'all': 101, 'stirred': 102, 'calling': 103, 'trick': 104, 'tended': 60, 'complained': 106, 'company': 107, 'once': 108, 'louder': 109, 'off': 87, \"boy's\": 111, 'from': 112, 'and': 3}\n",
      "\n",
      "\n",
      "Reversed Dictionary : \n",
      "\n",
      "{0: 'the', 1: ',', 2: 'a', 3: 'and', 4: '.', 5: 'wolf', 6: 'he', 7: 'boy', 8: 'to', 9: 'of', 10: 'out', 11: 'villagers', 12: 'him', 13: 'so', 14: 'was', 15: 'his', 16: 'this', 17: 'thought', 18: 'before', 19: 'who', 20: 'when', 21: 'come', 22: 'for', 23: 'again', 24: 'some', 25: 'but', 26: 'came', 27: 'time', 28: 'them', 29: 'village', 30: 'forest', 31: 'help', 32: 'days', 33: 'shepherd', 34: 'made', 35: 'began', 36: 'upon', 37: 'good', 38: 'will', 39: 'could', 40: 'few', 41: 'pleased', 42: 'not', 43: 'with', 44: 'still', 45: 'fooled', 46: 'flock', 47: 'truth', 48: 'get', 49: 'meal', 50: 'it', 51: 'did', 52: 'said', 53: ':', 54: 'speaks', 55: 'stopped', 56: 'towards', 57: 'foot', 58: 'afterwards', 59: 'meet', 60: 'tended', 61: 'after', 62: 'sheep,', 63: 'rather', 64: 'there', 65: 'dark', 66: 'course', 67: 'that', 68: 'by', 69: 'plan', 70: 'rushed', 71: 'shortly', 72: 'than', 73: 'young', 74: 'mountain', 75: 'near', 76: 'considerable', 77: 'tried', 78: 'wise', 79: 'same', 80: 'at', 81: 'been', 82: 'sheep', 83: 'deceiving', 84: 'cried', 85: 'worry', 86: 'actually', 87: 'off', 88: 'man', 89: 'even', 90: 'twice', 91: 'be', 92: 'which', 93: 'excitement', 94: 'much', 95: 'believed', 96: 'day', 97: 'had', 98: 'nobody', 99: 'liar', 100: 'little', 101: 'all', 102: 'stirred', 103: 'calling', 104: 'trick', 105: 'lonely', 106: 'complained', 107: 'company', 108: 'once', 109: 'louder', 110: 'down', 111: \"boy's\", 112: 'from'}\n"
     ]
    }
   ],
   "source": [
    "dictionary, reverse_dictionary = build_vocabulary(train_data)\n",
    "vocabulary_size= len(dictionary) \n",
    "print(\"Dictionary size (Vocabulary size) = \", vocabulary_size)\n",
    "print(\"\\n\")\n",
    "print(\"Dictionary : \\n\")\n",
    "print(dictionary)\n",
    "print(\"\\n\")\n",
    "print(\"Reversed Dictionary : \\n\" )\n",
    "print(reverse_dictionary)"
   ]
  },
  {
   "cell_type": "markdown",
   "metadata": {
    "deletable": true,
    "editable": true
   },
   "source": [
    "## Part 2 : LSTM Model in TensorFlow"
   ]
  },
  {
   "cell_type": "markdown",
   "metadata": {
    "deletable": true,
    "editable": true
   },
   "source": [
    "Since you have defined how the data will be modeled, you are now to develop an LSTM model to predict the word of following a sequence of 3 words. "
   ]
  },
  {
   "cell_type": "markdown",
   "metadata": {
    "deletable": true,
    "editable": true
   },
   "source": [
    "### 2.1. Model definition"
   ]
  },
  {
   "cell_type": "markdown",
   "metadata": {
    "deletable": true,
    "editable": true
   },
   "source": [
    "Define a 2-layers LSTM model.  \n",
    "\n",
    "For this use the following classes from the tensorflow.contrib library:\n",
    "\n",
    "- rnn.BasicLSTMCell(number of hidden units) \n",
    "- rnn.static_rnn(rnn_cell, data, dtype=tf.float32)\n",
    "- rnn.MultiRNNCell(,)\n",
    "\n",
    "\n",
    "You may need some tensorflow functions (https://www.tensorflow.org/api_docs/python/tf/) :\n",
    "- tf.split\n",
    "- tf.reshape \n",
    "- ...\n",
    "\n",
    "\n"
   ]
  },
  {
   "cell_type": "code",
   "execution_count": 28,
   "metadata": {
    "collapsed": false,
    "deletable": true,
    "editable": true
   },
   "outputs": [],
   "source": [
    "def lstm_model(x, w, b, n_hidden, n_input):\n",
    "    \n",
    "    # reshape to [1, n_input]\n",
    "    x = tf.reshape(x, [-1, n_input])\n",
    "    # Generate a n_input-element sequence of inputs\n",
    "    # (eg. [had] [a] [general] -> [20] [6] [33])\n",
    "    x = tf.split(x,n_input,1)\n",
    "    \n",
    "    # 1-layer LSTM with n_hidden units.\n",
    "    rnn_cell = rnn.BasicLSTMCell(n_hidden)\n",
    "    \n",
    "    # 2-layer LSTM with n_hidden units.\n",
    "    rnn_cell2 = rnn.BasicLSTMCell(n_hidden)\n",
    "\n",
    "    # multi-rnn from the two basic lstm cells\n",
    "    multi_rnn = rnn.MultiRNNCell([rnn_cell, rnn_cell2])\n",
    "\n",
    "    # generate prediction\n",
    "    outputs, states = rnn.static_rnn(multi_rnn, x, dtype=tf.float32)\n",
    "\n",
    "    # there are n_input outputs but\n",
    "    # we only want the last output\n",
    "    return tf.matmul(outputs[-1], w['out']) + b['out']\n",
    "    \n"
   ]
  },
  {
   "cell_type": "markdown",
   "metadata": {
    "deletable": true,
    "editable": true
   },
   "source": [
    "Training Parameters and constants"
   ]
  },
  {
   "cell_type": "code",
   "execution_count": 29,
   "metadata": {
    "collapsed": false,
    "deletable": true,
    "editable": true,
    "scrolled": false
   },
   "outputs": [],
   "source": [
    "# Training Parameters\n",
    "learning_rate = 0.001\n",
    "epochs = 50000\n",
    "display_step = 1000\n",
    "n_input = 3\n",
    "\n",
    "#For each LSTM cell that you initialise, supply a value for the hidden dimension, number of units in LSTM cell\n",
    "n_hidden = 64\n",
    "\n",
    "tf.reset_default_graph()\n",
    "\n",
    "# tf Graph input\n",
    "x = tf.placeholder(\"float\", [None, n_input, 1], name='InputData')\n",
    "y = tf.placeholder(\"float\", [None, vocabulary_size], name='Labels')\n",
    "\n",
    "# LSTM  weights and biases\n",
    "weights = {'out': tf.Variable(tf.random_normal([n_hidden, vocabulary_size]))}\n",
    "biases = {'out': tf.Variable(tf.random_normal([vocabulary_size])) }\n",
    "\n",
    "#build the model\n",
    "with tf.name_scope('Model'):\n",
    "    pred = lstm_model(x, weights, biases, n_hidden, n_input)"
   ]
  },
  {
   "cell_type": "markdown",
   "metadata": {
    "deletable": true,
    "editable": true
   },
   "source": [
    "Define the Loss/Cost and optimizer"
   ]
  },
  {
   "cell_type": "code",
   "execution_count": 30,
   "metadata": {
    "collapsed": false,
    "deletable": true,
    "editable": true
   },
   "outputs": [],
   "source": [
    "with tf.name_scope('Loss'):\n",
    "    # Loss and optimizer\n",
    "    cost = tf.reduce_mean(tf.nn.softmax_cross_entropy_with_logits(logits=pred, labels=y))\n",
    "with tf.name_scope('RMSPOpt'):    \n",
    "    #use RMSProp Optimizer\n",
    "    optimizer = tf.train.RMSPropOptimizer(learning_rate=learning_rate).minimize(cost)\n",
    "\n",
    "# Model evaluation\n",
    "correct_pred = tf.equal(tf.argmax(pred,1), tf.argmax(y,1))\n",
    "accuracy = tf.reduce_mean(tf.cast(correct_pred, tf.float32))"
   ]
  },
  {
   "cell_type": "markdown",
   "metadata": {
    "collapsed": true,
    "deletable": true,
    "editable": true
   },
   "source": [
    "We give you here the Test Function"
   ]
  },
  {
   "cell_type": "code",
   "execution_count": 31,
   "metadata": {
    "collapsed": false,
    "deletable": true,
    "editable": true
   },
   "outputs": [],
   "source": [
    "#run the cell\n",
    "def test(sentence, session, verbose=False):\n",
    "    sentence = sentence.strip()\n",
    "    words = sentence.split(' ')\n",
    "    if len(words) != n_input:\n",
    "        print(\"sentence length should be equal to\", n_input, \"!\")\n",
    "    try:\n",
    "        symbols_inputs = [dictionary[str(words[i - n_input])] for i in range(n_input)]\n",
    "        keys = np.reshape(np.array(symbols_inputs), [-1, n_input, 1])\n",
    "        onehot_pred = session.run(pred, feed_dict={x: keys})\n",
    "        onehot_pred_index = int(tf.argmax(onehot_pred, 1).eval())\n",
    "        words.append(reverse_dictionary[onehot_pred_index])\n",
    "        sentence = \" \".join(words)\n",
    "        if verbose:\n",
    "            print(sentence)\n",
    "        return reverse_dictionary[onehot_pred_index]\n",
    "    except:\n",
    "        print(\" \".join([\"Word\", words[i - n_input], \"not in dictionary\"]))"
   ]
  },
  {
   "cell_type": "markdown",
   "metadata": {
    "deletable": true,
    "editable": true
   },
   "source": [
    "## Part 3 : LSTM Training  "
   ]
  },
  {
   "cell_type": "markdown",
   "metadata": {
    "deletable": true,
    "editable": true
   },
   "source": [
    "In the Training process, at each epoch, 3 words are taken from the training data, encoded to integer to form the input vector. The training labels are one-hot vector encoding the word that comes after the 3 inputs words. Display the loss and the training accuracy every 1000 iteration. Save the model at the end of training in the **lstm_model** folder"
   ]
  },
  {
   "cell_type": "code",
   "execution_count": 33,
   "metadata": {
    "collapsed": false,
    "deletable": true,
    "editable": true
   },
   "outputs": [
    {
     "name": "stdout",
     "output_type": "stream",
     "text": [
      "Start Training\n",
      "Epoch:  1000\n",
      "\t\t=====> Loss= 2.814431667\n",
      "\t\t=====> Accuracy= 0.000000000\n",
      "Epoch:  2000\n",
      "\t\t=====> Loss= 2.289624453\n",
      "\t\t=====> Accuracy= 1.000000000\n",
      "Epoch:  3000\n",
      "\t\t=====> Loss= 2.784577847\n",
      "\t\t=====> Accuracy= 0.000000000\n",
      "Epoch:  4000\n",
      "\t\t=====> Loss= 3.407334805\n",
      "\t\t=====> Accuracy= 0.000000000\n",
      "Epoch:  5000\n",
      "\t\t=====> Loss= 1.719724536\n",
      "\t\t=====> Accuracy= 0.000000000\n",
      "Epoch:  6000\n",
      "\t\t=====> Loss= 0.869452834\n",
      "\t\t=====> Accuracy= 1.000000000\n",
      "Epoch:  7000\n",
      "\t\t=====> Loss= 1.474345684\n",
      "\t\t=====> Accuracy= 1.000000000\n",
      "Epoch:  8000\n",
      "\t\t=====> Loss= 3.078511715\n",
      "\t\t=====> Accuracy= 0.000000000\n",
      "Epoch:  9000\n",
      "\t\t=====> Loss= 0.179061979\n",
      "\t\t=====> Accuracy= 1.000000000\n",
      "Epoch:  10000\n",
      "\t\t=====> Loss= 0.227435589\n",
      "\t\t=====> Accuracy= 1.000000000\n",
      "Epoch:  11000\n",
      "\t\t=====> Loss= 0.266085327\n",
      "\t\t=====> Accuracy= 1.000000000\n",
      "Epoch:  12000\n",
      "\t\t=====> Loss= 0.047968145\n",
      "\t\t=====> Accuracy= 1.000000000\n",
      "Epoch:  13000\n",
      "\t\t=====> Loss= 0.097799979\n",
      "\t\t=====> Accuracy= 1.000000000\n",
      "Epoch:  14000\n",
      "\t\t=====> Loss= 0.083410762\n",
      "\t\t=====> Accuracy= 1.000000000\n",
      "Epoch:  15000\n",
      "\t\t=====> Loss= 1.209598422\n",
      "\t\t=====> Accuracy= 0.000000000\n",
      "Epoch:  16000\n",
      "\t\t=====> Loss= 0.134426102\n",
      "\t\t=====> Accuracy= 1.000000000\n",
      "Epoch:  17000\n",
      "\t\t=====> Loss= 0.020741934\n",
      "\t\t=====> Accuracy= 1.000000000\n",
      "Epoch:  18000\n",
      "\t\t=====> Loss= 0.040576451\n",
      "\t\t=====> Accuracy= 1.000000000\n",
      "Epoch:  19000\n",
      "\t\t=====> Loss= 0.441134691\n",
      "\t\t=====> Accuracy= 1.000000000\n",
      "Epoch:  20000\n",
      "\t\t=====> Loss= 0.060981456\n",
      "\t\t=====> Accuracy= 1.000000000\n",
      "Epoch:  21000\n",
      "\t\t=====> Loss= 0.594078898\n",
      "\t\t=====> Accuracy= 1.000000000\n",
      "Epoch:  22000\n",
      "\t\t=====> Loss= 0.007256816\n",
      "\t\t=====> Accuracy= 1.000000000\n",
      "Epoch:  23000\n",
      "\t\t=====> Loss= 0.757984519\n",
      "\t\t=====> Accuracy= 1.000000000\n",
      "Epoch:  24000\n",
      "\t\t=====> Loss= 0.009619432\n",
      "\t\t=====> Accuracy= 1.000000000\n",
      "Epoch:  25000\n",
      "\t\t=====> Loss= 2.641506910\n",
      "\t\t=====> Accuracy= 0.000000000\n",
      "Epoch:  26000\n",
      "\t\t=====> Loss= 0.044187717\n",
      "\t\t=====> Accuracy= 1.000000000\n",
      "Epoch:  27000\n",
      "\t\t=====> Loss= 1.127303839\n",
      "\t\t=====> Accuracy= 0.000000000\n",
      "Epoch:  28000\n",
      "\t\t=====> Loss= 0.011855264\n",
      "\t\t=====> Accuracy= 1.000000000\n",
      "Epoch:  29000\n",
      "\t\t=====> Loss= 0.003524047\n",
      "\t\t=====> Accuracy= 1.000000000\n",
      "Epoch:  30000\n",
      "\t\t=====> Loss= 0.098257691\n",
      "\t\t=====> Accuracy= 1.000000000\n",
      "Epoch:  31000\n",
      "\t\t=====> Loss= 1.753496170\n",
      "\t\t=====> Accuracy= 0.000000000\n",
      "Epoch:  32000\n",
      "\t\t=====> Loss= 0.056052595\n",
      "\t\t=====> Accuracy= 1.000000000\n",
      "Epoch:  33000\n",
      "\t\t=====> Loss= 0.014272278\n",
      "\t\t=====> Accuracy= 1.000000000\n",
      "Epoch:  34000\n",
      "\t\t=====> Loss= 0.248182684\n",
      "\t\t=====> Accuracy= 1.000000000\n",
      "Epoch:  35000\n",
      "\t\t=====> Loss= 0.013843474\n",
      "\t\t=====> Accuracy= 1.000000000\n",
      "Epoch:  36000\n",
      "\t\t=====> Loss= 0.101813659\n",
      "\t\t=====> Accuracy= 1.000000000\n",
      "Epoch:  37000\n",
      "\t\t=====> Loss= 0.025055269\n",
      "\t\t=====> Accuracy= 1.000000000\n",
      "Epoch:  38000\n",
      "\t\t=====> Loss= 0.649136901\n",
      "\t\t=====> Accuracy= 1.000000000\n",
      "Epoch:  39000\n",
      "\t\t=====> Loss= 0.003951006\n",
      "\t\t=====> Accuracy= 1.000000000\n",
      "Epoch:  40000\n",
      "\t\t=====> Loss= 1.070672750\n",
      "\t\t=====> Accuracy= 0.000000000\n",
      "Epoch:  41000\n",
      "\t\t=====> Loss= 0.007759430\n",
      "\t\t=====> Accuracy= 1.000000000\n",
      "Epoch:  42000\n",
      "\t\t=====> Loss= 0.176479399\n",
      "\t\t=====> Accuracy= 1.000000000\n",
      "Epoch:  43000\n",
      "\t\t=====> Loss= 0.405817121\n",
      "\t\t=====> Accuracy= 1.000000000\n",
      "Epoch:  44000\n",
      "\t\t=====> Loss= 0.044514891\n",
      "\t\t=====> Accuracy= 1.000000000\n",
      "Epoch:  45000\n",
      "\t\t=====> Loss= 0.000510801\n",
      "\t\t=====> Accuracy= 1.000000000\n",
      "Epoch:  46000\n",
      "\t\t=====> Loss= 0.039687317\n",
      "\t\t=====> Accuracy= 1.000000000\n",
      "Epoch:  47000\n",
      "\t\t=====> Loss= 0.039527133\n",
      "\t\t=====> Accuracy= 1.000000000\n",
      "Epoch:  48000\n",
      "\t\t=====> Loss= 0.051896766\n",
      "\t\t=====> Accuracy= 1.000000000\n",
      "Epoch:  49000\n",
      "\t\t=====> Loss= 0.017753735\n",
      "\t\t=====> Accuracy= 1.000000000\n",
      "Epoch:  50000\n",
      "\t\t=====> Loss= 0.017540099\n",
      "\t\t=====> Accuracy= 1.000000000\n",
      "End Of training Finished!\n",
      "time:  161.6353611946106\n",
      "For tensorboard visualisation run on command line.\n",
      "\ttensorboard --logdir=lstm_words\n",
      "and point your web browser to the returned link\n",
      "Model saved\n"
     ]
    }
   ],
   "source": [
    "# Initializing the variables\n",
    "start_time = time.time()\n",
    "init = tf.global_variables_initializer()\n",
    "\n",
    "# Create a summary to monitor cost and accuracy tensor\n",
    "tf.summary.scalar(\"Loss\", cost)\n",
    "tf.summary.scalar(\"Accuracy\", accuracy)\n",
    "merged_summary_op = tf.summary.merge_all()\n",
    "\n",
    "# Initialize the saver\n",
    "model_saver = tf.train.Saver()\n",
    "\n",
    "print(\"Start Training\")\n",
    "##############################################\n",
    "\n",
    "with tf.Session() as sess:\n",
    "    sess.run(init)\n",
    "    # op to write logs to Tensorboard\n",
    "    summary_writer = tf.summary.FileWriter(logs_path, graph=tf.get_default_graph())\n",
    "    # Training cycle\n",
    "    for epoch in range(epochs):\n",
    "        avg_cost = 0.\n",
    "        offset = epoch % (len(train_data)-n_input)\n",
    "        # 3 words are taken from the training data, encoded to integer to form the input vector\n",
    "        symbols_in_keys = np.array([ [dictionary[ str(train_data[i])]] for i in range(offset, offset+n_input) ])\n",
    "        symbols_in_keys = symbols_in_keys.reshape(-1,n_input,1)\n",
    "\n",
    "        # creation of the one-hot vector for training labels\n",
    "        symbols_out_onehot = np.array(np.zeros([vocabulary_size], dtype=float))\n",
    "        # putting to one the cell of the prediction\n",
    "        symbols_out_onehot[dictionary[str(train_data[offset+n_input])]] = 1.0\n",
    "        # reshaping \n",
    "        symbols_out_onehot = symbols_out_onehot.reshape(-1,vocabulary_size)\n",
    "\n",
    "        # running the session\n",
    "        _, acc, loss, summary, onehot_pred = sess.run([optimizer, accuracy, cost, merged_summary_op, pred], \n",
    "                                                feed_dict={x: symbols_in_keys, y: symbols_out_onehot})\n",
    "        summary_writer.add_summary(summary, epoch)\n",
    "        # Display logs per epoch step\n",
    "        if (epoch+1) % display_step == 0:\n",
    "            print(\"Epoch: \", '%02d' % (epoch+1))\n",
    "            print(\"\\t\\t=====> Loss=\", \"{:.9f}\".format(loss))\n",
    "            print(\"\\t\\t=====> Accuracy=\", \"{:.9f}\".format(acc))\n",
    "\n",
    "    ##############################################\n",
    "    print(\"End Of training Finished!\")\n",
    "    print(\"time: \",time.time() - start_time)\n",
    "    print(\"For tensorboard visualisation run on command line.\")\n",
    "    print(\"\\ttensorboard --logdir=%s\" % (logs_path))\n",
    "    print(\"and point your web browser to the returned link\")\n",
    "    ##############################################\n",
    "    model_saver.save(sess, 'lstm_model/my_model')\n",
    "    ##############################################\n",
    "    print(\"Model saved\")\n"
   ]
  },
  {
   "cell_type": "markdown",
   "metadata": {
    "collapsed": true,
    "deletable": true,
    "editable": true
   },
   "source": [
    "## Part 4 : Test your model "
   ]
  },
  {
   "cell_type": "markdown",
   "metadata": {
    "collapsed": true,
    "deletable": true,
    "editable": true
   },
   "source": [
    "### 3.1. Next word prediction"
   ]
  },
  {
   "cell_type": "markdown",
   "metadata": {
    "deletable": true,
    "editable": true
   },
   "source": [
    "Load your model (using the model_saved variable given in the training session) and test the sentences :\n",
    "- 'get a little' \n",
    "- 'nobody tried to'\n",
    "- Try with other sentences using words from the stroy's vocabulary. "
   ]
  },
  {
   "cell_type": "code",
   "execution_count": 35,
   "metadata": {
    "collapsed": false,
    "deletable": true,
    "editable": true,
    "scrolled": false
   },
   "outputs": [
    {
     "name": "stdout",
     "output_type": "stream",
     "text": [
      "INFO:tensorflow:Restoring parameters from lstm_model/my_model\n",
      "a liar come the \n",
      "\n",
      "\n",
      "get a little will \n",
      "\n",
      "\n",
      "nobody tried to the \n",
      "\n",
      "\n"
     ]
    }
   ],
   "source": [
    "sentences = ['a liar come','get a little','nobody tried to']\n",
    "\n",
    "with tf.Session() as sess:\n",
    "    # Initialize variables\n",
    "    sess.run(init)\n",
    "    model_saver = tf.train.Saver()\n",
    "    model_saver.restore(sess, 'lstm_model/my_model')\n",
    "    \n",
    "    for sentence in sentences:\n",
    "        try:\n",
    "            words = sentence.split(' ')\n",
    "            symbols_in_keys = [float(dictionary[str(words[i])]) for i in range(len(words))]    \n",
    "            keys = np.reshape(np.array(symbols_in_keys), (-1, n_input, 1))\n",
    "            onehot_pred = sess.run(pred, feed_dict={x: keys})\n",
    "            onehot_pred_index = int(tf.argmax(onehot_pred, 1).eval())\n",
    "            sentence = \"%s %s\" % (sentence,reverse_dictionary[onehot_pred_index])\n",
    "            print(sentence,'\\n\\n')\n",
    "        except:\n",
    "            print(\"Word not in dictionary\")\n",
    "\n"
   ]
  },
  {
   "cell_type": "markdown",
   "metadata": {
    "deletable": true,
    "editable": true
   },
   "source": [
    "### 3.2. More fun with the Fable Writer !"
   ]
  },
  {
   "cell_type": "markdown",
   "metadata": {
    "deletable": true,
    "editable": true
   },
   "source": [
    "You will use the RNN/LSTM model learned in the previous question to create a\n",
    "new story/fable.\n",
    "For this you will choose 3 words from the dictionary which will start your\n",
    "story and initialize your network. Using those 3 words the RNN will generate\n",
    "the next word or the story. Using the last 3 words (the newly predicted one\n",
    "and the last 2 from the input) you will use the network to predict the 5\n",
    "word of the story.. and so on until your story is 5 sentence long. \n",
    "Make a point at the end of your story. \n",
    "To implement that, you will use the test function. "
   ]
  },
  {
   "cell_type": "code",
   "execution_count": 37,
   "metadata": {
    "collapsed": false,
    "deletable": true,
    "editable": true
   },
   "outputs": [
    {
     "name": "stdout",
     "output_type": "stream",
     "text": [
      "INFO:tensorflow:Restoring parameters from lstm_model/my_model\n",
      "the wise liar of the village said : a liar will not be believed , and again the villagers , who had been fooled twice before , thought the boy was again deceiving them , and nobody stirred to come to his help . so the wolf made a good meal off the boy's flock , and when the boy complained , the wise man of the village said : a liar will not be believed , and again the villagers , who had been fooled twice before , thought the boy was again deceiving them , and nobody stirred to come to his help . so the wolf made a good meal off the boy's flock , and when the boy complained , the wise man of the village said : a liar will not be believed , and again the villagers , who had been fooled twice before , thought the boy was again deceiving them , and nobody stirred to come to his help . so the wolf made a good meal off the boy's flock , and when the boy complained , the wise man of the village said : a liar will not be believed , and again the villagers , who had been fooled twice before , thought the boy was again deceiving them , and nobody stirred to come to his help . so the wolf made a good meal off the boy's flock , and when the boy complained , the wise man of the village said : a liar will not be believed , and again the villagers , who had been fooled twice before , thought the boy was again deceiving them , and nobody stirred to come to his help . "
     ]
    }
   ],
   "source": [
    "sentence = 'the wise liar'\n",
    "words = sentence.split(' ')\n",
    "number_of_sentences = 5\n",
    "\n",
    "with tf.Session() as sess:\n",
    "    # Initialize variables\n",
    "    sess.run(init)\n",
    "    model_saver = tf.train.Saver()\n",
    "    model_saver.restore(sess, 'lstm_model/my_model')\n",
    "    s_count = 0\n",
    "    print(sentence,end=' ')\n",
    "    while(s_count<number_of_sentences):\n",
    "        prediction = test(' '.join(words),sess)\n",
    "        sentence = \"%s %s\" % (sentence,prediction)\n",
    "        print(prediction,end=' ')\n",
    "        words = words[1:]\n",
    "        words.append(prediction)\n",
    "        if prediction == '.':\n",
    "            s_count += 1\n",
    "#             print(s_count)\n",
    "\n",
    "\n"
   ]
  },
  {
   "cell_type": "markdown",
   "metadata": {
    "deletable": true,
    "editable": true
   },
   "source": [
    "### 3.3. Play with number of inputs"
   ]
  },
  {
   "cell_type": "markdown",
   "metadata": {
    "collapsed": true,
    "deletable": true,
    "editable": true
   },
   "source": [
    "The number of input in our example is 3, see what happens when you use other number (1 and 5)"
   ]
  },
  {
   "cell_type": "markdown",
   "metadata": {
    "collapsed": false,
    "deletable": true,
    "editable": true
   },
   "source": [
    "Your answer goes here"
   ]
  }
 ],
 "metadata": {
  "anaconda-cloud": {},
  "kernelspec": {
   "display_name": "Python 3",
   "language": "python",
   "name": "python3"
  },
  "language_info": {
   "codemirror_mode": {
    "name": "ipython",
    "version": 3
   },
   "file_extension": ".py",
   "mimetype": "text/x-python",
   "name": "python",
   "nbconvert_exporter": "python",
   "pygments_lexer": "ipython3",
   "version": "3.5.3"
  },
  "widgets": {
   "state": {},
   "version": "1.1.2"
  }
 },
 "nbformat": 4,
 "nbformat_minor": 0
}
