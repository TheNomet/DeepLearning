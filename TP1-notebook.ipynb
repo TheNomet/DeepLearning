{
 "cells": [
  {
   "cell_type": "markdown",
   "metadata": {
    "collapsed": true,
    "deletable": true,
    "editable": true
   },
   "source": [
    "<h1 style=\"text-align:center\">Deep Learning  Lab Session </h1>\n",
    "<h1 style=\"text-align:center\">First Lab Session - 3 Hours </h1>\n",
    "<h1 style=\"text-align:center\">Artificial Neural Networks for Handwritten Digits Recognition</h1>"
   ]
  },
  {
   "cell_type": "markdown",
   "metadata": {
    "deletable": true,
    "editable": true
   },
   "source": [
    "<b> Student 1:</b> Matteo Fiore \n",
    "<b> Student 2:</b> Hanna Johansson\n",
    " \n",
    " \n",
    "The aim of this session is to practice with Artificial Neural Networks. Answers and experiments should be made by groups of one or two students. Each group should fill and run appropriate notebook cells. \n",
    "\n",
    "To generate your final report, use print as PDF (Ctrl+P). Do not forget to run all your cells before generating your final report and do not forget to include the names of all participants in the group. The lab session should be completed by April 7th 2017. "
   ]
  },
  {
   "cell_type": "markdown",
   "metadata": {
    "deletable": true,
    "editable": true
   },
   "source": [
    "# Introduction"
   ]
  },
  {
   "cell_type": "markdown",
   "metadata": {
    "deletable": true,
    "editable": true
   },
   "source": [
    "\n",
    "In this session, your will implement, train and test a Neural Network\n",
    "for the Handwritten Digits Recognition problem <a href=\"http://yann.lecun.com/exdb/mnist/\"> [1] </a> with  different settings of hyper parameters. You will use the MNIST dataset which was constructed from a number of scanned document dataset available from the National Institute of Standards and Technology (NIST). Images of digits were taken from a variety of scanned documents, normalized in size and centered. \n",
    "\n",
    "\n",
    "<img src=\"Nimages/mnist.png\",width=\"350\" height=\"500\" align=\"center\">\n",
    "<center><span>Figure 1: MNIST digits examples</span></center>\n",
    "\n",
    "\n",
    "This assignment includes a written part of programms to help you understand how to build and train\n",
    "your neural net and then to test your code and get restults. \n",
    "\n",
    "1. <a href=\"NeuralNetwork.py\"> NeuralNetwork.py </a> \n",
    "2. <a href=\"transfer_functions.py\"> transfer_functions.py </a> \n",
    "3.  <a href=\"utils.py \"> utils.py </a> \n",
    "\n",
    "\n",
    "Functions defined inside the python files mentionned above can be imported  using the python command : \n",
    "from filename import *\n",
    "\n",
    "You will use the following libraries:\n",
    "\n",
    "1. <a href=\"http://cs231n.github.io/python-numpy-tutorial/\"> numpy </a>: for creating arrays and using methods to manipulate arrays.\n",
    "\n",
    "2. <a href=\"http://matplotlib.org/\"> matplotlib  </a>: for making plots\n",
    " \n",
    "\n",
    "\n",
    "\n",
    "\n",
    "\n",
    "\n"
   ]
  },
  {
   "cell_type": "markdown",
   "metadata": {
    "deletable": true,
    "editable": true
   },
   "source": [
    "# Section 1 :  My First Neural Network\n",
    "\n",
    "<b>Part 1</b>: Before designing and writing your code, you will first work on a neural network by hand. \n",
    "Consider the above Neural network with two inputs $X=(x1,x2)$, one hidden layers and a single output unit $(y)$.\n",
    "The initial weights are set to random values. Neurons 6 and 7 represent the bias. Bias values are equal to 1.  \n",
    "Training sample, X = (0.8, 0.2), whose class label is Y=0.4.\n",
    "\n",
    "Assume that the neurons have a Sigmoid activation function  $f(x)=\\frac{1}{(1+e^{-x})}$ and the learning rate $\\mu$=1\n",
    "\n",
    "\n",
    "<img src=\"Nimages/NN.png\", width=\"700\" height=\"900\"> \n",
    "<center><span>Figure 2: Neural network </span></center>\n",
    "\n",
    "\n",
    "<b>Question 1.1.1</b>: Compute the new values of weights $w_{i,j}$ after a forward pass and a backward pass.\n",
    "$w_{i,j}$ is the weight of the connexion between neuron $i$ and neuron $j$."
   ]
  },
  {
   "cell_type": "markdown",
   "metadata": {
    "collapsed": true,
    "deletable": true,
    "editable": true
   },
   "source": [
    "#Your answer goes here :\n",
    "\n",
    "$w_{1,3}= 0.2959  $ \n",
    "\n",
    "$w_{1,4}= -0.4972$\n",
    "\n",
    "$w_{2,3}= 0.7990 $\n",
    "\n",
    "$w_{2,4}= 0.2007 $\n",
    "\n",
    "$w_{6,3}= 0.1948 $\n",
    "\n",
    "$w_{6,4}= -0.3965 $\n",
    "\n",
    "$w_{3,5}= -0.5746 $\n",
    "\n",
    "$w_{4,5}= 0.4126 $\n",
    "\n",
    "$w_{7,5}= 0.5394 $\n",
    "\n",
    "\n"
   ]
  },
  {
   "cell_type": "markdown",
   "metadata": {
    "deletable": true,
    "editable": true
   },
   "source": [
    "<b>Part 2</b>: Neural Network Implementation\n",
    "\n",
    "Please read all source files carefully and understand the data structures and all functions.\n",
    "You are to complete the missing code. \n",
    "First you should define the neural network (using the NeuralNetwork class, see in the <a href=\"NeuralNetwork.py\"> NeuralNetwork.py </a> file) and reinitialise weights. \n",
    "Then you will to complete the Feed Forward and the Back-propagation functions. \n",
    "\n",
    "<b>Question 1.2.1</b>: Define the neural network corresponding to the one in part 1"
   ]
  },
  {
   "cell_type": "code",
   "execution_count": 1,
   "metadata": {
    "collapsed": false,
    "deletable": true,
    "editable": true
   },
   "outputs": [],
   "source": [
    "from NeuralNetwork import *\n",
    "#create the network\n",
    "my_first_net = NeuralNetwork(2,2,1)"
   ]
  },
  {
   "cell_type": "code",
   "execution_count": 2,
   "metadata": {
    "collapsed": false,
    "deletable": true,
    "editable": true
   },
   "outputs": [
    {
     "name": "stdout",
     "output_type": "stream",
     "text": [
      "[[ 0.3 -0.5]\n",
      " [ 0.8  0.2]\n",
      " [ 0.2 -0.4]]\n",
      "[[-0.6]\n",
      " [ 0.4]\n",
      " [ 0.5]]\n"
     ]
    }
   ],
   "source": [
    "#Data preparation \n",
    "X=[0.8,0.2] #inputs\n",
    "Y=[0.4]\n",
    "data=[]\n",
    "data.append(X)\n",
    "data.append(Y)\n",
    "\n",
    "#initialize weights\n",
    "wi=np.array([[0.3,-0.5],[0.8,0.2],[0.2,-0.4]])\n",
    "wo=np.array([[-0.6],[0.4],[0.5]])\n",
    "my_first_net.weights_initialisation(wi,wo)\n",
    "print(my_first_net.W_input_to_hidden)\n",
    "print(my_first_net.W_hidden_to_output)\n"
   ]
  },
  {
   "cell_type": "markdown",
   "metadata": {
    "deletable": true,
    "editable": true
   },
   "source": [
    "<b>Question 1.2.2</b>: Implement the Feed Forward function (feedForward(X) in the NeuralNetwork.py file)\n",
    "\n"
   ]
  },
  {
   "cell_type": "code",
   "execution_count": 3,
   "metadata": {
    "collapsed": false,
    "deletable": true,
    "editable": true
   },
   "outputs": [],
   "source": [
    "def feedForward(self, inputs):\n",
    "    # Compute input activations\n",
    "    self.a_input = np.array(inputs+[1])\n",
    "\n",
    "    #Compute  hidden activations=\n",
    "    self.a_hidden = np.append(self.a_input.dot(self.W_input_to_hidden),[1])\n",
    "\n",
    "    # Compute output activations\n",
    "    self.a_out = sigmoid(self.a_hidden).dot(self.W_hidden_to_output)\n",
    "    return sigmoid(self.a_out)\n"
   ]
  },
  {
   "cell_type": "markdown",
   "metadata": {
    "deletable": true,
    "editable": true
   },
   "source": [
    "Check your network outputs the expected value (the one you computed in question 1.1)"
   ]
  },
  {
   "cell_type": "code",
   "execution_count": 4,
   "metadata": {
    "collapsed": false,
    "deletable": true,
    "editable": true
   },
   "outputs": [
    {
     "name": "stdout",
     "output_type": "stream",
     "text": [
      "[ 0.526374]\n"
     ]
    }
   ],
   "source": [
    "#test my  Feed Forward function \n",
    "Output_activation=my_first_net.feedForward(X)\n",
    "# print(\"output activation =%.3f\" %(Output_activation))\n",
    "print(Output_activation)\n"
   ]
  },
  {
   "cell_type": "markdown",
   "metadata": {
    "deletable": true,
    "editable": true
   },
   "source": [
    "<b>Question 1.2.3</b>: Implement the Back-propagation Algorithm (backPropagate(Y) in the NeuralNetwork.py file)  \n"
   ]
  },
  {
   "cell_type": "markdown",
   "metadata": {
    "deletable": true,
    "editable": true
   },
   "source": [
    "Check the gradient values and weight updates are correct (similar to the ones you computed in question 1.1)"
   ]
  },
  {
   "cell_type": "code",
   "execution_count": 5,
   "metadata": {
    "collapsed": false,
    "deletable": true,
    "editable": true
   },
   "outputs": [],
   "source": [
    "def backPropagate(self, targets):\n",
    "\n",
    "    # calculate error terms for output\n",
    "    u_E_out = (sigmoid(self.a_out)-targets)*(dsigmoid(self.a_out))\n",
    "    w_E_out = sigmoid(self.a_hidden).reshape(len(sigmoid(self.a_hidden)),1).dot(u_E_out.reshape(len(u_E_out),1))\n",
    "    # calculate error terms for hidden\n",
    "    u_E_hidden = u_E_out.sum()*self.W_input_to_hidden.dot(dsigmoid(self.a_hidden[:-1]))\n",
    "    w_E_hidden = u_E_hidden*self.a_input\n",
    "    # update output weights\n",
    "    self.W_hidden_to_output = self.W_hidden_to_output - self.learning_rate*w_E_out\n",
    "    # update input weights\n",
    "    self.W_input_to_hidden = self.W_input_to_hidden - self.learning_rate*w_E_hidden[:-1]\n",
    "\n",
    "    # calculate error\n",
    "    return np.square(sigmoid(self.a_out)-targets).sum()"
   ]
  },
  {
   "cell_type": "code",
   "execution_count": 6,
   "metadata": {
    "collapsed": false,
    "deletable": true,
    "editable": true
   },
   "outputs": [
    {
     "name": "stdout",
     "output_type": "stream",
     "text": [
      "wi_new= [[ 0.30034598 -0.50021889]\n",
      " [ 0.8000865   0.19994528]\n",
      " [ 0.20043248 -0.40027361]]\n",
      "wo_new= [[-0.60203418]\n",
      " [ 0.39899609]\n",
      " [ 0.49769676]]\n"
     ]
    }
   ],
   "source": [
    "#test my  Back-propagation function\n",
    "my_first_net.backPropagate(Y)\n",
    "#Print weights after backpropagation\n",
    "print 'wi_new=', my_first_net.W_input_to_hidden\n",
    "print 'wo_new=', my_first_net.W_hidden_to_output\n"
   ]
  },
  {
   "cell_type": "markdown",
   "metadata": {
    "deletable": true,
    "editable": true
   },
   "source": [
    "Your Feed Forward and Back-Propagation implementations are working, Great!! Let's tackle a real world problem."
   ]
  },
  {
   "cell_type": "code",
   "execution_count": 7,
   "metadata": {
    "collapsed": false,
    "deletable": true,
    "editable": true
   },
   "outputs": [
    {
     "name": "stdout",
     "output_type": "stream",
     "text": [
      "[ 0.4]\n"
     ]
    }
   ],
   "source": [
    "for i in range(20000):\n",
    "    my_first_net.feedForward(X)\n",
    "    my_first_net.backPropagate(Y)\n",
    "print(my_first_net.feedForward(X))"
   ]
  },
  {
   "cell_type": "markdown",
   "metadata": {
    "collapsed": true,
    "deletable": true,
    "editable": true
   },
   "source": [
    "# Section 2 : The MNIST Challenge! "
   ]
  },
  {
   "cell_type": "markdown",
   "metadata": {
    "deletable": true,
    "editable": true
   },
   "source": [
    "<b>Data Preparation</b>\n",
    "\n",
    "The MNIST dataset consists of handwritten digit images it contains 60,000 examples for the training set and 10,000 examples for testing. In this Lab Session, the official training set of 60,000 is divided into an actual training set of 50,000 examples, 10,000 validation examples and 10,000 examples for test. All digit images have been size-normalized and centered in a fixed size image of 28 x 28 pixels. The images are stored in byte form you will use the NumPy python library to read the data files into NumPy arrays that we will use to train the ANN.\n",
    "\n",
    "The MNIST dataset is available in the Data folder.\n",
    "To get the training, testing and validation data, run the the load_data() function.\n"
   ]
  },
  {
   "cell_type": "code",
   "execution_count": 1,
   "metadata": {
    "collapsed": false,
    "deletable": true,
    "editable": true
   },
   "outputs": [
    {
     "name": "stdout",
     "output_type": "stream",
     "text": [
      "Loading MNIST data .....\n",
      "Done.\n"
     ]
    }
   ],
   "source": [
    "from utils import *\n",
    "training_data, validation_data, test_data=load_data()"
   ]
  },
  {
   "cell_type": "markdown",
   "metadata": {
    "deletable": true,
    "editable": true
   },
   "source": [
    "<b>MNIST Dataset Digits Visualisation</b>"
   ]
  },
  {
   "cell_type": "code",
   "execution_count": 2,
   "metadata": {
    "collapsed": false,
    "deletable": true,
    "editable": true
   },
   "outputs": [
    {
     "data": {
      "image/png": "[encoded data removed]",
      "text/plain": [
       "<matplotlib.figure.Figure at 0x7ff55d1b8810>"
      ]
     },
     "metadata": {},
     "output_type": "display_data"
    }
   ],
   "source": [
    "ROW = 2\n",
    "COLUMN = 4\n",
    "for i in range(ROW * COLUMN):\n",
    "    # train[i][0] is i-th image data with size 28x28\n",
    "    image = training_data[i][0].reshape(28, 28)   \n",
    "    plt.subplot(ROW, COLUMN, i+1)          \n",
    "    plt.imshow(image, cmap='gray')  # cmap='gray' is for black and white picture.\n",
    "plt.axis('off')  # do not show axis value\n",
    "plt.tight_layout()   # automatic padding between subplots\n",
    "plt.show()\n",
    "\n"
   ]
  },
  {
   "cell_type": "markdown",
   "metadata": {
    "deletable": true,
    "editable": true
   },
   "source": [
    "<b>Part 1</b>: Creating the Neural Networks\n",
    "\n",
    "The input layer of the neural network contains neurons encoding the values of the input pixels. The training data for the network will consist of many 28 by 28 pixel images of scanned handwritten digits, and so the input layer contains 784=28×28 neurons. The second layer of the network is a hidden layer, we set the neuron number in the hidden layer to 30. The output layer contains 10 neurons. \n",
    "\n",
    "<b>Question 2.1.1</b>: Create the network described above using the NeuralNetwork class"
   ]
  },
  {
   "cell_type": "code",
   "execution_count": 4,
   "metadata": {
    "collapsed": false,
    "deletable": true,
    "editable": true
   },
   "outputs": [],
   "source": [
    "#create the network\n",
    "from NeuralNetwork import * \n",
    "my_mnist_net = NeuralNetwork(784,30,10)"
   ]
  },
  {
   "cell_type": "markdown",
   "metadata": {
    "deletable": true,
    "editable": true
   },
   "source": [
    "<b>Question 2.1.2</b>: Add the information about the performance of the neural network on the test set at each epoch"
   ]
  },
  {
   "cell_type": "code",
   "execution_count": 5,
   "metadata": {
    "collapsed": false,
    "deletable": true,
    "editable": true
   },
   "outputs": [
    {
     "name": "stdout",
     "output_type": "stream",
     "text": [
      "Test_Accuracy  10.94\n"
     ]
    }
   ],
   "source": [
    "test_accuracy=my_mnist_net.predict(test_data)/100\n",
    "print('Test_Accuracy  %-2.2f' % test_accuracy)"
   ]
  },
  {
   "cell_type": "code",
   "execution_count": 10,
   "metadata": {
    "collapsed": false,
    "deletable": true,
    "editable": true
   },
   "outputs": [
    {
     "name": "stdout",
     "output_type": "stream",
     "text": [
      "(10375.871706504429, 'error', 0)\n"
     ]
    },
    {
     "ename": "NameError",
     "evalue": "name 'data' is not defined",
     "output_type": "error",
     "traceback": [
      "\u001b[0;31m---------------------------------------------------------------------------\u001b[0m",
      "\u001b[0;31mNameError\u001b[0m                                 Traceback (most recent call last)",
      "\u001b[0;32m<ipython-input-10-617f971637ce>\u001b[0m in \u001b[0;36m<module>\u001b[0;34m()\u001b[0m\n\u001b[1;32m     16\u001b[0m         \u001b[0merror\u001b[0m\u001b[0;34m+=\u001b[0m\u001b[0mmy_mnist_net\u001b[0m\u001b[0;34m.\u001b[0m\u001b[0mbackPropagate\u001b[0m\u001b[0;34m(\u001b[0m\u001b[0mTarget\u001b[0m\u001b[0;34m)\u001b[0m\u001b[0;34m\u001b[0m\u001b[0m\n\u001b[1;32m     17\u001b[0m     \u001b[0;32mprint\u001b[0m\u001b[0;34m(\u001b[0m\u001b[0merror\u001b[0m\u001b[0;34m,\u001b[0m\u001b[0;34m'error'\u001b[0m\u001b[0;34m,\u001b[0m\u001b[0mit\u001b[0m\u001b[0;34m)\u001b[0m\u001b[0;34m\u001b[0m\u001b[0m\n\u001b[0;32m---> 18\u001b[0;31m     \u001b[0mTraining_accuracies\u001b[0m\u001b[0;34m.\u001b[0m\u001b[0mappend\u001b[0m\u001b[0;34m(\u001b[0m\u001b[0mmy_mnist_net\u001b[0m\u001b[0;34m.\u001b[0m\u001b[0mpredict\u001b[0m\u001b[0;34m(\u001b[0m\u001b[0mdata\u001b[0m\u001b[0;34m)\u001b[0m\u001b[0;34m)\u001b[0m\u001b[0;34m\u001b[0m\u001b[0m\n\u001b[0m\u001b[1;32m     19\u001b[0m     \u001b[0;32mprint\u001b[0m \u001b[0merror\u001b[0m\u001b[0;34m\u001b[0m\u001b[0m\n\u001b[1;32m     20\u001b[0m     \u001b[0merror\u001b[0m\u001b[0;34m=\u001b[0m\u001b[0merror\u001b[0m\u001b[0;34m/\u001b[0m\u001b[0mlen\u001b[0m\u001b[0;34m(\u001b[0m\u001b[0mdata\u001b[0m\u001b[0;34m)\u001b[0m\u001b[0;34m\u001b[0m\u001b[0m\n",
      "\u001b[0;31mNameError\u001b[0m: name 'data' is not defined"
     ]
    }
   ],
   "source": [
    "\n",
    "start_time = time.time()\n",
    "my_mnist_net.errors=[]\n",
    "Training_accuracies=[]\n",
    "\n",
    "for it in range(my_mnist_net.iterations):\n",
    "    np.random.shuffle(training_data)\n",
    "    inputs  = [entry[0] for entry in training_data ]\n",
    "    targets = [ entry[1] for entry in training_data ]\n",
    "\n",
    "    error=0.0 \n",
    "    for i in range(len(inputs)):\n",
    "        Input = inputs[i]\n",
    "        Target = targets[i]\n",
    "        print('starting feed forward')\n",
    "        my_mnist_net.feedForward(Input)\n",
    "        error+=my_mnist_net.backPropagate(Target)\n",
    "    print(error,'error',it)\n",
    "    Training_accuracies.append(my_mnist_net.predict(training_data))\n",
    "    print error\n",
    "    error=error/len(data)\n",
    "    my_mnist_net.errors.append(error)\n",
    "\n",
    "\n",
    "    print(\"Iteration: %2d/%2d[==============] -Error: %5.10f  -Training_Accuracy:  %2.2f  -time: %2.2f \"\n",
    "          %(it+1,my_mnist_net.iterations, error, (my_mnist_net.predict(data)/len(data))*100, time.time() - start_time))\n",
    "    # you can add test_accuracy and validation accuracy for visualisation \n",
    "\n",
    "plot_curve(range(1,self.iterations+1),my_mnist_net.errors, \"Error\")\n",
    "plot_curve(range(1,self.iterations+1), Training_accuracies, \"Training_Accuracy\")\n"
   ]
  },
  {
   "cell_type": "markdown",
   "metadata": {
    "deletable": true,
    "editable": true
   },
   "source": [
    "<b>Question 2.1.3</b>: Train the Neural Network and comment your findings"
   ]
  },
  {
   "cell_type": "code",
   "execution_count": 7,
   "metadata": {
    "collapsed": false,
    "deletable": true,
    "editable": true,
    "scrolled": true
   },
   "outputs": [
    {
     "name": "stdout",
     "output_type": "stream",
     "text": [
      "8094.47332206\n",
      "Iteration:  1/50[==============] -Error: 0.1618894664  -Training_Accuracy:  91.29  -time: 61.52 \n",
      "7096.65100946\n",
      "Iteration:  2/50[==============] -Error: 0.1419330202  -Training_Accuracy:  92.28  -time: 120.26 \n",
      "6463.58212354\n",
      "Iteration:  3/50[==============] -Error: 0.1292716425  -Training_Accuracy:  92.85  -time: 174.19 \n",
      "5992.05965182\n",
      "Iteration:  4/50[==============] -Error: 0.1198411930  -Training_Accuracy:  93.29  -time: 228.62 \n",
      "5627.47897449\n",
      "Iteration:  5/50[==============] -Error: 0.1125495795  -Training_Accuracy:  93.75  -time: 289.40 \n",
      "5340.82285798\n",
      "Iteration:  6/50[==============] -Error: 0.1068164572  -Training_Accuracy:  94.04  -time: 350.51 \n",
      "5111.38779217\n",
      "Iteration:  7/50[==============] -Error: 0.1022277558  -Training_Accuracy:  94.34  -time: 402.03 \n",
      "4896.54852035\n",
      "Iteration:  8/50[==============] -Error: 0.0979309704  -Training_Accuracy:  94.58  -time: 448.74 \n",
      "4729.34438883\n",
      "Iteration:  9/50[==============] -Error: 0.0945868878  -Training_Accuracy:  94.71  -time: 494.46 \n",
      "4570.16148213\n",
      "Iteration: 10/50[==============] -Error: 0.0914032296  -Training_Accuracy:  94.97  -time: 538.19 \n",
      "4428.99230881\n",
      "Iteration: 11/50[==============] -Error: 0.0885798462  -Training_Accuracy:  95.12  -time: 583.19 \n",
      "4294.99760839\n",
      "Iteration: 12/50[==============] -Error: 0.0858999522  -Training_Accuracy:  95.18  -time: 625.30 \n",
      "4179.08509866\n",
      "Iteration: 13/50[==============] -Error: 0.0835817020  -Training_Accuracy:  95.37  -time: 667.22 \n",
      "4061.07104475\n",
      "Iteration: 14/50[==============] -Error: 0.0812214209  -Training_Accuracy:  95.46  -time: 709.64 \n",
      "3974.39766421\n",
      "Iteration: 15/50[==============] -Error: 0.0794879533  -Training_Accuracy:  95.52  -time: 751.46 \n",
      "3871.70046355\n",
      "Iteration: 16/50[==============] -Error: 0.0774340093  -Training_Accuracy:  95.72  -time: 793.23 \n",
      "3782.15973787\n",
      "Iteration: 17/50[==============] -Error: 0.0756431948  -Training_Accuracy:  95.76  -time: 835.26 \n",
      "3705.00624102\n",
      "Iteration: 18/50[==============] -Error: 0.0741001248  -Training_Accuracy:  95.86  -time: 882.06 \n",
      "3606.45326546\n",
      "Iteration: 19/50[==============] -Error: 0.0721290653  -Training_Accuracy:  95.95  -time: 925.43 \n",
      "3558.92183474\n",
      "Iteration: 20/50[==============] -Error: 0.0711784367  -Training_Accuracy:  96.13  -time: 968.55 \n",
      "3469.4913945\n",
      "Iteration: 21/50[==============] -Error: 0.0693898279  -Training_Accuracy:  96.19  -time: 1010.38 \n",
      "3400.84240359\n",
      "Iteration: 22/50[==============] -Error: 0.0680168481  -Training_Accuracy:  96.23  -time: 1052.50 \n",
      "3338.97178619\n",
      "Iteration: 23/50[==============] -Error: 0.0667794357  -Training_Accuracy:  96.26  -time: 1095.00 \n",
      "3282.89898401\n",
      "Iteration: 24/50[==============] -Error: 0.0656579797  -Training_Accuracy:  96.38  -time: 1137.16 \n",
      "3227.42410504\n",
      "Iteration: 25/50[==============] -Error: 0.0645484821  -Training_Accuracy:  96.44  -time: 1179.24 \n",
      "3170.88056732\n",
      "Iteration: 26/50[==============] -Error: 0.0634176113  -Training_Accuracy:  96.54  -time: 1220.98 \n",
      "3129.33066718\n",
      "Iteration: 27/50[==============] -Error: 0.0625866133  -Training_Accuracy:  96.51  -time: 1262.72 \n",
      "3076.7601789\n",
      "Iteration: 28/50[==============] -Error: 0.0615352036  -Training_Accuracy:  96.58  -time: 1304.81 \n",
      "3025.54148147\n",
      "Iteration: 29/50[==============] -Error: 0.0605108296  -Training_Accuracy:  96.70  -time: 1346.48 \n",
      "2986.14317155\n",
      "Iteration: 30/50[==============] -Error: 0.0597228634  -Training_Accuracy:  96.68  -time: 1388.18 \n",
      "2931.68074666\n",
      "Iteration: 31/50[==============] -Error: 0.0586336149  -Training_Accuracy:  96.70  -time: 1430.38 \n",
      "2899.30288796\n",
      "Iteration: 32/50[==============] -Error: 0.0579860578  -Training_Accuracy:  96.81  -time: 1472.33 \n",
      "2854.8501145\n",
      "Iteration: 33/50[==============] -Error: 0.0570970023  -Training_Accuracy:  96.82  -time: 1514.53 \n",
      "2811.60744457\n",
      "Iteration: 34/50[==============] -Error: 0.0562321489  -Training_Accuracy:  96.86  -time: 1557.02 \n",
      "2784.50814143\n",
      "Iteration: 35/50[==============] -Error: 0.0556901628  -Training_Accuracy:  96.90  -time: 1598.94 \n",
      "2733.40656579\n",
      "Iteration: 36/50[==============] -Error: 0.0546681313  -Training_Accuracy:  96.92  -time: 1641.09 \n",
      "2704.82191258\n",
      "Iteration: 37/50[==============] -Error: 0.0540964383  -Training_Accuracy:  96.93  -time: 1683.65 \n",
      "2673.26741317\n",
      "Iteration: 38/50[==============] -Error: 0.0534653483  -Training_Accuracy:  97.03  -time: 1725.71 \n",
      "2645.68323048\n",
      "Iteration: 39/50[==============] -Error: 0.0529136646  -Training_Accuracy:  97.02  -time: 1770.05 \n",
      "2610.63010172\n",
      "Iteration: 40/50[==============] -Error: 0.0522126020  -Training_Accuracy:  97.02  -time: 1812.57 \n",
      "2567.90659072\n",
      "Iteration: 41/50[==============] -Error: 0.0513581318  -Training_Accuracy:  97.11  -time: 1854.22 \n",
      "2551.35373976\n",
      "Iteration: 42/50[==============] -Error: 0.0510270748  -Training_Accuracy:  97.07  -time: 1896.71 \n",
      "2518.96380136\n",
      "Iteration: 43/50[==============] -Error: 0.0503792760  -Training_Accuracy:  97.15  -time: 1939.23 \n",
      "2500.25080896\n",
      "Iteration: 44/50[==============] -Error: 0.0500050162  -Training_Accuracy:  97.10  -time: 1980.73 \n",
      "2471.00845374\n",
      "Iteration: 45/50[==============] -Error: 0.0494201691  -Training_Accuracy:  97.19  -time: 2022.56 \n",
      "2447.32905942\n",
      "Iteration: 46/50[==============] -Error: 0.0489465812  -Training_Accuracy:  97.15  -time: 2064.30 \n",
      "2421.00723697\n",
      "Iteration: 47/50[==============] -Error: 0.0484201447  -Training_Accuracy:  97.18  -time: 2110.09 \n",
      "2399.49128083\n",
      "Iteration: 48/50[==============] -Error: 0.0479898256  -Training_Accuracy:  97.24  -time: 2153.49 \n",
      "2368.51807565\n",
      "Iteration: 49/50[==============] -Error: 0.0473703615  -Training_Accuracy:  97.30  -time: 2195.44 \n",
      "2345.08319102\n",
      "Iteration: 50/50[==============] -Error: 0.0469016638  -Training_Accuracy:  97.25  -time: 2237.63 \n"
     ]
    },
    {
     "data": {
      "image/png": "[encoded data removed]",
      "text/plain": [
       "<matplotlib.figure.Figure at 0x7ff55d1715d0>"
      ]
     },
     "metadata": {},
     "output_type": "display_data"
    },
    {
     "data": {
      "image/png": "[encoded data removed]",
      "text/plain": [
       "<matplotlib.figure.Figure at 0x7ff55abb2710>"
      ]
     },
     "metadata": {},
     "output_type": "display_data"
    }
   ],
   "source": [
    "#train your network \n",
    "my_mnist_net.train(training_data,validation_data)\n",
    "\n",
    "#save your model in Models/ using a distinguishing name for your model (architecture, learning rate, etc...)\n"
   ]
  },
  {
   "cell_type": "markdown",
   "metadata": {
    "collapsed": true,
    "deletable": true,
    "editable": true
   },
   "source": [
    "#Note your observations here. "
   ]
  },
  {
   "cell_type": "markdown",
   "metadata": {
    "deletable": true,
    "editable": true
   },
   "source": [
    "<b>Question 2.1.4</b>: Guess digit, Implement and test a python function that predict the class of a digit (the folder images_test contains some examples of images of digits)\n"
   ]
  },
  {
   "cell_type": "code",
   "execution_count": null,
   "metadata": {
    "collapsed": false,
    "deletable": true,
    "editable": true
   },
   "outputs": [],
   "source": [
    "#Your implementation goes here\n",
    "\n",
    "\n",
    "\n",
    "\n",
    "\n",
    "\n",
    "\n",
    "\n",
    "\n",
    "\n",
    "\n",
    "\n"
   ]
  },
  {
   "cell_type": "markdown",
   "metadata": {
    "deletable": true,
    "editable": true
   },
   "source": [
    "<b>Part 2</b>: Change the neural network structure and parameters to optimize performance"
   ]
  },
  {
   "cell_type": "markdown",
   "metadata": {
    "collapsed": true,
    "deletable": true,
    "editable": true
   },
   "source": [
    "<b> Question 2.2.1</b>: Change the learning rate (0.001, 0.1, 1.0 , 10). Train the new neural nets with the original specifications (Part 2.1), for 50 iterations. \n",
    "Plot test accuracy vs iteration for each learning rate on the same graph. Report the maximum\n",
    "test accuracy achieved for each learning rate. Which one achieves the maximum test accuracy?"
   ]
  },
  {
   "cell_type": "code",
   "execution_count": null,
   "metadata": {
    "collapsed": false,
    "deletable": true,
    "editable": true
   },
   "outputs": [],
   "source": [
    "#Your implementation with a learning rate of 0.001 goes here \n",
    "\n",
    "\n",
    "\n",
    "\n",
    "\n",
    "\n",
    "\n",
    "\n",
    "\n",
    "\n",
    "\n",
    "\n",
    "\n",
    "\n"
   ]
  },
  {
   "cell_type": "code",
   "execution_count": null,
   "metadata": {
    "collapsed": true,
    "deletable": true,
    "editable": true
   },
   "outputs": [],
   "source": [
    "#Your implementation with a learning rate of 1.0 goes here \n",
    "\n",
    "\n",
    "\n",
    "\n",
    "\n",
    "\n",
    "\n",
    "\n",
    "\n",
    "\n",
    "\n",
    "\n",
    "\n",
    "\n",
    "\n",
    "\n",
    "\n"
   ]
  },
  {
   "cell_type": "code",
   "execution_count": null,
   "metadata": {
    "collapsed": true,
    "deletable": true,
    "editable": true
   },
   "outputs": [],
   "source": [
    "#Your implementation with a learning rate of 10 goes here \n",
    "\n",
    "\n",
    "\n",
    "\n",
    "\n",
    "\n",
    "\n",
    "\n",
    "\n",
    "\n",
    "\n",
    "\n",
    "\n",
    "\n",
    "\n",
    "\n",
    "\n",
    "\n",
    "\n"
   ]
  },
  {
   "cell_type": "markdown",
   "metadata": {
    "deletable": true,
    "editable": true
   },
   "source": [
    "#Your answer for Question 2.2.1 goes here"
   ]
  },
  {
   "cell_type": "markdown",
   "metadata": {
    "deletable": true,
    "editable": true
   },
   "source": [
    " <b> Question 2.2.2 : </b> initialize all weights to 0.  Plot the training accuracy curve.\n",
    "Comment your results\n",
    "    \n",
    "        "
   ]
  },
  {
   "cell_type": "code",
   "execution_count": null,
   "metadata": {
    "collapsed": true,
    "deletable": true,
    "editable": true
   },
   "outputs": [],
   "source": [
    "#Your implementation goes here\n",
    "\n",
    "\n",
    "\n",
    "\n",
    "\n",
    "\n",
    "\n",
    "\n",
    "\n",
    "\n",
    "\n",
    "\n",
    "\n",
    "\n",
    "\n"
   ]
  },
  {
   "cell_type": "markdown",
   "metadata": {
    "deletable": true,
    "editable": true
   },
   "source": [
    "#Your answer goes here"
   ]
  },
  {
   "cell_type": "markdown",
   "metadata": {
    "deletable": true,
    "editable": true
   },
   "source": [
    "<b> Question 2.2.3 : </b> Try with a different transfer function (such as tanh).\n",
    " File transfer_functions.py provides you the python implementation of the tanh function and its derivative"
   ]
  },
  {
   "cell_type": "code",
   "execution_count": null,
   "metadata": {
    "collapsed": true,
    "deletable": true,
    "editable": true
   },
   "outputs": [],
   "source": [
    "#Your implementation goes here\n",
    "\n",
    "\n",
    "\n",
    "\n",
    "\n",
    "\n",
    "\n",
    "\n",
    "\n",
    "\n",
    "\n",
    "\n",
    "\n",
    "\n",
    "\n"
   ]
  },
  {
   "cell_type": "markdown",
   "metadata": {
    "deletable": true,
    "editable": true
   },
   "source": [
    "#Your answer goes here"
   ]
  },
  {
   "cell_type": "markdown",
   "metadata": {
    "deletable": true,
    "editable": true
   },
   "source": [
    "\n",
    "<b> Question 2.2.4 : </b>  Add more neurons in the hidden layer (try with 100, 200, 300). Plot the curve representing the validation accuracy versus the number of neurons in the hidden layer.  (Choose and justify other hyper-parameters)"
   ]
  },
  {
   "cell_type": "code",
   "execution_count": null,
   "metadata": {
    "collapsed": true,
    "deletable": true,
    "editable": true
   },
   "outputs": [],
   "source": [
    "#Your implementation goes here\n",
    "\n",
    "\n",
    "\n",
    "\n",
    "\n",
    "\n",
    "\n",
    "\n",
    "\n",
    "\n",
    "\n",
    "\n",
    "\n",
    "\n",
    "\n",
    "\n",
    "\n",
    "\n",
    "\n",
    "\n",
    "\n",
    "\n"
   ]
  },
  {
   "cell_type": "markdown",
   "metadata": {
    "deletable": true,
    "editable": true
   },
   "source": [
    "#Your answer goes here"
   ]
  },
  {
   "cell_type": "markdown",
   "metadata": {
    "deletable": true,
    "editable": true
   },
   "source": [
    "<b> Question 2.2.5 : </b> Add one additionnal hidden layers and train your network, discuss your results with different setting. \n",
    "\n"
   ]
  },
  {
   "cell_type": "code",
   "execution_count": null,
   "metadata": {
    "collapsed": true,
    "deletable": true,
    "editable": true
   },
   "outputs": [],
   "source": [
    "#Your implementation goes here\n",
    "\n",
    "\n",
    "\n",
    "\n",
    "\n",
    "\n",
    "\n",
    "\n",
    "\n",
    "\n",
    "\n",
    "\n",
    "\n",
    "\n",
    "\n"
   ]
  },
  {
   "cell_type": "markdown",
   "metadata": {
    "deletable": true,
    "editable": true
   },
   "source": [
    "#Your answer goes here"
   ]
  },
  {
   "cell_type": "code",
   "execution_count": 14,
   "metadata": {
    "collapsed": false,
    "deletable": true,
    "editable": true,
    "scrolled": true
   },
   "outputs": [
    {
     "name": "stdout",
     "output_type": "stream",
     "text": [
      "(10,)\n",
      "target 10\n",
      "der (10,)\n",
      "u_E_out.shape float64\n",
      "w_E_out.shape (31, 10)\n",
      "u_E_hidden.shape (1, 30)\n",
      "w_E_hidden (785, 30)\n",
      "my_mnist_net.W_hidden_to_output.shape (31, 10)\n",
      "my_mnist_net.W_input_to_hidden.shape (785, 30)\n",
      "83350.2388001\n"
     ]
    }
   ],
   "source": [
    "\n",
    "inputs  = [entry[0] for entry in training_data ]\n",
    "targets = [ entry[1] for entry in training_data ]\n",
    "\n",
    "error=0.0 \n",
    "for i in range(1):\n",
    "    Input = inputs[i]\n",
    "    Target = targets[i]\n",
    "#     my_mnist_net.feedForward(Input)\n",
    "\n",
    "#     print(my_mnist_net.a_input.shape)\n",
    "    \n",
    "#     print len(my_mnist_net.a_hidden)\n",
    "    \n",
    "    # calculate error terms for output\n",
    "    u_E_out = (sigmoid(my_mnist_net.a_out)-Target)*(dsigmoid(my_mnist_net.a_out))\n",
    "    w_E_out = sigmoid(my_mnist_net.a_hidden).reshape(len(sigmoid(my_mnist_net.a_hidden)),1).dot(u_E_out.reshape(1,len(u_E_out)))\n",
    "    print sigmoid(my_mnist_net.a_out).shape\n",
    "    print 'target',len(Target)\n",
    "    print 'der',dsigmoid(my_mnist_net.a_out).shape\n",
    "#     print 'u_E_out',u_E_out\n",
    "    print 'u_E_out.shape',u_E_out.dtype\n",
    "    print 'w_E_out.shape',w_E_out.shape\n",
    "    # calculate error terms for hidden\n",
    "    u_E_hidden = my_mnist_net.W_hidden_to_output[:-1,:].dot(u_E_out)*(dsigmoid(my_mnist_net.a_hidden[:-1]))\n",
    "    u_E_hidden = u_E_hidden.reshape(1,len(u_E_hidden))\n",
    "#     print 'u_E_hidden',u_E_hidden\n",
    "    print 'u_E_hidden.shape',u_E_hidden.shape\n",
    "    w_E_hidden = my_mnist_net.a_input.reshape(len(my_mnist_net.a_input),1).dot(u_E_hidden)\n",
    "#     print 'w_E_hidden',w_E_hidden\n",
    "    print 'w_E_hidden',w_E_hidden.shape\n",
    "#     w_E_hidden = u_E_hidden.dot(my_mnist_net.a_input.reshape(1,len(my_mnist_net.a_input)))\n",
    "\n",
    "    # update output weights\n",
    "    my_mnist_net.W_hidden_to_output = my_mnist_net.W_hidden_to_output - my_mnist_net.learning_rate*w_E_out\n",
    "#     print 'my_mnist_net.W_hidden_to_output',my_mnist_net.W_hidden_to_output\n",
    "    print 'my_mnist_net.W_hidden_to_output.shape',my_mnist_net.W_hidden_to_output.shape\n",
    "    # update input weights\n",
    "    my_mnist_net.W_input_to_hidden = my_mnist_net.W_input_to_hidden - my_mnist_net.learning_rate*w_E_hidden\n",
    "#     print 'my_mnist_net.W_input_to_hidden',my_mnist_net.W_input_to_hidden\n",
    "    print 'my_mnist_net.W_input_to_hidden.shape',my_mnist_net.W_input_to_hidden.shape\n",
    "    # calculate error\n",
    "    print np.square(sigmoid(my_mnist_net.a_out)-targets).sum()"
   ]
  }
 ],
 "metadata": {
  "kernelspec": {
   "display_name": "Python 2",
   "language": "python",
   "name": "python2"
  },
  "language_info": {
   "codemirror_mode": {
    "name": "ipython",
    "version": 2
   },
   "file_extension": ".py",
   "mimetype": "text/x-python",
   "name": "python",
   "nbconvert_exporter": "python",
   "pygments_lexer": "ipython2",
   "version": "2.7.13"
  }
 },
 "nbformat": 4,
 "nbformat_minor": 2
}
